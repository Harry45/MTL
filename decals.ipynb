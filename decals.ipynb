{
 "cells": [
  {
   "cell_type": "code",
   "execution_count": 1,
   "id": "e0d8c346",
   "metadata": {},
   "outputs": [],
   "source": [
    "import os\n",
    "import pandas as pd \n",
    "import numpy as np \n",
    "\n",
    "# visualisation\n",
    "import matplotlib.pylab as plt\n",
    "import matplotlib.font_manager as fm\n",
    "\n",
    "# our scripts \n",
    "import src.processing as sp \n",
    "import settings as st\n",
    "import utils.helpers as hp\n",
    "import utils.imaging as ui"
   ]
  },
  {
   "cell_type": "markdown",
   "id": "e3908615",
   "metadata": {},
   "source": [
    "### Correct for the locations of the images "
   ]
  },
  {
   "cell_type": "code",
   "execution_count": 2,
   "id": "2efe43ae",
   "metadata": {},
   "outputs": [],
   "source": [
    "%%capture\n",
    "!git pull"
   ]
  },
  {
   "cell_type": "code",
   "execution_count": 3,
   "id": "ded163c3",
   "metadata": {},
   "outputs": [],
   "source": [
    "# dr5_desc = sp.correct_location('gz_decals_volunteers_5', save = True, filename='dr5_votes')"
   ]
  },
  {
   "cell_type": "markdown",
   "id": "dec703af",
   "metadata": {},
   "source": [
    "### The data with the votes"
   ]
  },
  {
   "cell_type": "code",
   "execution_count": 2,
   "id": "e780e5b1",
   "metadata": {},
   "outputs": [],
   "source": [
    "dataframe = hp.read_parquet(st.DATA_DIR, 'descriptions/dr5_votes')"
   ]
  },
  {
   "cell_type": "code",
   "execution_count": 3,
   "id": "8e31616a",
   "metadata": {},
   "outputs": [],
   "source": [
    "labels = sp.generate_labels(dataframe, save=False)"
   ]
  },
  {
   "cell_type": "code",
   "execution_count": 4,
   "id": "4aa5540a",
   "metadata": {},
   "outputs": [
    {
     "data": {
      "text/html": [
       "<div>\n",
       "<style scoped>\n",
       "    .dataframe tbody tr th:only-of-type {\n",
       "        vertical-align: middle;\n",
       "    }\n",
       "\n",
       "    .dataframe tbody tr th {\n",
       "        vertical-align: top;\n",
       "    }\n",
       "\n",
       "    .dataframe thead th {\n",
       "        text-align: right;\n",
       "    }\n",
       "</style>\n",
       "<table border=\"1\" class=\"dataframe\">\n",
       "  <thead>\n",
       "    <tr style=\"text-align: right;\">\n",
       "      <th></th>\n",
       "      <th>iauname</th>\n",
       "      <th>png_loc</th>\n",
       "      <th>Smooth</th>\n",
       "      <th>Featured or Disk</th>\n",
       "      <th>Artifact</th>\n",
       "      <th>Round</th>\n",
       "      <th>In Between</th>\n",
       "      <th>Cigar Shaped</th>\n",
       "      <th>Edge On Disk (Yes)</th>\n",
       "      <th>Edge On Disk (No)</th>\n",
       "      <th>...</th>\n",
       "      <th>Spiral Arms (2)</th>\n",
       "      <th>Spiral Arms (3)</th>\n",
       "      <th>Spiral Arms (4)</th>\n",
       "      <th>Spiral Arms (More Than 4)</th>\n",
       "      <th>Spiral Arms (cannot tell)</th>\n",
       "      <th>Central Bulge (None)</th>\n",
       "      <th>Central Bulge (Small)</th>\n",
       "      <th>Central Bulge (Moderate)</th>\n",
       "      <th>Central Bulge (Large)</th>\n",
       "      <th>Central Bulge (Dominant)</th>\n",
       "    </tr>\n",
       "  </thead>\n",
       "  <tbody>\n",
       "    <tr>\n",
       "      <th>0</th>\n",
       "      <td>J112953.88-000427.4</td>\n",
       "      <td>J112/J112953.88-000427.4.png</td>\n",
       "      <td>1</td>\n",
       "      <td>0</td>\n",
       "      <td>0</td>\n",
       "      <td>0</td>\n",
       "      <td>0</td>\n",
       "      <td>1</td>\n",
       "      <td>0</td>\n",
       "      <td>1</td>\n",
       "      <td>...</td>\n",
       "      <td>0</td>\n",
       "      <td>0</td>\n",
       "      <td>0</td>\n",
       "      <td>0</td>\n",
       "      <td>1</td>\n",
       "      <td>0</td>\n",
       "      <td>0</td>\n",
       "      <td>1</td>\n",
       "      <td>0</td>\n",
       "      <td>0</td>\n",
       "    </tr>\n",
       "    <tr>\n",
       "      <th>1</th>\n",
       "      <td>J104325.29+190335.0</td>\n",
       "      <td>J104/J104325.29+190335.0.png</td>\n",
       "      <td>1</td>\n",
       "      <td>0</td>\n",
       "      <td>0</td>\n",
       "      <td>0</td>\n",
       "      <td>1</td>\n",
       "      <td>0</td>\n",
       "      <td>0</td>\n",
       "      <td>1</td>\n",
       "      <td>...</td>\n",
       "      <td>0</td>\n",
       "      <td>0</td>\n",
       "      <td>0</td>\n",
       "      <td>0</td>\n",
       "      <td>0</td>\n",
       "      <td>0</td>\n",
       "      <td>0</td>\n",
       "      <td>1</td>\n",
       "      <td>0</td>\n",
       "      <td>1</td>\n",
       "    </tr>\n",
       "    <tr>\n",
       "      <th>2</th>\n",
       "      <td>J104629.54+115415.1</td>\n",
       "      <td>J104/J104629.54+115415.1.png</td>\n",
       "      <td>0</td>\n",
       "      <td>1</td>\n",
       "      <td>0</td>\n",
       "      <td>0</td>\n",
       "      <td>1</td>\n",
       "      <td>0</td>\n",
       "      <td>0</td>\n",
       "      <td>1</td>\n",
       "      <td>...</td>\n",
       "      <td>1</td>\n",
       "      <td>0</td>\n",
       "      <td>0</td>\n",
       "      <td>0</td>\n",
       "      <td>0</td>\n",
       "      <td>0</td>\n",
       "      <td>1</td>\n",
       "      <td>1</td>\n",
       "      <td>0</td>\n",
       "      <td>0</td>\n",
       "    </tr>\n",
       "    <tr>\n",
       "      <th>3</th>\n",
       "      <td>J082950.68+125621.8</td>\n",
       "      <td>J082/J082950.68+125621.8.png</td>\n",
       "      <td>0</td>\n",
       "      <td>1</td>\n",
       "      <td>0</td>\n",
       "      <td>0</td>\n",
       "      <td>0</td>\n",
       "      <td>1</td>\n",
       "      <td>1</td>\n",
       "      <td>0</td>\n",
       "      <td>...</td>\n",
       "      <td>0</td>\n",
       "      <td>0</td>\n",
       "      <td>0</td>\n",
       "      <td>0</td>\n",
       "      <td>0</td>\n",
       "      <td>0</td>\n",
       "      <td>0</td>\n",
       "      <td>0</td>\n",
       "      <td>0</td>\n",
       "      <td>0</td>\n",
       "    </tr>\n",
       "    <tr>\n",
       "      <th>4</th>\n",
       "      <td>J122056.00-015022.0</td>\n",
       "      <td>J122/J122056.00-015022.0.png</td>\n",
       "      <td>0</td>\n",
       "      <td>1</td>\n",
       "      <td>0</td>\n",
       "      <td>0</td>\n",
       "      <td>1</td>\n",
       "      <td>0</td>\n",
       "      <td>0</td>\n",
       "      <td>1</td>\n",
       "      <td>...</td>\n",
       "      <td>1</td>\n",
       "      <td>0</td>\n",
       "      <td>0</td>\n",
       "      <td>0</td>\n",
       "      <td>0</td>\n",
       "      <td>0</td>\n",
       "      <td>0</td>\n",
       "      <td>1</td>\n",
       "      <td>0</td>\n",
       "      <td>0</td>\n",
       "    </tr>\n",
       "  </tbody>\n",
       "</table>\n",
       "<p>5 rows × 36 columns</p>\n",
       "</div>"
      ],
      "text/plain": [
       "               iauname                       png_loc  Smooth  \\\n",
       "0  J112953.88-000427.4  J112/J112953.88-000427.4.png       1   \n",
       "1  J104325.29+190335.0  J104/J104325.29+190335.0.png       1   \n",
       "2  J104629.54+115415.1  J104/J104629.54+115415.1.png       0   \n",
       "3  J082950.68+125621.8  J082/J082950.68+125621.8.png       0   \n",
       "4  J122056.00-015022.0  J122/J122056.00-015022.0.png       0   \n",
       "\n",
       "   Featured or Disk  Artifact  Round  In Between  Cigar Shaped  \\\n",
       "0                 0         0      0           0             1   \n",
       "1                 0         0      0           1             0   \n",
       "2                 1         0      0           1             0   \n",
       "3                 1         0      0           0             1   \n",
       "4                 1         0      0           1             0   \n",
       "\n",
       "   Edge On Disk (Yes)  Edge On Disk (No)  ...  Spiral Arms (2)  \\\n",
       "0                   0                  1  ...                0   \n",
       "1                   0                  1  ...                0   \n",
       "2                   0                  1  ...                1   \n",
       "3                   1                  0  ...                0   \n",
       "4                   0                  1  ...                1   \n",
       "\n",
       "   Spiral Arms (3)  Spiral Arms (4)  Spiral Arms (More Than 4)  \\\n",
       "0                0                0                          0   \n",
       "1                0                0                          0   \n",
       "2                0                0                          0   \n",
       "3                0                0                          0   \n",
       "4                0                0                          0   \n",
       "\n",
       "   Spiral Arms (cannot tell)  Central Bulge (None)  Central Bulge (Small)  \\\n",
       "0                          1                     0                      0   \n",
       "1                          0                     0                      0   \n",
       "2                          0                     0                      1   \n",
       "3                          0                     0                      0   \n",
       "4                          0                     0                      0   \n",
       "\n",
       "   Central Bulge (Moderate)  Central Bulge (Large)  Central Bulge (Dominant)  \n",
       "0                         1                      0                         0  \n",
       "1                         1                      0                         1  \n",
       "2                         1                      0                         0  \n",
       "3                         0                      0                         0  \n",
       "4                         1                      0                         0  \n",
       "\n",
       "[5 rows x 36 columns]"
      ]
     },
     "execution_count": 4,
     "metadata": {},
     "output_type": "execute_result"
    }
   ],
   "source": [
    "labels.head()"
   ]
  },
  {
   "cell_type": "code",
   "execution_count": 5,
   "id": "a3475f76",
   "metadata": {},
   "outputs": [],
   "source": [
    "# labels.to_csv('ml/labels.csv')"
   ]
  },
  {
   "cell_type": "markdown",
   "id": "fda975a3",
   "metadata": {},
   "source": [
    "# Calculate the weights per class"
   ]
  },
  {
   "cell_type": "code",
   "execution_count": 5,
   "id": "495df2e8",
   "metadata": {},
   "outputs": [],
   "source": [
    "labels_num = labels.iloc[:,2:]\n",
    "weights = labels_num.sum(axis=0)\n",
    "inv_weights = 1/weights\n",
    "inv_weights_norm = inv_weights/inv_weights.sum()"
   ]
  },
  {
   "cell_type": "code",
   "execution_count": 6,
   "id": "0a56736f",
   "metadata": {},
   "outputs": [
    {
     "data": {
      "text/plain": [
       "Smooth                         0.002821\n",
       "Featured or Disk               0.005690\n",
       "Artifact                       0.057493\n",
       "Round                          0.006431\n",
       "In Between                     0.003816\n",
       "Cigar Shaped                   0.011399\n",
       "Edge On Disk (Yes)             0.010705\n",
       "Edge On Disk (No)              0.003131\n",
       "Merging (Merger)               0.024418\n",
       "Merging (Major Disturbance)    0.041934\n",
       "Merging (Minor Disturbance)    0.017971\n",
       "Merging (None)                 0.002253\n",
       "Bulge (Rounded)                0.008159\n",
       "Bulge (Boxy)                   0.057669\n",
       "Bulge (None)                   0.023825\n",
       "No Bar                         0.003642\n",
       "Weak Bar                       0.014607\n",
       "Strong Bar                     0.029243\n",
       "Spiral Arms (Yes)              0.006750\n",
       "Spiral Arms (No)               0.004657\n",
       "Spiral Winding (Tight)         0.010099\n",
       "Spiral Winding (Medium)        0.013962\n",
       "Spiral Winding (Loose)         0.020519\n",
       "Spiral Arms (1)                0.055613\n",
       "Spiral Arms (2)                0.009501\n",
       "Spiral Arms (3)                0.061095\n",
       "Spiral Arms (4)                0.147557\n",
       "Spiral Arms (More Than 4)      0.187171\n",
       "Spiral Arms (cannot tell)      0.015082\n",
       "Central Bulge (None)           0.027930\n",
       "Central Bulge (Small)          0.008518\n",
       "Central Bulge (Moderate)       0.005348\n",
       "Central Bulge (Large)          0.018162\n",
       "Central Bulge (Dominant)       0.082830\n",
       "dtype: float64"
      ]
     },
     "execution_count": 6,
     "metadata": {},
     "output_type": "execute_result"
    }
   ],
   "source": [
    "inv_weights_norm"
   ]
  },
  {
   "cell_type": "markdown",
   "id": "b1dad25e",
   "metadata": {},
   "source": [
    "# Split into train, test and validate"
   ]
  },
  {
   "cell_type": "code",
   "execution_count": 8,
   "id": "9195708f",
   "metadata": {},
   "outputs": [],
   "source": [
    "train_val_test = sp.split_data(labels, 0.05, 0.15, save=False)"
   ]
  },
  {
   "cell_type": "code",
   "execution_count": 9,
   "id": "33d52856",
   "metadata": {},
   "outputs": [
    {
     "data": {
      "text/plain": [
       "(202628, 36)"
      ]
     },
     "execution_count": 9,
     "metadata": {},
     "output_type": "execute_result"
    }
   ],
   "source": [
    "train_val_test['train'].shape"
   ]
  },
  {
   "cell_type": "code",
   "execution_count": 10,
   "id": "5f011b84",
   "metadata": {},
   "outputs": [
    {
     "data": {
      "text/plain": [
       "(12665, 36)"
      ]
     },
     "execution_count": 10,
     "metadata": {},
     "output_type": "execute_result"
    }
   ],
   "source": [
    "train_val_test['validate'].shape"
   ]
  },
  {
   "cell_type": "code",
   "execution_count": 11,
   "id": "ed4dbdef",
   "metadata": {},
   "outputs": [
    {
     "data": {
      "text/plain": [
       "(37993, 36)"
      ]
     },
     "execution_count": 11,
     "metadata": {},
     "output_type": "execute_result"
    }
   ],
   "source": [
    "train_val_test['test'].shape"
   ]
  },
  {
   "cell_type": "code",
   "execution_count": 12,
   "id": "a4ef30d0",
   "metadata": {},
   "outputs": [
    {
     "data": {
      "text/plain": [
       "(253286, 36)"
      ]
     },
     "execution_count": 12,
     "metadata": {},
     "output_type": "execute_result"
    }
   ],
   "source": [
    "labels.shape"
   ]
  },
  {
   "cell_type": "markdown",
   "id": "fb9c2109",
   "metadata": {},
   "source": [
    "### DataLoader"
   ]
  },
  {
   "cell_type": "code",
   "execution_count": 3,
   "id": "288d167a",
   "metadata": {},
   "outputs": [],
   "source": [
    "from src.dataset import DECaLSDataset\n",
    "from torch.utils.data import Dataset, DataLoader"
   ]
  },
  {
   "cell_type": "code",
   "execution_count": 4,
   "id": "cac02d39",
   "metadata": {},
   "outputs": [
    {
     "name": "stdout",
     "output_type": "stream",
     "text": [
      "The number of training points is 189963\n"
     ]
    }
   ],
   "source": [
    "traindataset = DECaLSDataset(mode = 'train', augment = False, multi_task = True)"
   ]
  },
  {
   "cell_type": "code",
   "execution_count": 10,
   "id": "62fade91",
   "metadata": {},
   "outputs": [],
   "source": [
    "train_loader = DataLoader(dataset=traindataset, batch_size=4, shuffle=True)"
   ]
  },
  {
   "cell_type": "code",
   "execution_count": 11,
   "id": "ede39e1a",
   "metadata": {},
   "outputs": [],
   "source": [
    "dataiter = iter(train_loader)"
   ]
  },
  {
   "cell_type": "code",
   "execution_count": 12,
   "id": "1b11238b",
   "metadata": {},
   "outputs": [],
   "source": [
    "data = dataiter.next()"
   ]
  },
  {
   "cell_type": "code",
   "execution_count": 20,
   "id": "d80a8d34",
   "metadata": {},
   "outputs": [
    {
     "data": {
      "text/plain": [
       "array(['Featured or Disk', 'Edge On Disk (Yes)', 'Bulge (Rounded)',\n",
       "       'Merging (None)'], dtype='<U27')"
      ]
     },
     "execution_count": 20,
     "metadata": {},
     "output_type": "execute_result"
    }
   ],
   "source": [
    "sp.find_labels({'task_'+str(i+1): data[1][i][2].tolist() for i in range(10)})"
   ]
  },
  {
   "cell_type": "markdown",
   "id": "24518481",
   "metadata": {},
   "source": [
    "# Test Network"
   ]
  },
  {
   "cell_type": "code",
   "execution_count": 336,
   "id": "922bf1f3",
   "metadata": {},
   "outputs": [],
   "source": [
    "import os\n",
    "import torch\n",
    "import torch.nn as nn\n",
    "from torch.utils.data import Dataset, DataLoader\n",
    "from torch.utils.tensorboard import SummaryWriter\n",
    "\n",
    "# our scripts and functions\n",
    "from src.network import MultiLabelNet, MultiTaskNet\n",
    "from src.dataset import DECaLSDataset\n",
    "import settings as st"
   ]
  },
  {
   "cell_type": "code",
   "execution_count": 337,
   "id": "d4022073",
   "metadata": {},
   "outputs": [
    {
     "name": "stdout",
     "output_type": "stream",
     "text": [
      "The number of training points is 202628\n",
      "The number of validation points is 12665\n"
     ]
    }
   ],
   "source": [
    "out_path = './output/'\n",
    "os.makedirs(out_path, exist_ok=True)\n",
    "\n",
    "# Set device to CUDA if a CUDA device is available, else CPU\n",
    "device = torch.device('cuda' if torch.cuda.is_available() else 'cpu')\n",
    "\n",
    "# create the dataloader\n",
    "train_dataset = DECaLSDataset(mode='train', augment=False, multi_task = True)\n",
    "val_dataset = DECaLSDataset(mode='validate', augment=False, multi_task = True)\n",
    "\n",
    "train_loader = DataLoader(dataset=train_dataset, batch_size=4, shuffle=True)\n",
    "val_loader = DataLoader(dataset=val_dataset, batch_size=4, shuffle=False)"
   ]
  },
  {
   "cell_type": "code",
   "execution_count": 3,
   "id": "dbfdf2de",
   "metadata": {},
   "outputs": [],
   "source": [
    "# %%capture\n",
    "# model = MultiLabelNet(backbone=\"resnet18\")\n",
    "# model.to(device)"
   ]
  },
  {
   "cell_type": "code",
   "execution_count": 338,
   "id": "5ad195bd",
   "metadata": {},
   "outputs": [],
   "source": [
    "LABELS_PER_TASK = {'task_1': 3,\n",
    "                   'task_2': 3,\n",
    "                   'task_3': 2,\n",
    "                   'task_4': 4,\n",
    "                   'task_5': 3,\n",
    "                   'task_6': 3,\n",
    "                   'task_7': 2,\n",
    "                   'task_8': 3,\n",
    "                   'task_9': 6,\n",
    "                   'task_10': 5\n",
    "                   }"
   ]
  },
  {
   "cell_type": "code",
   "execution_count": 339,
   "id": "bad965cd",
   "metadata": {},
   "outputs": [],
   "source": [
    "%%capture\n",
    "model = MultiTaskNet(backbone=\"resnet18\", output_size=LABELS_PER_TASK, resnet_task = True)\n",
    "model.to(device)"
   ]
  },
  {
   "cell_type": "code",
   "execution_count": 6,
   "id": "70544443",
   "metadata": {},
   "outputs": [],
   "source": [
    "data = next(iter(train_loader))"
   ]
  },
  {
   "cell_type": "code",
   "execution_count": 7,
   "id": "39afa8e7",
   "metadata": {},
   "outputs": [],
   "source": [
    "def criterion(loss, outputs: nn.ModuleDict, labels: dict) -> torch.tensor:\n",
    "    losses = 0\n",
    "    for i, key in enumerate(outputs):\n",
    "        # print(outputs[key])\n",
    "        # print(labels[key])\n",
    "        losses += loss(outputs[key], labels[key].float().to(device))\n",
    "    return losses"
   ]
  },
  {
   "cell_type": "code",
   "execution_count": 7,
   "id": "0ef686ab",
   "metadata": {},
   "outputs": [],
   "source": [
    "outputs = model(data[0].to(device))"
   ]
  },
  {
   "cell_type": "code",
   "execution_count": 8,
   "id": "25420a23",
   "metadata": {},
   "outputs": [],
   "source": [
    "outputs = model(data[0].to(device))\n",
    "labels = data[1]\n",
    "loss = nn.BCEWithLogitsLoss()\n",
    "l = criterion(loss, outputs, labels)"
   ]
  },
  {
   "cell_type": "markdown",
   "id": "3b23f651",
   "metadata": {},
   "source": [
    "# If We Want to Use Shared Representation\n",
    "\n",
    "- Also implemented a ResNet in 1D. "
   ]
  },
  {
   "cell_type": "code",
   "execution_count": null,
   "id": "d4286675",
   "metadata": {},
   "outputs": [],
   "source": [
    "import torch.nn.functional as F"
   ]
  },
  {
   "cell_type": "code",
   "execution_count": 26,
   "id": "0956f546",
   "metadata": {},
   "outputs": [],
   "source": [
    "tf_last_layer_chopped = nn.Sequential(*list(model.children())[:-1])"
   ]
  },
  {
   "cell_type": "code",
   "execution_count": 32,
   "id": "86adb2bb",
   "metadata": {},
   "outputs": [],
   "source": [
    "feat = tf_last_layer_chopped(data[0].to(device))"
   ]
  },
  {
   "cell_type": "code",
   "execution_count": 34,
   "id": "47e58691",
   "metadata": {},
   "outputs": [],
   "source": [
    "f = feat.to('cpu')"
   ]
  },
  {
   "cell_type": "code",
   "execution_count": 69,
   "id": "c008f033",
   "metadata": {},
   "outputs": [],
   "source": [
    "conv1 = nn.Conv1d(1, 1, kernel_size=3, stride=2, padding = (3 - 1)//2)\n",
    "bn1 = nn.BatchNorm1d(1)\n",
    "conv2 = nn.Conv1d(1, 1, kernel_size=3, stride=2, padding = (3 - 1)//2)\n",
    "bn2 = nn.BatchNorm1d(1)"
   ]
  },
  {
   "cell_type": "code",
   "execution_count": 99,
   "id": "665b42a0",
   "metadata": {},
   "outputs": [],
   "source": [
    "features = f.unsqueeze(1)"
   ]
  },
  {
   "cell_type": "code",
   "execution_count": 100,
   "id": "5680eae5",
   "metadata": {},
   "outputs": [],
   "source": [
    "out = conv1(features)\n",
    "out = bn1(out)\n",
    "out = F.relu(out)\n",
    "out = conv2(out)\n",
    "out = bn2(out)"
   ]
  },
  {
   "cell_type": "code",
   "execution_count": 101,
   "id": "00a4645b",
   "metadata": {},
   "outputs": [],
   "source": [
    "nout = out.shape[-1]\n",
    "nfeat = features.shape[-1]\n",
    "left = (1000 - nout) // 2\n",
    "right = 1000 - left - nout"
   ]
  },
  {
   "cell_type": "code",
   "execution_count": 102,
   "id": "2f13b6c9",
   "metadata": {},
   "outputs": [],
   "source": [
    "out = F.pad(input=out, pad=(left, right), mode='constant', value=0)"
   ]
  },
  {
   "cell_type": "code",
   "execution_count": 103,
   "id": "50a0d8c8",
   "metadata": {},
   "outputs": [],
   "source": [
    "out += features\n",
    "out = F.relu(out)"
   ]
  },
  {
   "cell_type": "code",
   "execution_count": 107,
   "id": "4f3fb4f9",
   "metadata": {},
   "outputs": [],
   "source": [
    "out = conv1(out)\n",
    "out = bn1(out)\n",
    "out = F.relu(out)\n",
    "out = conv2(out)\n",
    "out = bn2(out)"
   ]
  },
  {
   "cell_type": "code",
   "execution_count": 108,
   "id": "e9315513",
   "metadata": {},
   "outputs": [
    {
     "data": {
      "text/plain": [
       "torch.Size([4, 1, 250])"
      ]
     },
     "execution_count": 108,
     "metadata": {},
     "output_type": "execute_result"
    }
   ],
   "source": [
    "out.shape"
   ]
  },
  {
   "cell_type": "code",
   "execution_count": 138,
   "id": "1c4391ff",
   "metadata": {},
   "outputs": [],
   "source": [
    "resnet_layer = nn.Sequential(*list(model.children())[:-1])"
   ]
  },
  {
   "cell_type": "code",
   "execution_count": 135,
   "id": "eec1757b",
   "metadata": {},
   "outputs": [],
   "source": [
    "model_1 = nn.Sequential(*list(model.children())[1]['task_1'].layers[:-1])"
   ]
  },
  {
   "cell_type": "code",
   "execution_count": 137,
   "id": "ac17246a",
   "metadata": {},
   "outputs": [],
   "source": [
    "# from torchsummary import summary\n",
    "# summary(model, (1, 224, 224))"
   ]
  },
  {
   "cell_type": "code",
   "execution_count": 1,
   "id": "0cfc015d",
   "metadata": {},
   "outputs": [],
   "source": [
    "import os"
   ]
  },
  {
   "cell_type": "code",
   "execution_count": 2,
   "id": "f6a90b6a",
   "metadata": {},
   "outputs": [
    {
     "data": {
      "text/plain": [
       "'a/b/c'"
      ]
     },
     "execution_count": 2,
     "metadata": {},
     "output_type": "execute_result"
    }
   ],
   "source": [
    "os.path.join('a', 'b', 'c')"
   ]
  },
  {
   "cell_type": "markdown",
   "id": "a1848e4e",
   "metadata": {},
   "source": [
    "# Embedding Vector"
   ]
  },
  {
   "cell_type": "code",
   "execution_count": 74,
   "id": "3a8e60a9",
   "metadata": {},
   "outputs": [],
   "source": [
    "import torch\n",
    "import torch.nn as nn \n",
    "from src.network import MultiLabelNet\n",
    "from src.dataset import DECaLSDataset\n",
    "from torch.utils.data import DataLoader\n",
    "import settings as st\n",
    "\n",
    "import os\n",
    "from PIL import Image\n",
    "import matplotlib.pylab as plt"
   ]
  },
  {
   "cell_type": "code",
   "execution_count": 75,
   "id": "8e42e0ea",
   "metadata": {},
   "outputs": [],
   "source": [
    "device = torch.device('cuda' if torch.cuda.is_available() else 'cpu')"
   ]
  },
  {
   "cell_type": "code",
   "execution_count": 76,
   "id": "d375e5d9",
   "metadata": {},
   "outputs": [
    {
     "name": "stderr",
     "output_type": "stream",
     "text": [
      "UsageError: Line magic function `%%capture` not found.\n"
     ]
    }
   ],
   "source": [
    "# load the model\n",
    "%%capture\n",
    "loaded_model = torch.load('../ml-models/resnet_18_multilabel_24.pth')\n",
    "model = MultiLabelNet(backbone=\"resnet18\")\n",
    "model.to(device)\n",
    "model.load_state_dict(loaded_model)\n",
    "model.eval()"
   ]
  },
  {
   "cell_type": "code",
   "execution_count": 77,
   "id": "719b2b3b",
   "metadata": {},
   "outputs": [],
   "source": [
    "tf_last_layer_chopped = nn.Sequential(*list(model.children())[:-1])"
   ]
  },
  {
   "cell_type": "code",
   "execution_count": 78,
   "id": "876d4b16",
   "metadata": {},
   "outputs": [
    {
     "name": "stdout",
     "output_type": "stream",
     "text": [
      "The number of test points is 50658\n"
     ]
    }
   ],
   "source": [
    "test_dataset = DECaLSDataset(mode='test', augment=False)\n",
    "test_loader = DataLoader(dataset=test_dataset, batch_size=1, shuffle=False)"
   ]
  },
  {
   "cell_type": "code",
   "execution_count": 96,
   "id": "9643de59",
   "metadata": {},
   "outputs": [],
   "source": [
    "d1 = test_loader.dataset[0]\n",
    "d2 = test_loader.dataset[1]\n",
    "d3 = test_loader.dataset[2]\n",
    "d4 = test_loader.dataset[3]"
   ]
  },
  {
   "cell_type": "code",
   "execution_count": 97,
   "id": "e167cadc",
   "metadata": {},
   "outputs": [],
   "source": [
    "o1 = tf_last_layer_chopped(d1[0].view(1,1,224,224).to(device))\n",
    "o2 = tf_last_layer_chopped(d2[0].view(1,1,224,224).to(device))\n",
    "o3 = tf_last_layer_chopped(d3[0].view(1,1,224,224).to(device))\n",
    "o4 = tf_last_layer_chopped(d4[0].view(1,1,224,224).to(device))"
   ]
  },
  {
   "cell_type": "code",
   "execution_count": 81,
   "id": "4a173191",
   "metadata": {},
   "outputs": [
    {
     "data": {
      "text/plain": [
       "tensor([1, 0, 0, 0, 1, 1, 0, 1, 1, 0, 0, 1, 0, 0, 0, 0, 1, 0, 0, 0, 0, 0, 1, 1,\n",
       "        0, 1, 0, 0, 0, 0, 1, 0, 0, 0])"
      ]
     },
     "execution_count": 81,
     "metadata": {},
     "output_type": "execute_result"
    }
   ],
   "source": [
    "d1[1]"
   ]
  },
  {
   "cell_type": "code",
   "execution_count": 82,
   "id": "60f0f22b",
   "metadata": {},
   "outputs": [
    {
     "data": {
      "text/plain": [
       "tensor([1, 0, 0, 0, 0, 0, 0, 0, 0, 0, 0, 0, 0, 0, 0, 1, 0, 0, 0, 0, 0, 0, 0, 0,\n",
       "        0, 0, 0, 0, 0, 0, 1, 0, 0, 0])"
      ]
     },
     "execution_count": 82,
     "metadata": {},
     "output_type": "execute_result"
    }
   ],
   "source": [
    "d2[1]"
   ]
  },
  {
   "cell_type": "code",
   "execution_count": 83,
   "id": "e44159a1",
   "metadata": {},
   "outputs": [
    {
     "data": {
      "text/plain": [
       "tensor([0, 1, 0, 0, 1, 1, 0, 0, 0, 1, 0, 0, 0, 1, 0, 0, 0, 0, 0, 0, 1, 0, 1, 0,\n",
       "        0, 0, 0, 0, 0, 0, 1, 0, 0, 0])"
      ]
     },
     "execution_count": 83,
     "metadata": {},
     "output_type": "execute_result"
    }
   ],
   "source": [
    "d3[1]"
   ]
  },
  {
   "cell_type": "code",
   "execution_count": 98,
   "id": "44f518bb",
   "metadata": {},
   "outputs": [
    {
     "data": {
      "text/plain": [
       "tensor([0, 1, 0, 0, 1, 1, 0, 0, 0, 1, 0, 0, 1, 0, 0, 0, 1, 0, 0, 0, 0, 1, 0, 0,\n",
       "        0, 0, 0, 0, 0, 1, 0, 0, 0, 0])"
      ]
     },
     "execution_count": 98,
     "metadata": {},
     "output_type": "execute_result"
    }
   ],
   "source": [
    "d4[1]"
   ]
  },
  {
   "cell_type": "markdown",
   "id": "adf17364",
   "metadata": {},
   "source": [
    "### Pairwise Distance"
   ]
  },
  {
   "cell_type": "code",
   "execution_count": 92,
   "id": "7cb00d61",
   "metadata": {},
   "outputs": [],
   "source": [
    "pdist = nn.PairwiseDistance(p=2)"
   ]
  },
  {
   "cell_type": "code",
   "execution_count": 93,
   "id": "c56f9cb3",
   "metadata": {},
   "outputs": [
    {
     "data": {
      "text/plain": [
       "tensor([7.0306], device='cuda:0', grad_fn=<NormBackward1>)"
      ]
     },
     "execution_count": 93,
     "metadata": {},
     "output_type": "execute_result"
    }
   ],
   "source": [
    "pdist(o1, o2)"
   ]
  },
  {
   "cell_type": "code",
   "execution_count": 94,
   "id": "45c81e6d",
   "metadata": {},
   "outputs": [
    {
     "data": {
      "text/plain": [
       "tensor([6.3318], device='cuda:0', grad_fn=<NormBackward1>)"
      ]
     },
     "execution_count": 94,
     "metadata": {},
     "output_type": "execute_result"
    }
   ],
   "source": [
    "pdist(o1, o3)"
   ]
  },
  {
   "cell_type": "code",
   "execution_count": 95,
   "id": "5051fd61",
   "metadata": {},
   "outputs": [
    {
     "data": {
      "text/plain": [
       "tensor([7.0053], device='cuda:0', grad_fn=<NormBackward1>)"
      ]
     },
     "execution_count": 95,
     "metadata": {},
     "output_type": "execute_result"
    }
   ],
   "source": [
    "pdist(o2, o3)"
   ]
  },
  {
   "cell_type": "code",
   "execution_count": 103,
   "id": "7028c44a",
   "metadata": {},
   "outputs": [
    {
     "data": {
      "text/plain": [
       "tensor([8.2538], device='cuda:0', grad_fn=<NormBackward1>)"
      ]
     },
     "execution_count": 103,
     "metadata": {},
     "output_type": "execute_result"
    }
   ],
   "source": [
    "pdist(o1, o4)"
   ]
  },
  {
   "cell_type": "code",
   "execution_count": 104,
   "id": "5713a2fd",
   "metadata": {},
   "outputs": [
    {
     "data": {
      "text/plain": [
       "tensor([9.2016], device='cuda:0', grad_fn=<NormBackward1>)"
      ]
     },
     "execution_count": 104,
     "metadata": {},
     "output_type": "execute_result"
    }
   ],
   "source": [
    "pdist(o2, o4)"
   ]
  },
  {
   "cell_type": "code",
   "execution_count": 105,
   "id": "8f162d04",
   "metadata": {},
   "outputs": [
    {
     "data": {
      "text/plain": [
       "tensor([6.2826], device='cuda:0', grad_fn=<NormBackward1>)"
      ]
     },
     "execution_count": 105,
     "metadata": {},
     "output_type": "execute_result"
    }
   ],
   "source": [
    "pdist(o3, o4)"
   ]
  },
  {
   "cell_type": "markdown",
   "id": "7be7d82b",
   "metadata": {},
   "source": [
    "### Cosine Similarity"
   ]
  },
  {
   "cell_type": "code",
   "execution_count": 84,
   "id": "fc4c3b66",
   "metadata": {},
   "outputs": [],
   "source": [
    "cos = nn.CosineSimilarity(dim=1, eps=1e-6)"
   ]
  },
  {
   "cell_type": "code",
   "execution_count": 85,
   "id": "5a9f0027",
   "metadata": {},
   "outputs": [
    {
     "data": {
      "text/plain": [
       "tensor([0.5844], device='cuda:0', grad_fn=<DivBackward0>)"
      ]
     },
     "execution_count": 85,
     "metadata": {},
     "output_type": "execute_result"
    }
   ],
   "source": [
    "cos(o1, o2)"
   ]
  },
  {
   "cell_type": "code",
   "execution_count": 86,
   "id": "0e90675c",
   "metadata": {},
   "outputs": [
    {
     "data": {
      "text/plain": [
       "tensor([0.5753], device='cuda:0', grad_fn=<DivBackward0>)"
      ]
     },
     "execution_count": 86,
     "metadata": {},
     "output_type": "execute_result"
    }
   ],
   "source": [
    "cos(o1, o3)"
   ]
  },
  {
   "cell_type": "code",
   "execution_count": 87,
   "id": "63a8e0af",
   "metadata": {},
   "outputs": [
    {
     "data": {
      "text/plain": [
       "tensor([0.5888], device='cuda:0', grad_fn=<DivBackward0>)"
      ]
     },
     "execution_count": 87,
     "metadata": {},
     "output_type": "execute_result"
    }
   ],
   "source": [
    "cos(o2, o3)"
   ]
  },
  {
   "cell_type": "code",
   "execution_count": 106,
   "id": "60bd8607",
   "metadata": {},
   "outputs": [
    {
     "data": {
      "text/plain": [
       "tensor([0.7079], device='cuda:0', grad_fn=<DivBackward0>)"
      ]
     },
     "execution_count": 106,
     "metadata": {},
     "output_type": "execute_result"
    }
   ],
   "source": [
    "cos(o1, o4)"
   ]
  },
  {
   "cell_type": "code",
   "execution_count": 107,
   "id": "86c7397c",
   "metadata": {},
   "outputs": [
    {
     "data": {
      "text/plain": [
       "tensor([0.6127], device='cuda:0', grad_fn=<DivBackward0>)"
      ]
     },
     "execution_count": 107,
     "metadata": {},
     "output_type": "execute_result"
    }
   ],
   "source": [
    "cos(o2, o4)"
   ]
  },
  {
   "cell_type": "code",
   "execution_count": 108,
   "id": "3f9723ea",
   "metadata": {},
   "outputs": [
    {
     "data": {
      "text/plain": [
       "tensor([0.8876], device='cuda:0', grad_fn=<DivBackward0>)"
      ]
     },
     "execution_count": 108,
     "metadata": {},
     "output_type": "execute_result"
    }
   ],
   "source": [
    "cos(o3, o4)"
   ]
  },
  {
   "cell_type": "code",
   "execution_count": 101,
   "id": "fa6046b1",
   "metadata": {},
   "outputs": [
    {
     "data": {
      "text/html": [
       "<div>\n",
       "<style scoped>\n",
       "    .dataframe tbody tr th:only-of-type {\n",
       "        vertical-align: middle;\n",
       "    }\n",
       "\n",
       "    .dataframe tbody tr th {\n",
       "        vertical-align: top;\n",
       "    }\n",
       "\n",
       "    .dataframe thead th {\n",
       "        text-align: right;\n",
       "    }\n",
       "</style>\n",
       "<table border=\"1\" class=\"dataframe\">\n",
       "  <thead>\n",
       "    <tr style=\"text-align: right;\">\n",
       "      <th></th>\n",
       "      <th>iauname</th>\n",
       "      <th>png_loc</th>\n",
       "      <th>smooth-or-featured_smooth_fraction</th>\n",
       "      <th>smooth-or-featured_featured-or-disk_fraction</th>\n",
       "      <th>smooth-or-featured_artifact_fraction</th>\n",
       "      <th>disk-edge-on_yes_fraction</th>\n",
       "      <th>disk-edge-on_no_fraction</th>\n",
       "      <th>has-spiral-arms_yes_fraction</th>\n",
       "      <th>has-spiral-arms_no_fraction</th>\n",
       "      <th>bar_strong_fraction</th>\n",
       "      <th>...</th>\n",
       "      <th>spiral-arm-count_1_fraction</th>\n",
       "      <th>spiral-arm-count_2_fraction</th>\n",
       "      <th>spiral-arm-count_3_fraction</th>\n",
       "      <th>spiral-arm-count_4_fraction</th>\n",
       "      <th>spiral-arm-count_more-than-4_fraction</th>\n",
       "      <th>spiral-arm-count_cant-tell_fraction</th>\n",
       "      <th>merging_none_fraction</th>\n",
       "      <th>merging_minor-disturbance_fraction</th>\n",
       "      <th>merging_major-disturbance_fraction</th>\n",
       "      <th>merging_merger_fraction</th>\n",
       "    </tr>\n",
       "  </thead>\n",
       "  <tbody>\n",
       "    <tr>\n",
       "      <th>0</th>\n",
       "      <td>J140957.60+062506.1</td>\n",
       "      <td>J140/J140957.60+062506.1.png</td>\n",
       "      <td>1</td>\n",
       "      <td>0</td>\n",
       "      <td>0</td>\n",
       "      <td>0</td>\n",
       "      <td>1</td>\n",
       "      <td>1</td>\n",
       "      <td>0</td>\n",
       "      <td>1</td>\n",
       "      <td>...</td>\n",
       "      <td>0</td>\n",
       "      <td>1</td>\n",
       "      <td>0</td>\n",
       "      <td>0</td>\n",
       "      <td>0</td>\n",
       "      <td>0</td>\n",
       "      <td>1</td>\n",
       "      <td>0</td>\n",
       "      <td>0</td>\n",
       "      <td>0</td>\n",
       "    </tr>\n",
       "    <tr>\n",
       "      <th>1</th>\n",
       "      <td>J164313.15+261827.0</td>\n",
       "      <td>J164/J164313.15+261827.0.png</td>\n",
       "      <td>1</td>\n",
       "      <td>0</td>\n",
       "      <td>0</td>\n",
       "      <td>0</td>\n",
       "      <td>0</td>\n",
       "      <td>0</td>\n",
       "      <td>0</td>\n",
       "      <td>0</td>\n",
       "      <td>...</td>\n",
       "      <td>0</td>\n",
       "      <td>0</td>\n",
       "      <td>0</td>\n",
       "      <td>0</td>\n",
       "      <td>0</td>\n",
       "      <td>0</td>\n",
       "      <td>1</td>\n",
       "      <td>0</td>\n",
       "      <td>0</td>\n",
       "      <td>0</td>\n",
       "    </tr>\n",
       "    <tr>\n",
       "      <th>2</th>\n",
       "      <td>J150934.55+045229.1</td>\n",
       "      <td>J150/J150934.55+045229.1.png</td>\n",
       "      <td>0</td>\n",
       "      <td>1</td>\n",
       "      <td>0</td>\n",
       "      <td>0</td>\n",
       "      <td>1</td>\n",
       "      <td>1</td>\n",
       "      <td>0</td>\n",
       "      <td>0</td>\n",
       "      <td>...</td>\n",
       "      <td>0</td>\n",
       "      <td>0</td>\n",
       "      <td>0</td>\n",
       "      <td>0</td>\n",
       "      <td>0</td>\n",
       "      <td>0</td>\n",
       "      <td>1</td>\n",
       "      <td>0</td>\n",
       "      <td>0</td>\n",
       "      <td>0</td>\n",
       "    </tr>\n",
       "    <tr>\n",
       "      <th>3</th>\n",
       "      <td>J113334.66-021647.5</td>\n",
       "      <td>J113/J113334.66-021647.5.png</td>\n",
       "      <td>0</td>\n",
       "      <td>1</td>\n",
       "      <td>0</td>\n",
       "      <td>0</td>\n",
       "      <td>1</td>\n",
       "      <td>1</td>\n",
       "      <td>0</td>\n",
       "      <td>0</td>\n",
       "      <td>...</td>\n",
       "      <td>0</td>\n",
       "      <td>0</td>\n",
       "      <td>0</td>\n",
       "      <td>0</td>\n",
       "      <td>0</td>\n",
       "      <td>1</td>\n",
       "      <td>0</td>\n",
       "      <td>0</td>\n",
       "      <td>0</td>\n",
       "      <td>0</td>\n",
       "    </tr>\n",
       "    <tr>\n",
       "      <th>4</th>\n",
       "      <td>J101906.78+231837.7</td>\n",
       "      <td>J101/J101906.78+231837.7.png</td>\n",
       "      <td>1</td>\n",
       "      <td>0</td>\n",
       "      <td>0</td>\n",
       "      <td>0</td>\n",
       "      <td>1</td>\n",
       "      <td>0</td>\n",
       "      <td>1</td>\n",
       "      <td>0</td>\n",
       "      <td>...</td>\n",
       "      <td>0</td>\n",
       "      <td>0</td>\n",
       "      <td>0</td>\n",
       "      <td>0</td>\n",
       "      <td>0</td>\n",
       "      <td>0</td>\n",
       "      <td>0</td>\n",
       "      <td>0</td>\n",
       "      <td>0</td>\n",
       "      <td>1</td>\n",
       "    </tr>\n",
       "  </tbody>\n",
       "</table>\n",
       "<p>5 rows × 36 columns</p>\n",
       "</div>"
      ],
      "text/plain": [
       "               iauname                       png_loc  \\\n",
       "0  J140957.60+062506.1  J140/J140957.60+062506.1.png   \n",
       "1  J164313.15+261827.0  J164/J164313.15+261827.0.png   \n",
       "2  J150934.55+045229.1  J150/J150934.55+045229.1.png   \n",
       "3  J113334.66-021647.5  J113/J113334.66-021647.5.png   \n",
       "4  J101906.78+231837.7  J101/J101906.78+231837.7.png   \n",
       "\n",
       "   smooth-or-featured_smooth_fraction  \\\n",
       "0                                   1   \n",
       "1                                   1   \n",
       "2                                   0   \n",
       "3                                   0   \n",
       "4                                   1   \n",
       "\n",
       "   smooth-or-featured_featured-or-disk_fraction  \\\n",
       "0                                             0   \n",
       "1                                             0   \n",
       "2                                             1   \n",
       "3                                             1   \n",
       "4                                             0   \n",
       "\n",
       "   smooth-or-featured_artifact_fraction  disk-edge-on_yes_fraction  \\\n",
       "0                                     0                          0   \n",
       "1                                     0                          0   \n",
       "2                                     0                          0   \n",
       "3                                     0                          0   \n",
       "4                                     0                          0   \n",
       "\n",
       "   disk-edge-on_no_fraction  has-spiral-arms_yes_fraction  \\\n",
       "0                         1                             1   \n",
       "1                         0                             0   \n",
       "2                         1                             1   \n",
       "3                         1                             1   \n",
       "4                         1                             0   \n",
       "\n",
       "   has-spiral-arms_no_fraction  bar_strong_fraction  ...  \\\n",
       "0                            0                    1  ...   \n",
       "1                            0                    0  ...   \n",
       "2                            0                    0  ...   \n",
       "3                            0                    0  ...   \n",
       "4                            1                    0  ...   \n",
       "\n",
       "   spiral-arm-count_1_fraction  spiral-arm-count_2_fraction  \\\n",
       "0                            0                            1   \n",
       "1                            0                            0   \n",
       "2                            0                            0   \n",
       "3                            0                            0   \n",
       "4                            0                            0   \n",
       "\n",
       "   spiral-arm-count_3_fraction  spiral-arm-count_4_fraction  \\\n",
       "0                            0                            0   \n",
       "1                            0                            0   \n",
       "2                            0                            0   \n",
       "3                            0                            0   \n",
       "4                            0                            0   \n",
       "\n",
       "   spiral-arm-count_more-than-4_fraction  spiral-arm-count_cant-tell_fraction  \\\n",
       "0                                      0                                    0   \n",
       "1                                      0                                    0   \n",
       "2                                      0                                    0   \n",
       "3                                      0                                    1   \n",
       "4                                      0                                    0   \n",
       "\n",
       "   merging_none_fraction  merging_minor-disturbance_fraction  \\\n",
       "0                      1                                   0   \n",
       "1                      1                                   0   \n",
       "2                      1                                   0   \n",
       "3                      0                                   0   \n",
       "4                      0                                   0   \n",
       "\n",
       "   merging_major-disturbance_fraction  merging_merger_fraction  \n",
       "0                                   0                        0  \n",
       "1                                   0                        0  \n",
       "2                                   0                        0  \n",
       "3                                   0                        0  \n",
       "4                                   0                        1  \n",
       "\n",
       "[5 rows x 36 columns]"
      ]
     },
     "execution_count": 101,
     "metadata": {},
     "output_type": "execute_result"
    }
   ],
   "source": [
    "test_dataset.desc.iloc[0:5]"
   ]
  },
  {
   "cell_type": "code",
   "execution_count": 119,
   "id": "9f4f2a0b",
   "metadata": {},
   "outputs": [
    {
     "data": {
      "image/png": "[encoded data removed]",
      "text/plain": [
       "<Figure size 864x576 with 4 Axes>"
      ]
     },
     "metadata": {
      "needs_background": "light"
     },
     "output_type": "display_data"
    }
   ],
   "source": [
    "name = 'copper'\n",
    "plt.figure(figsize = (12, 8))\n",
    "plt.subplot(141)\n",
    "plt.imshow(d1[0].permute(1, 2, 0), cmap=plt.get_cmap(name))\n",
    "plt.axis('off')\n",
    "\n",
    "plt.subplot(142)\n",
    "plt.imshow(d2[0].permute(1, 2, 0), cmap=plt.get_cmap(name))\n",
    "plt.axis('off')\n",
    "\n",
    "plt.subplot(143)\n",
    "plt.imshow(d3[0].permute(1, 2, 0), cmap=plt.get_cmap(name))\n",
    "plt.axis('off')\n",
    "\n",
    "plt.subplot(144)\n",
    "plt.imshow(d4[0].permute(1, 2, 0), cmap=plt.get_cmap(name))\n",
    "plt.axis('off')\n",
    "plt.show()"
   ]
  },
  {
   "cell_type": "markdown",
   "id": "d6e45b0a",
   "metadata": {},
   "source": [
    "# Pie Chart\n",
    "\n",
    "- To repeat this for the entire dataset. "
   ]
  },
  {
   "cell_type": "code",
   "execution_count": 22,
   "id": "e9eb369b",
   "metadata": {},
   "outputs": [],
   "source": [
    "import pandas as pd\n",
    "import numpy as np \n",
    "import matplotlib.pylab as plt \n",
    "import matplotlib as cm\n",
    "import settings as st\n",
    "import os \n",
    "\n",
    "plt.rc('text', usetex=True)\n",
    "plt.rc('font',**{'family':'sans-serif','serif':['Palatino']})\n",
    "figSize  = (12, 8)\n",
    "fontSize = 25"
   ]
  },
  {
   "cell_type": "code",
   "execution_count": 23,
   "id": "cbd452b1",
   "metadata": {},
   "outputs": [],
   "source": [
    "dataframe = pd.read_csv('ml/labels.csv')"
   ]
  },
  {
   "cell_type": "code",
   "execution_count": 24,
   "id": "97f91b3d",
   "metadata": {},
   "outputs": [],
   "source": [
    "def calc_percent_task(table: pd.DataFrame, task_number: int = 1):\n",
    "    \n",
    "    # sum across columns\n",
    "    column_sum = table[st.LABELS['task_' + str(task_number)]].sum(0)\n",
    "    \n",
    "    # calculate percentage\n",
    "    percentage = column_sum / column_sum.sum() * 100\n",
    "    \n",
    "    return percentage"
   ]
  },
  {
   "cell_type": "code",
   "execution_count": 25,
   "id": "60f95dca",
   "metadata": {},
   "outputs": [],
   "source": [
    "test = [calc_percent_task(dataframe, i + 1) for i in range(10)]"
   ]
  },
  {
   "cell_type": "code",
   "execution_count": 26,
   "id": "dd60b88f",
   "metadata": {},
   "outputs": [],
   "source": [
    "def plot_pie(index: int = 0, save: bool = False):\n",
    "    nobject = len(test[index].values)\n",
    "    colors = iter([plt.cm.Pastel1(k) for k in range(nobject)])\n",
    "    fig1, ax1 = plt.subplots(figsize=(12,12))\n",
    "#     fig1.set_figheight(8)\n",
    "#     fig1.set_figwidth(8)\n",
    "    patches, texts, autotexts = ax1.pie(test[index].values, labels=test[index].keys(), autopct='%1.1f%%', shadow=False, colors = colors)\n",
    "    plt.setp(texts, fontsize=fontSize)\n",
    "    plt.setp(autotexts, fontsize=fontSize)\n",
    "\n",
    "    centre_circle = plt.Circle((0,0),0.70,fc='white')\n",
    "    fig = plt.gcf()\n",
    "    fig.gca().add_artist(centre_circle)\n",
    "\n",
    "    ax1.axis('equal') \n",
    "    \n",
    "    if save:\n",
    "        path = 'plots/pie/'\n",
    "        os.makedirs(path, exist_ok=True)\n",
    "        plt.savefig(path + 'pie_' + str(index) + '.pdf', bbox_inches = 'tight')\n",
    "        plt.savefig(path + 'pie_' + str(index) + '.png', bbox_inches = 'tight')\n",
    "        plt.close()\n",
    "        \n",
    "    else:\n",
    "        plt.show()"
   ]
  },
  {
   "cell_type": "code",
   "execution_count": 27,
   "id": "ed5fb885",
   "metadata": {},
   "outputs": [],
   "source": [
    "# for i in range(10):\n",
    "#     plot_pie(i, True)"
   ]
  },
  {
   "cell_type": "markdown",
   "id": "16c3c01c",
   "metadata": {},
   "source": [
    "# Predictions from ML and MTL network"
   ]
  },
  {
   "cell_type": "code",
   "execution_count": 13,
   "id": "08e8ff5c",
   "metadata": {},
   "outputs": [],
   "source": [
    "from src.postprocess import metric_multitask, metrics_multilabel"
   ]
  },
  {
   "cell_type": "code",
   "execution_count": 15,
   "id": "a8fa32a5",
   "metadata": {},
   "outputs": [
    {
     "name": "stdout",
     "output_type": "stream",
     "text": [
      "Smooth                        : 0.138\n",
      "Featured or Disk              : 0.143\n",
      "Artifact                      : 0.029\n",
      "Round                         : 0.133\n",
      "In Between                    : 0.200\n",
      "Cigar Shaped                  : 0.069\n",
      "Edge On Disk (Yes)            : 0.099\n",
      "Edge On Disk (No)             : 0.253\n",
      "Merging (Merger)              : 0.073\n",
      "Merging (Major Disturbance)   : 0.047\n",
      "Merging (Minor Disturbance)   : 0.109\n",
      "Merging (None)                : 0.133\n",
      "Bulge (Rounded)               : 0.188\n",
      "Bulge (Boxy)                  : 0.034\n",
      "Bulge (None)                  : 0.072\n",
      "No Bar                        : 0.341\n",
      "Weak Bar                      : 0.137\n",
      "Strong Bar                    : 0.060\n",
      "Spiral Arms (Yes)             : 0.131\n",
      "Spiral Arms (No)              : 0.360\n",
      "Spiral Winding (Tight)        : 0.149\n",
      "Spiral Winding (Medium)       : 0.133\n",
      "Spiral Winding (Loose)        : 0.091\n",
      "Spiral Arms (1)               : 0.035\n",
      "Spiral Arms (2)               : 0.146\n",
      "Spiral Arms (3)               : 0.031\n",
      "Spiral Arms (4)               : 0.015\n",
      "Spiral Arms (More Than 4)     : 0.012\n",
      "Spiral Arms (cannot tell)     : 0.125\n",
      "Central Bulge (None)          : 0.066\n",
      "Central Bulge (Small)         : 0.178\n",
      "Central Bulge (Moderate)      : 0.292\n",
      "Central Bulge (Large)         : 0.107\n",
      "Central Bulge (Dominant)      : 0.023\n",
      "Overall Hamming loss is: 0.122\n"
     ]
    }
   ],
   "source": [
    "hl_class_ml, hl_ml = metrics_multilabel('ML_predictions_class', 'test')"
   ]
  },
  {
   "cell_type": "code",
   "execution_count": 17,
   "id": "0cb883ab",
   "metadata": {},
   "outputs": [
    {
     "name": "stdout",
     "output_type": "stream",
     "text": [
      "Overall Hamming loss is: 0.169\n",
      "--------------------------------------------------\n",
      "Task  1: 0.117\n",
      "Task  2: 0.149\n",
      "Task  3: 0.214\n",
      "Task  4: 0.129\n",
      "Task  5: 0.118\n",
      "Task  6: 0.209\n",
      "Task  7: 0.265\n",
      "Task  8: 0.281\n",
      "Task  9: 0.154\n",
      "Task 10: 0.145\n",
      "Smooth                        : 0.144\n",
      "Featured or Disk              : 0.178\n",
      "Artifact                      : 0.030\n",
      "Round                         : 0.158\n",
      "In Between                    : 0.212\n",
      "Cigar Shaped                  : 0.077\n",
      "Edge On Disk (Yes)            : 0.114\n",
      "Edge On Disk (No)             : 0.314\n",
      "Merging (Merger)              : 0.096\n",
      "Merging (Major Disturbance)   : 0.061\n",
      "Merging (Minor Disturbance)   : 0.188\n",
      "Merging (None)                : 0.170\n",
      "Bulge (Rounded)               : 0.211\n",
      "Bulge (Boxy)                  : 0.062\n",
      "Bulge (None)                  : 0.081\n",
      "No Bar                        : 0.409\n",
      "Weak Bar                      : 0.153\n",
      "Strong Bar                    : 0.065\n",
      "Spiral Arms (Yes)             : 0.152\n",
      "Spiral Arms (No)              : 0.379\n",
      "Spiral Winding (Tight)        : 0.171\n",
      "Spiral Winding (Medium)       : 0.543\n",
      "Spiral Winding (Loose)        : 0.128\n",
      "Spiral Arms (1)               : 0.384\n",
      "Spiral Arms (2)               : 0.357\n",
      "Spiral Arms (3)               : 0.030\n",
      "Spiral Arms (4)               : 0.015\n",
      "Spiral Arms (More Than 4)     : 0.011\n",
      "Spiral Arms (cannot tell)     : 0.130\n",
      "Central Bulge (None)          : 0.068\n",
      "Central Bulge (Small)         : 0.190\n",
      "Central Bulge (Moderate)      : 0.338\n",
      "Central Bulge (Large)         : 0.107\n",
      "Central Bulge (Dominant)      : 0.023\n"
     ]
    }
   ],
   "source": [
    "hl_class_mtl, hl_task_mtl = metric_multitask('MTL_predictions_targets_mtl-models-2022-6-2', 'test')"
   ]
  },
  {
   "cell_type": "markdown",
   "id": "5e603dd7",
   "metadata": {},
   "source": [
    "# Build the Tree"
   ]
  },
  {
   "cell_type": "code",
   "execution_count": 18,
   "id": "d700af9e",
   "metadata": {},
   "outputs": [],
   "source": [
    "import settings as st \n",
    "import utils.helpers as hp\n",
    "import src.processing as sp\n",
    "import sklearn.metrics as sm\n",
    "import pandas as pd\n",
    "import numpy as np "
   ]
  },
  {
   "cell_type": "code",
   "execution_count": 22,
   "id": "a96607a9",
   "metadata": {},
   "outputs": [],
   "source": [
    "preds = hp.load_pickle('results', 'MTL_predictions_mtl-models-2022-6-2')\n",
    "test = hp.load_csv('ml', 'test')"
   ]
  },
  {
   "cell_type": "code",
   "execution_count": 23,
   "id": "1f94a006",
   "metadata": {},
   "outputs": [],
   "source": [
    "def labels_test(test: pd.DataFrame, index: int = 0):\n",
    "    \n",
    "    # the first two column names are the name and png locations\n",
    "    labels = test.iloc[index, 2:]\n",
    "    \n",
    "    label_dict = dict()\n",
    "    for i in range(st.NUM_TASKS):\n",
    "        task = labels[st.LABELS['task_' + str(i + 1)]].values.astype(int)\n",
    "        label_dict['task_' + str(i + 1)] = task\n",
    "        \n",
    "    return label_dict"
   ]
  },
  {
   "cell_type": "code",
   "execution_count": 24,
   "id": "f9267d1f",
   "metadata": {},
   "outputs": [],
   "source": [
    "ntest = test.shape[0]\n",
    "tree_pred = list()\n",
    "tree_test = list()\n",
    "\n",
    "for idx in range(ntest):\n",
    "    \n",
    "    # re-write the test point in a dictionary (label per task)\n",
    "    test_point = labels_test(test, idx)\n",
    "          \n",
    "    # find the labels (ground truths and test point)\n",
    "    pred_labels = sp.find_labels(preds[idx])\n",
    "    test_labels = sp.find_labels(test_point)\n",
    "    \n",
    "    # record the trees\n",
    "    tree_pred.append(pred_labels)\n",
    "    tree_test.append(test_labels)"
   ]
  },
  {
   "cell_type": "code",
   "execution_count": 25,
   "id": "7eb8edfb",
   "metadata": {},
   "outputs": [],
   "source": [
    "tree_pred_df = pd.concat(tree_pred)\n",
    "tree_test_df = pd.concat(tree_test)"
   ]
  },
  {
   "cell_type": "code",
   "execution_count": 26,
   "id": "69b0736b",
   "metadata": {},
   "outputs": [],
   "source": [
    "tree_pred_df.reset_index(drop=True, inplace=True)\n",
    "tree_test_df.reset_index(drop=True, inplace=True)"
   ]
  },
  {
   "cell_type": "markdown",
   "id": "f52ae2ca",
   "metadata": {},
   "source": [
    "Save the outputs"
   ]
  },
  {
   "cell_type": "code",
   "execution_count": 14,
   "id": "63ef82e9",
   "metadata": {},
   "outputs": [],
   "source": [
    "# tree_pred_df.to_csv('results/tree_pred-'+date+'.csv', index=False)\n",
    "# tree_test_df.to_csv('results/tree_test-'+date+'.csv', index=False)"
   ]
  },
  {
   "cell_type": "markdown",
   "id": "88056631",
   "metadata": {},
   "source": [
    "# Visualise Image and Tree"
   ]
  },
  {
   "cell_type": "code",
   "execution_count": 15,
   "id": "acc8b355",
   "metadata": {},
   "outputs": [],
   "source": [
    "import pandas as pd \n",
    "import sklearn.metrics as sm"
   ]
  },
  {
   "cell_type": "code",
   "execution_count": 17,
   "id": "97940f21",
   "metadata": {},
   "outputs": [],
   "source": [
    "tree_pred_df = pd.read_csv('results/tree_pred-'+date+'.csv')\n",
    "tree_test_df = pd.read_csv('results/tree_test-'+date+'.csv')"
   ]
  },
  {
   "cell_type": "code",
   "execution_count": 52,
   "id": "fffdffac",
   "metadata": {},
   "outputs": [],
   "source": [
    "idxs = [6510, 6511, 6512, 6513]\n",
    "# idxs = [6, 7, 8, 9]"
   ]
  },
  {
   "cell_type": "code",
   "execution_count": 53,
   "id": "ccdb771c",
   "metadata": {},
   "outputs": [
    {
     "data": {
      "text/html": [
       "<div>\n",
       "<style scoped>\n",
       "    .dataframe tbody tr th:only-of-type {\n",
       "        vertical-align: middle;\n",
       "    }\n",
       "\n",
       "    .dataframe tbody tr th {\n",
       "        vertical-align: top;\n",
       "    }\n",
       "\n",
       "    .dataframe thead th {\n",
       "        text-align: right;\n",
       "    }\n",
       "</style>\n",
       "<table border=\"1\" class=\"dataframe\">\n",
       "  <thead>\n",
       "    <tr style=\"text-align: right;\">\n",
       "      <th></th>\n",
       "      <th>task_1</th>\n",
       "      <th>task_2</th>\n",
       "      <th>task_3</th>\n",
       "      <th>task_4</th>\n",
       "      <th>task_5</th>\n",
       "      <th>task_6</th>\n",
       "      <th>task_7</th>\n",
       "      <th>task_8</th>\n",
       "      <th>task_9</th>\n",
       "      <th>task_10</th>\n",
       "    </tr>\n",
       "  </thead>\n",
       "  <tbody>\n",
       "    <tr>\n",
       "      <th>6510</th>\n",
       "      <td>['Smooth']</td>\n",
       "      <td>['Round']</td>\n",
       "      <td>NaN</td>\n",
       "      <td>['Merging (None)']</td>\n",
       "      <td>NaN</td>\n",
       "      <td>NaN</td>\n",
       "      <td>NaN</td>\n",
       "      <td>NaN</td>\n",
       "      <td>NaN</td>\n",
       "      <td>NaN</td>\n",
       "    </tr>\n",
       "    <tr>\n",
       "      <th>6511</th>\n",
       "      <td>['Smooth']</td>\n",
       "      <td>['In Between']</td>\n",
       "      <td>NaN</td>\n",
       "      <td>['Merging (None)']</td>\n",
       "      <td>NaN</td>\n",
       "      <td>NaN</td>\n",
       "      <td>NaN</td>\n",
       "      <td>NaN</td>\n",
       "      <td>NaN</td>\n",
       "      <td>NaN</td>\n",
       "    </tr>\n",
       "    <tr>\n",
       "      <th>6512</th>\n",
       "      <td>['Smooth']</td>\n",
       "      <td>['In Between']</td>\n",
       "      <td>NaN</td>\n",
       "      <td>['Merging (None)']</td>\n",
       "      <td>NaN</td>\n",
       "      <td>NaN</td>\n",
       "      <td>NaN</td>\n",
       "      <td>NaN</td>\n",
       "      <td>NaN</td>\n",
       "      <td>NaN</td>\n",
       "    </tr>\n",
       "    <tr>\n",
       "      <th>6513</th>\n",
       "      <td>['Featured or Disk']</td>\n",
       "      <td>NaN</td>\n",
       "      <td>['Edge On Disk (No)']</td>\n",
       "      <td>['Merging (None)']</td>\n",
       "      <td>NaN</td>\n",
       "      <td>['No Bar']</td>\n",
       "      <td>['Spiral Arms (Yes)']</td>\n",
       "      <td>['Spiral Winding (Tight)']</td>\n",
       "      <td>['Spiral Arms (2)']</td>\n",
       "      <td>['Central Bulge (Small)']</td>\n",
       "    </tr>\n",
       "  </tbody>\n",
       "</table>\n",
       "</div>"
      ],
      "text/plain": [
       "                    task_1          task_2                 task_3  \\\n",
       "6510            ['Smooth']       ['Round']                    NaN   \n",
       "6511            ['Smooth']  ['In Between']                    NaN   \n",
       "6512            ['Smooth']  ['In Between']                    NaN   \n",
       "6513  ['Featured or Disk']             NaN  ['Edge On Disk (No)']   \n",
       "\n",
       "                  task_4 task_5      task_6                 task_7  \\\n",
       "6510  ['Merging (None)']    NaN         NaN                    NaN   \n",
       "6511  ['Merging (None)']    NaN         NaN                    NaN   \n",
       "6512  ['Merging (None)']    NaN         NaN                    NaN   \n",
       "6513  ['Merging (None)']    NaN  ['No Bar']  ['Spiral Arms (Yes)']   \n",
       "\n",
       "                          task_8               task_9  \\\n",
       "6510                         NaN                  NaN   \n",
       "6511                         NaN                  NaN   \n",
       "6512                         NaN                  NaN   \n",
       "6513  ['Spiral Winding (Tight)']  ['Spiral Arms (2)']   \n",
       "\n",
       "                        task_10  \n",
       "6510                        NaN  \n",
       "6511                        NaN  \n",
       "6512                        NaN  \n",
       "6513  ['Central Bulge (Small)']  "
      ]
     },
     "execution_count": 53,
     "metadata": {},
     "output_type": "execute_result"
    }
   ],
   "source": [
    "tree_pred_df.iloc[idxs]"
   ]
  },
  {
   "cell_type": "code",
   "execution_count": 54,
   "id": "3c98f40b",
   "metadata": {},
   "outputs": [
    {
     "data": {
      "text/html": [
       "<div>\n",
       "<style scoped>\n",
       "    .dataframe tbody tr th:only-of-type {\n",
       "        vertical-align: middle;\n",
       "    }\n",
       "\n",
       "    .dataframe tbody tr th {\n",
       "        vertical-align: top;\n",
       "    }\n",
       "\n",
       "    .dataframe thead th {\n",
       "        text-align: right;\n",
       "    }\n",
       "</style>\n",
       "<table border=\"1\" class=\"dataframe\">\n",
       "  <thead>\n",
       "    <tr style=\"text-align: right;\">\n",
       "      <th></th>\n",
       "      <th>task_1</th>\n",
       "      <th>task_2</th>\n",
       "      <th>task_3</th>\n",
       "      <th>task_4</th>\n",
       "      <th>task_5</th>\n",
       "      <th>task_6</th>\n",
       "      <th>task_7</th>\n",
       "      <th>task_8</th>\n",
       "      <th>task_9</th>\n",
       "      <th>task_10</th>\n",
       "    </tr>\n",
       "  </thead>\n",
       "  <tbody>\n",
       "    <tr>\n",
       "      <th>6510</th>\n",
       "      <td>['Smooth']</td>\n",
       "      <td>['Round', 'In Between']</td>\n",
       "      <td>NaN</td>\n",
       "      <td>['Merging (None)']</td>\n",
       "      <td>NaN</td>\n",
       "      <td>NaN</td>\n",
       "      <td>NaN</td>\n",
       "      <td>NaN</td>\n",
       "      <td>NaN</td>\n",
       "      <td>NaN</td>\n",
       "    </tr>\n",
       "    <tr>\n",
       "      <th>6511</th>\n",
       "      <td>['Featured or Disk']</td>\n",
       "      <td>NaN</td>\n",
       "      <td>['Edge On Disk (Yes)']</td>\n",
       "      <td>['Merging (None)']</td>\n",
       "      <td>['Bulge (Rounded)']</td>\n",
       "      <td>NaN</td>\n",
       "      <td>NaN</td>\n",
       "      <td>NaN</td>\n",
       "      <td>NaN</td>\n",
       "      <td>NaN</td>\n",
       "    </tr>\n",
       "    <tr>\n",
       "      <th>6512</th>\n",
       "      <td>['Smooth']</td>\n",
       "      <td>['In Between']</td>\n",
       "      <td>NaN</td>\n",
       "      <td>['Merging (None)']</td>\n",
       "      <td>NaN</td>\n",
       "      <td>NaN</td>\n",
       "      <td>NaN</td>\n",
       "      <td>NaN</td>\n",
       "      <td>NaN</td>\n",
       "      <td>NaN</td>\n",
       "    </tr>\n",
       "    <tr>\n",
       "      <th>6513</th>\n",
       "      <td>['Featured or Disk']</td>\n",
       "      <td>NaN</td>\n",
       "      <td>['Edge On Disk (No)']</td>\n",
       "      <td>['Merging (None)']</td>\n",
       "      <td>NaN</td>\n",
       "      <td>['No Bar']</td>\n",
       "      <td>['Spiral Arms (Yes)']</td>\n",
       "      <td>['Spiral Winding (Tight)', 'Spiral Winding (Me...</td>\n",
       "      <td>['Spiral Arms (cannot tell)']</td>\n",
       "      <td>['Central Bulge (Small)']</td>\n",
       "    </tr>\n",
       "  </tbody>\n",
       "</table>\n",
       "</div>"
      ],
      "text/plain": [
       "                    task_1                   task_2                  task_3  \\\n",
       "6510            ['Smooth']  ['Round', 'In Between']                     NaN   \n",
       "6511  ['Featured or Disk']                      NaN  ['Edge On Disk (Yes)']   \n",
       "6512            ['Smooth']           ['In Between']                     NaN   \n",
       "6513  ['Featured or Disk']                      NaN   ['Edge On Disk (No)']   \n",
       "\n",
       "                  task_4               task_5      task_6  \\\n",
       "6510  ['Merging (None)']                  NaN         NaN   \n",
       "6511  ['Merging (None)']  ['Bulge (Rounded)']         NaN   \n",
       "6512  ['Merging (None)']                  NaN         NaN   \n",
       "6513  ['Merging (None)']                  NaN  ['No Bar']   \n",
       "\n",
       "                     task_7  \\\n",
       "6510                    NaN   \n",
       "6511                    NaN   \n",
       "6512                    NaN   \n",
       "6513  ['Spiral Arms (Yes)']   \n",
       "\n",
       "                                                 task_8  \\\n",
       "6510                                                NaN   \n",
       "6511                                                NaN   \n",
       "6512                                                NaN   \n",
       "6513  ['Spiral Winding (Tight)', 'Spiral Winding (Me...   \n",
       "\n",
       "                             task_9                    task_10  \n",
       "6510                            NaN                        NaN  \n",
       "6511                            NaN                        NaN  \n",
       "6512                            NaN                        NaN  \n",
       "6513  ['Spiral Arms (cannot tell)']  ['Central Bulge (Small)']  "
      ]
     },
     "execution_count": 54,
     "metadata": {},
     "output_type": "execute_result"
    }
   ],
   "source": [
    "tree_test_df.iloc[idxs]"
   ]
  },
  {
   "cell_type": "code",
   "execution_count": 55,
   "id": "5c27b82d",
   "metadata": {},
   "outputs": [
    {
     "name": "stdout",
     "output_type": "stream",
     "text": [
      "The number of test points is 37993\n"
     ]
    }
   ],
   "source": [
    "test_dataset = DECaLSDataset(mode='test', augment=False)\n",
    "test_loader = DataLoader(dataset=test_dataset, batch_size=1, shuffle=False)"
   ]
  },
  {
   "cell_type": "code",
   "execution_count": 56,
   "id": "b12c6301",
   "metadata": {},
   "outputs": [],
   "source": [
    "d1 = test_loader.dataset[idxs[0]]\n",
    "d2 = test_loader.dataset[idxs[1]]\n",
    "d3 = test_loader.dataset[idxs[2]]\n",
    "d4 = test_loader.dataset[idxs[3]]"
   ]
  },
  {
   "cell_type": "code",
   "execution_count": 57,
   "id": "09429d33",
   "metadata": {},
   "outputs": [
    {
     "data": {
      "image/png": "[encoded data removed]",
      "text/plain": [
       "<Figure size 864x576 with 4 Axes>"
      ]
     },
     "metadata": {
      "needs_background": "light"
     },
     "output_type": "display_data"
    }
   ],
   "source": [
    "name = 'copper'\n",
    "plt.figure(figsize = (12, 8))\n",
    "plt.subplot(141)\n",
    "plt.imshow(d1[0].permute(1, 2, 0), cmap=plt.get_cmap(name))\n",
    "plt.axis('off')\n",
    "\n",
    "plt.subplot(142)\n",
    "plt.imshow(d2[0].permute(1, 2, 0), cmap=plt.get_cmap(name))\n",
    "plt.axis('off')\n",
    "\n",
    "plt.subplot(143)\n",
    "plt.imshow(d3[0].permute(1, 2, 0), cmap=plt.get_cmap(name))\n",
    "plt.axis('off')\n",
    "\n",
    "plt.subplot(144)\n",
    "plt.imshow(d4[0].permute(1, 2, 0), cmap=plt.get_cmap(name))\n",
    "plt.axis('off')\n",
    "plt.show()"
   ]
  },
  {
   "cell_type": "markdown",
   "id": "004e0f01",
   "metadata": {},
   "source": [
    "### Count number of labels per task in the test set"
   ]
  },
  {
   "cell_type": "code",
   "execution_count": 24,
   "id": "a560ed40",
   "metadata": {},
   "outputs": [],
   "source": [
    "def count_element(dataframe, task):\n",
    "    \n",
    "    ntest = dataframe.shape[0]\n",
    "    \n",
    "    record = []\n",
    "    \n",
    "    for i in range(ntest):\n",
    "        \n",
    "        element = dataframe[task].values[i]\n",
    "        \n",
    "        if not pd.isna(element):\n",
    "            count = len(eval(element))\n",
    "            \n",
    "        else:\n",
    "            count = 0 \n",
    "            \n",
    "        record.append(count)\n",
    "        \n",
    "    return pd.DataFrame(record, columns = [task])"
   ]
  },
  {
   "cell_type": "code",
   "execution_count": 25,
   "id": "901a6b29",
   "metadata": {},
   "outputs": [],
   "source": [
    "tree_test_counts = []\n",
    "\n",
    "for i in range(10):\n",
    "    tree_test_counts.append(count_element(tree_test_df, 'task_'+str(i+1)))"
   ]
  },
  {
   "cell_type": "code",
   "execution_count": 26,
   "id": "aab61519",
   "metadata": {},
   "outputs": [],
   "source": [
    "tree_test_counts = pd.concat(tree_test_counts, axis = 1)"
   ]
  },
  {
   "cell_type": "code",
   "execution_count": 27,
   "id": "360a5196",
   "metadata": {},
   "outputs": [
    {
     "data": {
      "text/html": [
       "<div>\n",
       "<style scoped>\n",
       "    .dataframe tbody tr th:only-of-type {\n",
       "        vertical-align: middle;\n",
       "    }\n",
       "\n",
       "    .dataframe tbody tr th {\n",
       "        vertical-align: top;\n",
       "    }\n",
       "\n",
       "    .dataframe thead th {\n",
       "        text-align: right;\n",
       "    }\n",
       "</style>\n",
       "<table border=\"1\" class=\"dataframe\">\n",
       "  <thead>\n",
       "    <tr style=\"text-align: right;\">\n",
       "      <th></th>\n",
       "      <th>task_1</th>\n",
       "      <th>task_2</th>\n",
       "      <th>task_3</th>\n",
       "      <th>task_4</th>\n",
       "      <th>task_5</th>\n",
       "      <th>task_6</th>\n",
       "      <th>task_7</th>\n",
       "      <th>task_8</th>\n",
       "      <th>task_9</th>\n",
       "      <th>task_10</th>\n",
       "    </tr>\n",
       "  </thead>\n",
       "  <tbody>\n",
       "    <tr>\n",
       "      <th>0</th>\n",
       "      <td>1</td>\n",
       "      <td>0</td>\n",
       "      <td>1</td>\n",
       "      <td>1</td>\n",
       "      <td>0</td>\n",
       "      <td>1</td>\n",
       "      <td>1</td>\n",
       "      <td>1</td>\n",
       "      <td>1</td>\n",
       "      <td>1</td>\n",
       "    </tr>\n",
       "    <tr>\n",
       "      <th>1</th>\n",
       "      <td>1</td>\n",
       "      <td>1</td>\n",
       "      <td>0</td>\n",
       "      <td>1</td>\n",
       "      <td>0</td>\n",
       "      <td>0</td>\n",
       "      <td>0</td>\n",
       "      <td>0</td>\n",
       "      <td>0</td>\n",
       "      <td>0</td>\n",
       "    </tr>\n",
       "    <tr>\n",
       "      <th>2</th>\n",
       "      <td>1</td>\n",
       "      <td>0</td>\n",
       "      <td>1</td>\n",
       "      <td>1</td>\n",
       "      <td>0</td>\n",
       "      <td>1</td>\n",
       "      <td>1</td>\n",
       "      <td>0</td>\n",
       "      <td>0</td>\n",
       "      <td>1</td>\n",
       "    </tr>\n",
       "    <tr>\n",
       "      <th>3</th>\n",
       "      <td>1</td>\n",
       "      <td>0</td>\n",
       "      <td>1</td>\n",
       "      <td>1</td>\n",
       "      <td>0</td>\n",
       "      <td>1</td>\n",
       "      <td>1</td>\n",
       "      <td>3</td>\n",
       "      <td>1</td>\n",
       "      <td>3</td>\n",
       "    </tr>\n",
       "    <tr>\n",
       "      <th>4</th>\n",
       "      <td>1</td>\n",
       "      <td>0</td>\n",
       "      <td>1</td>\n",
       "      <td>1</td>\n",
       "      <td>0</td>\n",
       "      <td>1</td>\n",
       "      <td>1</td>\n",
       "      <td>0</td>\n",
       "      <td>0</td>\n",
       "      <td>1</td>\n",
       "    </tr>\n",
       "  </tbody>\n",
       "</table>\n",
       "</div>"
      ],
      "text/plain": [
       "   task_1  task_2  task_3  task_4  task_5  task_6  task_7  task_8  task_9  \\\n",
       "0       1       0       1       1       0       1       1       1       1   \n",
       "1       1       1       0       1       0       0       0       0       0   \n",
       "2       1       0       1       1       0       1       1       0       0   \n",
       "3       1       0       1       1       0       1       1       3       1   \n",
       "4       1       0       1       1       0       1       1       0       0   \n",
       "\n",
       "   task_10  \n",
       "0        1  \n",
       "1        0  \n",
       "2        1  \n",
       "3        3  \n",
       "4        1  "
      ]
     },
     "execution_count": 27,
     "metadata": {},
     "output_type": "execute_result"
    }
   ],
   "source": [
    "tree_test_counts.head()"
   ]
  },
  {
   "cell_type": "markdown",
   "id": "89e8cf6d",
   "metadata": {},
   "source": [
    "Select rows which has only one element"
   ]
  },
  {
   "cell_type": "code",
   "execution_count": 28,
   "id": "cadce954",
   "metadata": {},
   "outputs": [],
   "source": [
    "subset_test = tree_test_df[(tree_test_counts <= 1).all(1)]\n",
    "subset_pred = tree_pred_df[(tree_test_counts <= 1).all(1)]\n",
    "\n",
    "subset_test.reset_index(drop=True, inplace=True)\n",
    "subset_pred.reset_index(drop=True, inplace=True)"
   ]
  },
  {
   "cell_type": "code",
   "execution_count": 29,
   "id": "e7768c9c",
   "metadata": {},
   "outputs": [
    {
     "name": "stdout",
     "output_type": "stream",
     "text": [
      "Number of examples where we have unique labels is 28838\n"
     ]
    }
   ],
   "source": [
    "print(f'Number of examples where we have unique labels is {subset_test.shape[0]}')"
   ]
  },
  {
   "cell_type": "code",
   "execution_count": 30,
   "id": "4410632b",
   "metadata": {},
   "outputs": [
    {
     "data": {
      "text/html": [
       "<div>\n",
       "<style scoped>\n",
       "    .dataframe tbody tr th:only-of-type {\n",
       "        vertical-align: middle;\n",
       "    }\n",
       "\n",
       "    .dataframe tbody tr th {\n",
       "        vertical-align: top;\n",
       "    }\n",
       "\n",
       "    .dataframe thead th {\n",
       "        text-align: right;\n",
       "    }\n",
       "</style>\n",
       "<table border=\"1\" class=\"dataframe\">\n",
       "  <thead>\n",
       "    <tr style=\"text-align: right;\">\n",
       "      <th></th>\n",
       "      <th>task_1</th>\n",
       "      <th>task_2</th>\n",
       "      <th>task_3</th>\n",
       "      <th>task_4</th>\n",
       "      <th>task_5</th>\n",
       "      <th>task_6</th>\n",
       "      <th>task_7</th>\n",
       "      <th>task_8</th>\n",
       "      <th>task_9</th>\n",
       "      <th>task_10</th>\n",
       "    </tr>\n",
       "  </thead>\n",
       "  <tbody>\n",
       "    <tr>\n",
       "      <th>0</th>\n",
       "      <td>['Featured or Disk']</td>\n",
       "      <td>NaN</td>\n",
       "      <td>['Edge On Disk (No)']</td>\n",
       "      <td>['Merging (None)']</td>\n",
       "      <td>NaN</td>\n",
       "      <td>['No Bar']</td>\n",
       "      <td>['Spiral Arms (Yes)']</td>\n",
       "      <td>['Spiral Winding (Tight)']</td>\n",
       "      <td>['Spiral Arms (3)']</td>\n",
       "      <td>['Central Bulge (Small)']</td>\n",
       "    </tr>\n",
       "    <tr>\n",
       "      <th>1</th>\n",
       "      <td>['Smooth']</td>\n",
       "      <td>['Round']</td>\n",
       "      <td>NaN</td>\n",
       "      <td>['Merging (None)']</td>\n",
       "      <td>NaN</td>\n",
       "      <td>NaN</td>\n",
       "      <td>NaN</td>\n",
       "      <td>NaN</td>\n",
       "      <td>NaN</td>\n",
       "      <td>NaN</td>\n",
       "    </tr>\n",
       "    <tr>\n",
       "      <th>2</th>\n",
       "      <td>['Featured or Disk']</td>\n",
       "      <td>NaN</td>\n",
       "      <td>['Edge On Disk (No)']</td>\n",
       "      <td>['Merging (Merger)']</td>\n",
       "      <td>NaN</td>\n",
       "      <td>['No Bar']</td>\n",
       "      <td>['Spiral Arms (No)']</td>\n",
       "      <td>NaN</td>\n",
       "      <td>NaN</td>\n",
       "      <td>['Central Bulge (Dominant)']</td>\n",
       "    </tr>\n",
       "    <tr>\n",
       "      <th>3</th>\n",
       "      <td>['Featured or Disk']</td>\n",
       "      <td>NaN</td>\n",
       "      <td>['Edge On Disk (No)']</td>\n",
       "      <td>['Merging (None)']</td>\n",
       "      <td>NaN</td>\n",
       "      <td>['No Bar']</td>\n",
       "      <td>['Spiral Arms (No)']</td>\n",
       "      <td>NaN</td>\n",
       "      <td>NaN</td>\n",
       "      <td>['Central Bulge (Small)']</td>\n",
       "    </tr>\n",
       "    <tr>\n",
       "      <th>4</th>\n",
       "      <td>['Smooth']</td>\n",
       "      <td>['In Between']</td>\n",
       "      <td>NaN</td>\n",
       "      <td>['Merging (None)']</td>\n",
       "      <td>NaN</td>\n",
       "      <td>NaN</td>\n",
       "      <td>NaN</td>\n",
       "      <td>NaN</td>\n",
       "      <td>NaN</td>\n",
       "      <td>NaN</td>\n",
       "    </tr>\n",
       "  </tbody>\n",
       "</table>\n",
       "</div>"
      ],
      "text/plain": [
       "                 task_1          task_2                 task_3  \\\n",
       "0  ['Featured or Disk']             NaN  ['Edge On Disk (No)']   \n",
       "1            ['Smooth']       ['Round']                    NaN   \n",
       "2  ['Featured or Disk']             NaN  ['Edge On Disk (No)']   \n",
       "3  ['Featured or Disk']             NaN  ['Edge On Disk (No)']   \n",
       "4            ['Smooth']  ['In Between']                    NaN   \n",
       "\n",
       "                 task_4 task_5      task_6                 task_7  \\\n",
       "0    ['Merging (None)']    NaN  ['No Bar']  ['Spiral Arms (Yes)']   \n",
       "1    ['Merging (None)']    NaN         NaN                    NaN   \n",
       "2  ['Merging (Merger)']    NaN  ['No Bar']   ['Spiral Arms (No)']   \n",
       "3    ['Merging (None)']    NaN  ['No Bar']   ['Spiral Arms (No)']   \n",
       "4    ['Merging (None)']    NaN         NaN                    NaN   \n",
       "\n",
       "                       task_8               task_9  \\\n",
       "0  ['Spiral Winding (Tight)']  ['Spiral Arms (3)']   \n",
       "1                         NaN                  NaN   \n",
       "2                         NaN                  NaN   \n",
       "3                         NaN                  NaN   \n",
       "4                         NaN                  NaN   \n",
       "\n",
       "                        task_10  \n",
       "0     ['Central Bulge (Small)']  \n",
       "1                           NaN  \n",
       "2  ['Central Bulge (Dominant)']  \n",
       "3     ['Central Bulge (Small)']  \n",
       "4                           NaN  "
      ]
     },
     "execution_count": 30,
     "metadata": {},
     "output_type": "execute_result"
    }
   ],
   "source": [
    "subset_test.head()"
   ]
  },
  {
   "cell_type": "markdown",
   "id": "a230276b",
   "metadata": {},
   "source": [
    "### Metrics for Multi-Task\n",
    "\n",
    "Assign a specific label to the different labels\n",
    "\n",
    "We are essentially removing the list and assigning only the label."
   ]
  },
  {
   "cell_type": "code",
   "execution_count": 31,
   "id": "ad6f8f10",
   "metadata": {},
   "outputs": [],
   "source": [
    "def process_element(dataframe):\n",
    "    \n",
    "    ntest = dataframe.shape[0]\n",
    "    \n",
    "    record = []\n",
    "    \n",
    "    for t in range(10):\n",
    "        task = 'task_'+str(t+1)\n",
    "        for i in range(ntest):\n",
    "\n",
    "            element = dataframe[task].values[i]\n",
    "\n",
    "            if not pd.isna(element):\n",
    "                dataframe[task].iloc[i] = eval(element)[0]\n",
    "        \n",
    "    return dataframe"
   ]
  },
  {
   "cell_type": "code",
   "execution_count": 32,
   "id": "3cd4e413",
   "metadata": {},
   "outputs": [],
   "source": [
    "df_pred = subset_pred.copy()\n",
    "df_test = subset_test.copy()"
   ]
  },
  {
   "cell_type": "code",
   "execution_count": 33,
   "id": "0cb68dcc",
   "metadata": {},
   "outputs": [
    {
     "data": {
      "text/html": [
       "<div>\n",
       "<style scoped>\n",
       "    .dataframe tbody tr th:only-of-type {\n",
       "        vertical-align: middle;\n",
       "    }\n",
       "\n",
       "    .dataframe tbody tr th {\n",
       "        vertical-align: top;\n",
       "    }\n",
       "\n",
       "    .dataframe thead th {\n",
       "        text-align: right;\n",
       "    }\n",
       "</style>\n",
       "<table border=\"1\" class=\"dataframe\">\n",
       "  <thead>\n",
       "    <tr style=\"text-align: right;\">\n",
       "      <th></th>\n",
       "      <th>task_1</th>\n",
       "      <th>task_2</th>\n",
       "      <th>task_3</th>\n",
       "      <th>task_4</th>\n",
       "      <th>task_5</th>\n",
       "      <th>task_6</th>\n",
       "      <th>task_7</th>\n",
       "      <th>task_8</th>\n",
       "      <th>task_9</th>\n",
       "      <th>task_10</th>\n",
       "    </tr>\n",
       "  </thead>\n",
       "  <tbody>\n",
       "    <tr>\n",
       "      <th>0</th>\n",
       "      <td>['Featured or Disk']</td>\n",
       "      <td>NaN</td>\n",
       "      <td>['Edge On Disk (No)']</td>\n",
       "      <td>['Merging (None)']</td>\n",
       "      <td>NaN</td>\n",
       "      <td>['No Bar']</td>\n",
       "      <td>['Spiral Arms (Yes)']</td>\n",
       "      <td>['Spiral Winding (Tight)']</td>\n",
       "      <td>['Spiral Arms (3)']</td>\n",
       "      <td>['Central Bulge (Small)']</td>\n",
       "    </tr>\n",
       "    <tr>\n",
       "      <th>1</th>\n",
       "      <td>['Smooth']</td>\n",
       "      <td>['Round']</td>\n",
       "      <td>NaN</td>\n",
       "      <td>['Merging (None)']</td>\n",
       "      <td>NaN</td>\n",
       "      <td>NaN</td>\n",
       "      <td>NaN</td>\n",
       "      <td>NaN</td>\n",
       "      <td>NaN</td>\n",
       "      <td>NaN</td>\n",
       "    </tr>\n",
       "    <tr>\n",
       "      <th>2</th>\n",
       "      <td>['Featured or Disk']</td>\n",
       "      <td>NaN</td>\n",
       "      <td>['Edge On Disk (No)']</td>\n",
       "      <td>['Merging (Merger)']</td>\n",
       "      <td>NaN</td>\n",
       "      <td>['No Bar']</td>\n",
       "      <td>['Spiral Arms (No)']</td>\n",
       "      <td>NaN</td>\n",
       "      <td>NaN</td>\n",
       "      <td>['Central Bulge (Dominant)']</td>\n",
       "    </tr>\n",
       "    <tr>\n",
       "      <th>3</th>\n",
       "      <td>['Featured or Disk']</td>\n",
       "      <td>NaN</td>\n",
       "      <td>['Edge On Disk (No)']</td>\n",
       "      <td>['Merging (None)']</td>\n",
       "      <td>NaN</td>\n",
       "      <td>['No Bar']</td>\n",
       "      <td>['Spiral Arms (No)']</td>\n",
       "      <td>NaN</td>\n",
       "      <td>NaN</td>\n",
       "      <td>['Central Bulge (Small)']</td>\n",
       "    </tr>\n",
       "    <tr>\n",
       "      <th>4</th>\n",
       "      <td>['Smooth']</td>\n",
       "      <td>['In Between']</td>\n",
       "      <td>NaN</td>\n",
       "      <td>['Merging (None)']</td>\n",
       "      <td>NaN</td>\n",
       "      <td>NaN</td>\n",
       "      <td>NaN</td>\n",
       "      <td>NaN</td>\n",
       "      <td>NaN</td>\n",
       "      <td>NaN</td>\n",
       "    </tr>\n",
       "  </tbody>\n",
       "</table>\n",
       "</div>"
      ],
      "text/plain": [
       "                 task_1          task_2                 task_3  \\\n",
       "0  ['Featured or Disk']             NaN  ['Edge On Disk (No)']   \n",
       "1            ['Smooth']       ['Round']                    NaN   \n",
       "2  ['Featured or Disk']             NaN  ['Edge On Disk (No)']   \n",
       "3  ['Featured or Disk']             NaN  ['Edge On Disk (No)']   \n",
       "4            ['Smooth']  ['In Between']                    NaN   \n",
       "\n",
       "                 task_4 task_5      task_6                 task_7  \\\n",
       "0    ['Merging (None)']    NaN  ['No Bar']  ['Spiral Arms (Yes)']   \n",
       "1    ['Merging (None)']    NaN         NaN                    NaN   \n",
       "2  ['Merging (Merger)']    NaN  ['No Bar']   ['Spiral Arms (No)']   \n",
       "3    ['Merging (None)']    NaN  ['No Bar']   ['Spiral Arms (No)']   \n",
       "4    ['Merging (None)']    NaN         NaN                    NaN   \n",
       "\n",
       "                       task_8               task_9  \\\n",
       "0  ['Spiral Winding (Tight)']  ['Spiral Arms (3)']   \n",
       "1                         NaN                  NaN   \n",
       "2                         NaN                  NaN   \n",
       "3                         NaN                  NaN   \n",
       "4                         NaN                  NaN   \n",
       "\n",
       "                        task_10  \n",
       "0     ['Central Bulge (Small)']  \n",
       "1                           NaN  \n",
       "2  ['Central Bulge (Dominant)']  \n",
       "3     ['Central Bulge (Small)']  \n",
       "4                           NaN  "
      ]
     },
     "execution_count": 33,
     "metadata": {},
     "output_type": "execute_result"
    }
   ],
   "source": [
    "df_test.head()"
   ]
  },
  {
   "cell_type": "code",
   "execution_count": 34,
   "id": "892e37e8",
   "metadata": {},
   "outputs": [],
   "source": [
    "# process the dataframe\n",
    "df_processed_pred = process_element(df_pred)\n",
    "df_processed_test = process_element(df_test)"
   ]
  },
  {
   "cell_type": "code",
   "execution_count": 35,
   "id": "59d9f541",
   "metadata": {},
   "outputs": [
    {
     "data": {
      "text/html": [
       "<div>\n",
       "<style scoped>\n",
       "    .dataframe tbody tr th:only-of-type {\n",
       "        vertical-align: middle;\n",
       "    }\n",
       "\n",
       "    .dataframe tbody tr th {\n",
       "        vertical-align: top;\n",
       "    }\n",
       "\n",
       "    .dataframe thead th {\n",
       "        text-align: right;\n",
       "    }\n",
       "</style>\n",
       "<table border=\"1\" class=\"dataframe\">\n",
       "  <thead>\n",
       "    <tr style=\"text-align: right;\">\n",
       "      <th></th>\n",
       "      <th>task_1</th>\n",
       "      <th>task_2</th>\n",
       "      <th>task_3</th>\n",
       "      <th>task_4</th>\n",
       "      <th>task_5</th>\n",
       "      <th>task_6</th>\n",
       "      <th>task_7</th>\n",
       "      <th>task_8</th>\n",
       "      <th>task_9</th>\n",
       "      <th>task_10</th>\n",
       "    </tr>\n",
       "  </thead>\n",
       "  <tbody>\n",
       "    <tr>\n",
       "      <th>0</th>\n",
       "      <td>Featured or Disk</td>\n",
       "      <td>NaN</td>\n",
       "      <td>Edge On Disk (No)</td>\n",
       "      <td>Merging (None)</td>\n",
       "      <td>NaN</td>\n",
       "      <td>No Bar</td>\n",
       "      <td>Spiral Arms (Yes)</td>\n",
       "      <td>Spiral Winding (Tight)</td>\n",
       "      <td>Spiral Arms (3)</td>\n",
       "      <td>Central Bulge (Small)</td>\n",
       "    </tr>\n",
       "    <tr>\n",
       "      <th>1</th>\n",
       "      <td>Smooth</td>\n",
       "      <td>Round</td>\n",
       "      <td>NaN</td>\n",
       "      <td>Merging (None)</td>\n",
       "      <td>NaN</td>\n",
       "      <td>NaN</td>\n",
       "      <td>NaN</td>\n",
       "      <td>NaN</td>\n",
       "      <td>NaN</td>\n",
       "      <td>NaN</td>\n",
       "    </tr>\n",
       "    <tr>\n",
       "      <th>2</th>\n",
       "      <td>Featured or Disk</td>\n",
       "      <td>NaN</td>\n",
       "      <td>Edge On Disk (No)</td>\n",
       "      <td>Merging (Merger)</td>\n",
       "      <td>NaN</td>\n",
       "      <td>No Bar</td>\n",
       "      <td>Spiral Arms (No)</td>\n",
       "      <td>NaN</td>\n",
       "      <td>NaN</td>\n",
       "      <td>Central Bulge (Dominant)</td>\n",
       "    </tr>\n",
       "    <tr>\n",
       "      <th>3</th>\n",
       "      <td>Featured or Disk</td>\n",
       "      <td>NaN</td>\n",
       "      <td>Edge On Disk (No)</td>\n",
       "      <td>Merging (None)</td>\n",
       "      <td>NaN</td>\n",
       "      <td>No Bar</td>\n",
       "      <td>Spiral Arms (No)</td>\n",
       "      <td>NaN</td>\n",
       "      <td>NaN</td>\n",
       "      <td>Central Bulge (Small)</td>\n",
       "    </tr>\n",
       "    <tr>\n",
       "      <th>4</th>\n",
       "      <td>Smooth</td>\n",
       "      <td>In Between</td>\n",
       "      <td>NaN</td>\n",
       "      <td>Merging (None)</td>\n",
       "      <td>NaN</td>\n",
       "      <td>NaN</td>\n",
       "      <td>NaN</td>\n",
       "      <td>NaN</td>\n",
       "      <td>NaN</td>\n",
       "      <td>NaN</td>\n",
       "    </tr>\n",
       "  </tbody>\n",
       "</table>\n",
       "</div>"
      ],
      "text/plain": [
       "             task_1      task_2             task_3            task_4 task_5  \\\n",
       "0  Featured or Disk         NaN  Edge On Disk (No)    Merging (None)    NaN   \n",
       "1            Smooth       Round                NaN    Merging (None)    NaN   \n",
       "2  Featured or Disk         NaN  Edge On Disk (No)  Merging (Merger)    NaN   \n",
       "3  Featured or Disk         NaN  Edge On Disk (No)    Merging (None)    NaN   \n",
       "4            Smooth  In Between                NaN    Merging (None)    NaN   \n",
       "\n",
       "   task_6             task_7                  task_8           task_9  \\\n",
       "0  No Bar  Spiral Arms (Yes)  Spiral Winding (Tight)  Spiral Arms (3)   \n",
       "1     NaN                NaN                     NaN              NaN   \n",
       "2  No Bar   Spiral Arms (No)                     NaN              NaN   \n",
       "3  No Bar   Spiral Arms (No)                     NaN              NaN   \n",
       "4     NaN                NaN                     NaN              NaN   \n",
       "\n",
       "                    task_10  \n",
       "0     Central Bulge (Small)  \n",
       "1                       NaN  \n",
       "2  Central Bulge (Dominant)  \n",
       "3     Central Bulge (Small)  \n",
       "4                       NaN  "
      ]
     },
     "execution_count": 35,
     "metadata": {},
     "output_type": "execute_result"
    }
   ],
   "source": [
    "df_processed_test.head()"
   ]
  },
  {
   "cell_type": "code",
   "execution_count": 36,
   "id": "62b08ce5",
   "metadata": {},
   "outputs": [],
   "source": [
    "def overall_mapping(df_test, df_pred):\n",
    "    \n",
    "    mapping = {}\n",
    "    \n",
    "    count = 1\n",
    "    \n",
    "    for t in range(10):\n",
    "        for l in st.LABELS['task_'+str(t+1)]:\n",
    "            mapping[l] = count\n",
    "            count += 1\n",
    "            \n",
    "    df_pred_mapped = df_pred.applymap(lambda s: mapping.get(s) if s in mapping else s) \n",
    "    df_test_mapped = df_test.applymap(lambda s: mapping.get(s) if s in mapping else s)\n",
    "    \n",
    "    df_pred_mapped = df_pred_mapped.fillna(0)\n",
    "    df_test_mapped = df_test_mapped.fillna(0)\n",
    "\n",
    "    df_pred_mapped = df_pred_mapped.astype(int)\n",
    "    df_test_mapped = df_test_mapped.astype(int)\n",
    "    \n",
    "    return df_test_mapped, df_pred_mapped"
   ]
  },
  {
   "cell_type": "code",
   "execution_count": 111,
   "id": "8001c5ba",
   "metadata": {},
   "outputs": [],
   "source": [
    "def hamming_per_task(df_test, df_pred, task):\n",
    "    \n",
    "    # build the mapping \n",
    "    mapping = {st.LABELS[task][i]: i+1 for i in range(len(st.LABELS[task]))}\n",
    "       \n",
    "    df_pred_mapped = df_pred[task].map(mapping)\n",
    "    df_test_mapped = df_test[task].map(mapping)\n",
    "    \n",
    "    df_pred_mapped = df_pred_mapped.fillna(0)\n",
    "    df_test_mapped = df_test_mapped.fillna(0)\n",
    "    \n",
    "    df_pred_mapped = df_pred_mapped.astype(int)\n",
    "    df_test_mapped = df_test_mapped.astype(int)\n",
    "    \n",
    "    ham_loss = sm.hamming_loss(df_test_mapped, df_pred_mapped)\n",
    "    \n",
    "    return ham_loss"
   ]
  },
  {
   "cell_type": "code",
   "execution_count": 112,
   "id": "5dbe5062",
   "metadata": {},
   "outputs": [],
   "source": [
    "import settings as st"
   ]
  },
  {
   "cell_type": "code",
   "execution_count": 113,
   "id": "77419ccd",
   "metadata": {},
   "outputs": [
    {
     "name": "stdout",
     "output_type": "stream",
     "text": [
      "Task 1: 0.232\n",
      "----------------------------------------------------------------------------------------------------\n",
      "Task 2: 0.489\n",
      "----------------------------------------------------------------------------------------------------\n",
      "Task 3: 0.248\n",
      "----------------------------------------------------------------------------------------------------\n",
      "Task 4: 0.147\n",
      "----------------------------------------------------------------------------------------------------\n",
      "Task 5: 0.068\n",
      "----------------------------------------------------------------------------------------------------\n",
      "Task 6: 0.236\n",
      "----------------------------------------------------------------------------------------------------\n",
      "Task 7: 0.229\n",
      "----------------------------------------------------------------------------------------------------\n",
      "Task 8: 0.200\n",
      "----------------------------------------------------------------------------------------------------\n",
      "Task 9: 0.196\n",
      "----------------------------------------------------------------------------------------------------\n",
      "Task 10: 0.250\n",
      "----------------------------------------------------------------------------------------------------\n"
     ]
    }
   ],
   "source": [
    "for i in range(10):\n",
    "    hl = hamming_per_task(df_processed_test, df_processed_pred, 'task_'+str(i+1))\n",
    "    print(f'Task {i+1}: {hl:.3f}')\n",
    "    print('-'*100)"
   ]
  },
  {
   "cell_type": "code",
   "execution_count": 40,
   "id": "245bd511",
   "metadata": {},
   "outputs": [],
   "source": [
    "df1, df2 = overall_mapping(df_processed_test, df_processed_pred)"
   ]
  },
  {
   "cell_type": "code",
   "execution_count": 105,
   "id": "e54da108",
   "metadata": {},
   "outputs": [],
   "source": [
    "def metrics(df_test, df_pred):\n",
    "    \n",
    "    for i in range(10):\n",
    "        task = 'task_'+str(i+1)\n",
    "        \n",
    "        acc = sm.accuracy_score(df_test[task], df_pred[task], normalize=True, sample_weight=None)\n",
    "        ham = sm.hamming_loss(df_test[task], df_pred[task])\n",
    "        pre = sm.precision_score(df_test[task], df_pred[task], average = \"micro\")\n",
    "        rec = sm.recall_score(df_test[task], df_pred[task], average = \"micro\")\n",
    "        f_1 = sm.f1_score(df_test[task], df_pred[task], average = \"micro\")\n",
    "        \n",
    "        print(f'Accuracy Score for Task {i+1}  : {acc:.3f}')\n",
    "        print(f'Hamming Score for Task {i+1}   : {ham:.3f}')\n",
    "        print(f'Precision Score for Task {i+1} : {pre:.3f}')\n",
    "        print(f'Recall Score for Task {i+1}    : {rec:.3f}')\n",
    "        print(f'F1 Score for Task {i+1}        : {f_1:.3f}')\n",
    "        print('-'*50)"
   ]
  },
  {
   "cell_type": "code",
   "execution_count": 107,
   "id": "beab409b",
   "metadata": {},
   "outputs": [
    {
     "name": "stdout",
     "output_type": "stream",
     "text": [
      "Accuracy Score for Task 1  : 0.768\n",
      "Hamming Score for Task 1   : 0.232\n",
      "Precision Score for Task 1 : 0.768\n",
      "Recall Score for Task 1    : 0.768\n",
      "F1 Score for Task 1        : 0.768\n",
      "--------------------------------------------------\n",
      "Accuracy Score for Task 2  : 0.511\n",
      "Hamming Score for Task 2   : 0.489\n",
      "Precision Score for Task 2 : 0.511\n",
      "Recall Score for Task 2    : 0.511\n",
      "F1 Score for Task 2        : 0.511\n",
      "--------------------------------------------------\n",
      "Accuracy Score for Task 3  : 0.752\n",
      "Hamming Score for Task 3   : 0.248\n",
      "Precision Score for Task 3 : 0.752\n",
      "Recall Score for Task 3    : 0.752\n",
      "F1 Score for Task 3        : 0.752\n",
      "--------------------------------------------------\n",
      "Accuracy Score for Task 4  : 0.853\n",
      "Hamming Score for Task 4   : 0.147\n",
      "Precision Score for Task 4 : 0.853\n",
      "Recall Score for Task 4    : 0.853\n",
      "F1 Score for Task 4        : 0.853\n",
      "--------------------------------------------------\n",
      "Accuracy Score for Task 5  : 0.932\n",
      "Hamming Score for Task 5   : 0.068\n",
      "Precision Score for Task 5 : 0.932\n",
      "Recall Score for Task 5    : 0.932\n",
      "F1 Score for Task 5        : 0.932\n",
      "--------------------------------------------------\n",
      "Accuracy Score for Task 6  : 0.764\n",
      "Hamming Score for Task 6   : 0.236\n",
      "Precision Score for Task 6 : 0.764\n",
      "Recall Score for Task 6    : 0.764\n",
      "F1 Score for Task 6        : 0.764\n",
      "--------------------------------------------------\n",
      "Accuracy Score for Task 7  : 0.771\n",
      "Hamming Score for Task 7   : 0.229\n",
      "Precision Score for Task 7 : 0.771\n",
      "Recall Score for Task 7    : 0.771\n",
      "F1 Score for Task 7        : 0.771\n",
      "--------------------------------------------------\n",
      "Accuracy Score for Task 8  : 0.800\n",
      "Hamming Score for Task 8   : 0.200\n",
      "Precision Score for Task 8 : 0.800\n",
      "Recall Score for Task 8    : 0.800\n",
      "F1 Score for Task 8        : 0.800\n",
      "--------------------------------------------------\n",
      "Accuracy Score for Task 9  : 0.804\n",
      "Hamming Score for Task 9   : 0.196\n",
      "Precision Score for Task 9 : 0.804\n",
      "Recall Score for Task 9    : 0.804\n",
      "F1 Score for Task 9        : 0.804\n",
      "--------------------------------------------------\n",
      "Accuracy Score for Task 10  : 0.750\n",
      "Hamming Score for Task 10   : 0.250\n",
      "Precision Score for Task 10 : 0.750\n",
      "Recall Score for Task 10    : 0.750\n",
      "F1 Score for Task 10        : 0.750\n",
      "--------------------------------------------------\n"
     ]
    }
   ],
   "source": [
    "metrics(df1, df2)"
   ]
  },
  {
   "cell_type": "markdown",
   "id": "10e0a979",
   "metadata": {},
   "source": [
    "# Number of Similar Trees"
   ]
  },
  {
   "cell_type": "code",
   "execution_count": 43,
   "id": "54437ab6",
   "metadata": {},
   "outputs": [],
   "source": [
    "x = df1 == df2"
   ]
  },
  {
   "cell_type": "code",
   "execution_count": 44,
   "id": "b91ed939",
   "metadata": {},
   "outputs": [
    {
     "name": "stdout",
     "output_type": "stream",
     "text": [
      "Percentage of similar trees is 34.61\n"
     ]
    }
   ],
   "source": [
    "frac = sum(x.all(1) * 1) / x.shape[0] * 100\n",
    "\n",
    "print(f'Percentage of similar trees is {frac:.2f}')"
   ]
  },
  {
   "cell_type": "markdown",
   "id": "642d0f13",
   "metadata": {},
   "source": [
    "# Representations"
   ]
  },
  {
   "cell_type": "code",
   "execution_count": 1,
   "id": "2eab803e",
   "metadata": {},
   "outputs": [],
   "source": [
    "import os\n",
    "import torch\n",
    "import torch.nn as nn\n",
    "import pandas as pd\n",
    "from torch.utils.data import Dataset, DataLoader\n",
    "from torch.utils.tensorboard import SummaryWriter\n",
    "\n",
    "# our scripts and functions\n",
    "from src.network import MultiLabelNet, MultiTaskNet\n",
    "from src.dataset import DECaLSDataset\n",
    "import settings as st\n",
    "\n",
    "import matplotlib.pylab as plt \n",
    "import matplotlib as cm\n",
    "\n",
    "# plt.rc('text', usetex=True)\n",
    "# plt.rc('font',**{'family':'sans-serif','serif':['Palatino']})\n",
    "# figSize  = (12, 8)\n",
    "# fontSize = 25"
   ]
  },
  {
   "cell_type": "code",
   "execution_count": 20,
   "id": "5b0fda71",
   "metadata": {},
   "outputs": [],
   "source": [
    "tree_pred_df = pd.read_csv('results/tree_pred.csv')\n",
    "tree_test_df = pd.read_csv('results/tree_test.csv')"
   ]
  },
  {
   "cell_type": "code",
   "execution_count": 49,
   "id": "6e87f51a",
   "metadata": {},
   "outputs": [],
   "source": [
    "# tree_test_df[tree_test_df['task_1'] == \"['Artifact']\"]"
   ]
  },
  {
   "cell_type": "code",
   "execution_count": 33,
   "id": "7d2ae4e0",
   "metadata": {},
   "outputs": [],
   "source": [
    "device = torch.device('cuda' if torch.cuda.is_available() else 'cpu')"
   ]
  },
  {
   "cell_type": "code",
   "execution_count": 34,
   "id": "0d618ca5",
   "metadata": {},
   "outputs": [
    {
     "data": {
      "text/plain": [
       "<All keys matched successfully>"
      ]
     },
     "execution_count": 34,
     "metadata": {},
     "output_type": "execute_result"
    }
   ],
   "source": [
    "# load the model\n",
    "loaded_model = torch.load('../mtl-models/resnet_18_multitask_18.pth')\n",
    "model = MultiTaskNet(backbone=\"resnet18\", output_size=st.LABELS_PER_TASK, resnet_task=True)\n",
    "model.to(device)\n",
    "model.load_state_dict(loaded_model)"
   ]
  },
  {
   "cell_type": "code",
   "execution_count": 35,
   "id": "a2027a64",
   "metadata": {},
   "outputs": [
    {
     "name": "stdout",
     "output_type": "stream",
     "text": [
      "The number of test points is 37993\n"
     ]
    }
   ],
   "source": [
    "test_dataset = DECaLSDataset(mode='test', augment=False)\n",
    "test_loader = DataLoader(dataset=test_dataset, batch_size=1, shuffle=False)"
   ]
  },
  {
   "cell_type": "code",
   "execution_count": 36,
   "id": "ad5f7ba0",
   "metadata": {},
   "outputs": [],
   "source": [
    "data = test_loader.dataset[412]"
   ]
  },
  {
   "cell_type": "code",
   "execution_count": 37,
   "id": "cf621390",
   "metadata": {},
   "outputs": [],
   "source": [
    "def representations(model, data):\n",
    "    \n",
    "    backbone = nn.Sequential(*list(model.children())[:-1])\n",
    "    shared = backbone(data[0].view(1, 1, 224, 224).to(device))\n",
    "    \n",
    "    decoders = list(model.children())[1]\n",
    "    \n",
    "    dec = {}\n",
    "    \n",
    "    for k in range(10):\n",
    "        task = 'task_' + str(k+1)\n",
    "        model = nn.Sequential(*list(decoders[task].children())[:-1])\n",
    "        dec[task] = model(shared.view(1, 1, 1000)).view(-1)\n",
    "        \n",
    "    return shared.view(-1), dec"
   ]
  },
  {
   "cell_type": "code",
   "execution_count": 38,
   "id": "c093ab07",
   "metadata": {},
   "outputs": [],
   "source": [
    "fixed = representations(model, data)"
   ]
  },
  {
   "cell_type": "code",
   "execution_count": 39,
   "id": "29af3bf9",
   "metadata": {},
   "outputs": [],
   "source": [
    "pdist = nn.PairwiseDistance(p=2)"
   ]
  },
  {
   "cell_type": "code",
   "execution_count": 40,
   "id": "3d0b5214",
   "metadata": {},
   "outputs": [],
   "source": [
    "record = []\n",
    "\n",
    "for i in range(37993):\n",
    "    \n",
    "    toAppend = {}\n",
    "    \n",
    "    ith_data = test_loader.dataset[i]\n",
    "    \n",
    "    shared, tasks = representations(model, ith_data)\n",
    "    \n",
    "    dist_shared = pdist(fixed[0], shared)\n",
    "    \n",
    "    toAppend['shared'] = dist_shared.item()\n",
    "    \n",
    "    for m in range(10):\n",
    "        t = 'task_' + str(m + 1)\n",
    "        dist_task = pdist(fixed[1][t], tasks[t])\n",
    "        \n",
    "        toAppend[t]= dist_task.item()\n",
    "\n",
    "    record.append(toAppend)"
   ]
  },
  {
   "cell_type": "code",
   "execution_count": 41,
   "id": "35890613",
   "metadata": {},
   "outputs": [],
   "source": [
    "distances_df = pd.DataFrame(record)"
   ]
  },
  {
   "cell_type": "code",
   "execution_count": 42,
   "id": "4d42342e",
   "metadata": {},
   "outputs": [
    {
     "data": {
      "text/html": [
       "<div>\n",
       "<style scoped>\n",
       "    .dataframe tbody tr th:only-of-type {\n",
       "        vertical-align: middle;\n",
       "    }\n",
       "\n",
       "    .dataframe tbody tr th {\n",
       "        vertical-align: top;\n",
       "    }\n",
       "\n",
       "    .dataframe thead th {\n",
       "        text-align: right;\n",
       "    }\n",
       "</style>\n",
       "<table border=\"1\" class=\"dataframe\">\n",
       "  <thead>\n",
       "    <tr style=\"text-align: right;\">\n",
       "      <th></th>\n",
       "      <th>shared</th>\n",
       "      <th>task_1</th>\n",
       "      <th>task_2</th>\n",
       "      <th>task_3</th>\n",
       "      <th>task_4</th>\n",
       "      <th>task_5</th>\n",
       "      <th>task_6</th>\n",
       "      <th>task_7</th>\n",
       "      <th>task_8</th>\n",
       "      <th>task_9</th>\n",
       "      <th>task_10</th>\n",
       "    </tr>\n",
       "  </thead>\n",
       "  <tbody>\n",
       "    <tr>\n",
       "      <th>412</th>\n",
       "      <td>0.000032</td>\n",
       "      <td>0.000016</td>\n",
       "      <td>0.000016</td>\n",
       "      <td>0.000016</td>\n",
       "      <td>0.000016</td>\n",
       "      <td>0.000016</td>\n",
       "      <td>0.000016</td>\n",
       "      <td>0.000016</td>\n",
       "      <td>0.000016</td>\n",
       "      <td>0.000016</td>\n",
       "      <td>0.000016</td>\n",
       "    </tr>\n",
       "    <tr>\n",
       "      <th>29310</th>\n",
       "      <td>1.235613</td>\n",
       "      <td>0.553905</td>\n",
       "      <td>0.624848</td>\n",
       "      <td>0.588287</td>\n",
       "      <td>0.543028</td>\n",
       "      <td>0.522510</td>\n",
       "      <td>0.556082</td>\n",
       "      <td>0.503247</td>\n",
       "      <td>0.542599</td>\n",
       "      <td>0.375840</td>\n",
       "      <td>0.504523</td>\n",
       "    </tr>\n",
       "    <tr>\n",
       "      <th>27644</th>\n",
       "      <td>1.256936</td>\n",
       "      <td>0.597060</td>\n",
       "      <td>0.626190</td>\n",
       "      <td>0.549091</td>\n",
       "      <td>0.575931</td>\n",
       "      <td>0.480167</td>\n",
       "      <td>0.552496</td>\n",
       "      <td>0.542654</td>\n",
       "      <td>0.496375</td>\n",
       "      <td>0.413801</td>\n",
       "      <td>0.509646</td>\n",
       "    </tr>\n",
       "    <tr>\n",
       "      <th>2321</th>\n",
       "      <td>1.266995</td>\n",
       "      <td>0.680314</td>\n",
       "      <td>0.712486</td>\n",
       "      <td>0.500529</td>\n",
       "      <td>0.609968</td>\n",
       "      <td>0.493514</td>\n",
       "      <td>0.607705</td>\n",
       "      <td>0.560549</td>\n",
       "      <td>0.581498</td>\n",
       "      <td>0.406113</td>\n",
       "      <td>0.570744</td>\n",
       "    </tr>\n",
       "    <tr>\n",
       "      <th>33605</th>\n",
       "      <td>1.272773</td>\n",
       "      <td>0.621829</td>\n",
       "      <td>0.657887</td>\n",
       "      <td>0.596962</td>\n",
       "      <td>0.609921</td>\n",
       "      <td>0.528535</td>\n",
       "      <td>0.612333</td>\n",
       "      <td>0.569649</td>\n",
       "      <td>0.539344</td>\n",
       "      <td>0.449902</td>\n",
       "      <td>0.552893</td>\n",
       "    </tr>\n",
       "    <tr>\n",
       "      <th>36111</th>\n",
       "      <td>1.275903</td>\n",
       "      <td>0.669533</td>\n",
       "      <td>0.664708</td>\n",
       "      <td>0.598438</td>\n",
       "      <td>0.527787</td>\n",
       "      <td>0.467860</td>\n",
       "      <td>0.582840</td>\n",
       "      <td>0.533597</td>\n",
       "      <td>0.483811</td>\n",
       "      <td>0.398207</td>\n",
       "      <td>0.548394</td>\n",
       "    </tr>\n",
       "    <tr>\n",
       "      <th>33272</th>\n",
       "      <td>1.316638</td>\n",
       "      <td>0.597452</td>\n",
       "      <td>0.695939</td>\n",
       "      <td>0.621969</td>\n",
       "      <td>0.591870</td>\n",
       "      <td>0.517066</td>\n",
       "      <td>0.593607</td>\n",
       "      <td>0.503542</td>\n",
       "      <td>0.584836</td>\n",
       "      <td>0.468041</td>\n",
       "      <td>0.519052</td>\n",
       "    </tr>\n",
       "    <tr>\n",
       "      <th>26192</th>\n",
       "      <td>1.316992</td>\n",
       "      <td>0.658251</td>\n",
       "      <td>0.674703</td>\n",
       "      <td>0.574814</td>\n",
       "      <td>0.555732</td>\n",
       "      <td>0.548993</td>\n",
       "      <td>0.687971</td>\n",
       "      <td>0.565201</td>\n",
       "      <td>0.557437</td>\n",
       "      <td>0.434887</td>\n",
       "      <td>0.580272</td>\n",
       "    </tr>\n",
       "    <tr>\n",
       "      <th>3884</th>\n",
       "      <td>1.318765</td>\n",
       "      <td>0.628982</td>\n",
       "      <td>0.682970</td>\n",
       "      <td>0.535639</td>\n",
       "      <td>0.586816</td>\n",
       "      <td>0.556882</td>\n",
       "      <td>0.626671</td>\n",
       "      <td>0.530337</td>\n",
       "      <td>0.580935</td>\n",
       "      <td>0.425289</td>\n",
       "      <td>0.579869</td>\n",
       "    </tr>\n",
       "    <tr>\n",
       "      <th>16839</th>\n",
       "      <td>1.331554</td>\n",
       "      <td>0.687595</td>\n",
       "      <td>0.659574</td>\n",
       "      <td>0.547028</td>\n",
       "      <td>0.611198</td>\n",
       "      <td>0.500210</td>\n",
       "      <td>0.644508</td>\n",
       "      <td>0.581222</td>\n",
       "      <td>0.536028</td>\n",
       "      <td>0.440493</td>\n",
       "      <td>0.669364</td>\n",
       "    </tr>\n",
       "  </tbody>\n",
       "</table>\n",
       "</div>"
      ],
      "text/plain": [
       "         shared    task_1    task_2    task_3    task_4    task_5    task_6  \\\n",
       "412    0.000032  0.000016  0.000016  0.000016  0.000016  0.000016  0.000016   \n",
       "29310  1.235613  0.553905  0.624848  0.588287  0.543028  0.522510  0.556082   \n",
       "27644  1.256936  0.597060  0.626190  0.549091  0.575931  0.480167  0.552496   \n",
       "2321   1.266995  0.680314  0.712486  0.500529  0.609968  0.493514  0.607705   \n",
       "33605  1.272773  0.621829  0.657887  0.596962  0.609921  0.528535  0.612333   \n",
       "36111  1.275903  0.669533  0.664708  0.598438  0.527787  0.467860  0.582840   \n",
       "33272  1.316638  0.597452  0.695939  0.621969  0.591870  0.517066  0.593607   \n",
       "26192  1.316992  0.658251  0.674703  0.574814  0.555732  0.548993  0.687971   \n",
       "3884   1.318765  0.628982  0.682970  0.535639  0.586816  0.556882  0.626671   \n",
       "16839  1.331554  0.687595  0.659574  0.547028  0.611198  0.500210  0.644508   \n",
       "\n",
       "         task_7    task_8    task_9   task_10  \n",
       "412    0.000016  0.000016  0.000016  0.000016  \n",
       "29310  0.503247  0.542599  0.375840  0.504523  \n",
       "27644  0.542654  0.496375  0.413801  0.509646  \n",
       "2321   0.560549  0.581498  0.406113  0.570744  \n",
       "33605  0.569649  0.539344  0.449902  0.552893  \n",
       "36111  0.533597  0.483811  0.398207  0.548394  \n",
       "33272  0.503542  0.584836  0.468041  0.519052  \n",
       "26192  0.565201  0.557437  0.434887  0.580272  \n",
       "3884   0.530337  0.580935  0.425289  0.579869  \n",
       "16839  0.581222  0.536028  0.440493  0.669364  "
      ]
     },
     "execution_count": 42,
     "metadata": {},
     "output_type": "execute_result"
    }
   ],
   "source": [
    "distances_df.sort_values(by=['shared']).head(10)"
   ]
  },
  {
   "cell_type": "code",
   "execution_count": 43,
   "id": "d7e8d8de",
   "metadata": {},
   "outputs": [],
   "source": [
    "# distances_df.to_csv('results/distances_artifacts.csv')"
   ]
  },
  {
   "cell_type": "markdown",
   "id": "0f7cb371",
   "metadata": {},
   "source": [
    "### Load Distances"
   ]
  },
  {
   "cell_type": "code",
   "execution_count": 44,
   "id": "7b05e792",
   "metadata": {},
   "outputs": [],
   "source": [
    "distances_df = pd.read_csv('results/distances_artifacts.csv').iloc[:,1:]"
   ]
  },
  {
   "cell_type": "code",
   "execution_count": 58,
   "id": "7da48b8c",
   "metadata": {},
   "outputs": [],
   "source": [
    "nobjects = 35\n",
    "\n",
    "idxs = list(distances_df.sort_values(by=['shared']).head(nobjects).index)"
   ]
  },
  {
   "cell_type": "code",
   "execution_count": 59,
   "id": "92c7648b",
   "metadata": {},
   "outputs": [],
   "source": [
    "# plt.imshow(test_loader.dataset[412][0].permute(1, 2, 0), cmap=plt.get_cmap(name))\n",
    "# plt.axis('off')\n",
    "# plt.show()"
   ]
  },
  {
   "cell_type": "code",
   "execution_count": 62,
   "id": "b7668f34",
   "metadata": {},
   "outputs": [
    {
     "data": {
      "image/png": "[encoded data removed]",
      "text/plain": [
       "<Figure size 720x720 with 35 Axes>"
      ]
     },
     "metadata": {
      "needs_background": "light"
     },
     "output_type": "display_data"
    }
   ],
   "source": [
    "name = 'copper'\n",
    "plt.figure(figsize = (10, 10))\n",
    "for i in range(nobjects):\n",
    "    plt.subplot(7, 5, i+1)\n",
    "    plt.imshow(test_loader.dataset[idxs[i]][0].permute(1, 2, 0), cmap=plt.get_cmap(name))\n",
    "    plt.axis('off')\n",
    "plt.subplots_adjust(left=None, bottom=None, right=None, top=None, wspace=None, hspace=0.1)\n",
    "# plt.savefig('plots/neighbours_artifacts.pdf', bbox_inches = 'tight')\n",
    "plt.show()"
   ]
  },
  {
   "cell_type": "code",
   "execution_count": null,
   "id": "5bcd2851",
   "metadata": {},
   "outputs": [],
   "source": []
  }
 ],
 "metadata": {
  "kernelspec": {
   "display_name": "Python 3 (ipykernel)",
   "language": "python",
   "name": "python3"
  },
  "language_info": {
   "codemirror_mode": {
    "name": "ipython",
    "version": 3
   },
   "file_extension": ".py",
   "mimetype": "text/x-python",
   "name": "python",
   "nbconvert_exporter": "python",
   "pygments_lexer": "ipython3",
   "version": "3.9.12"
  }
 },
 "nbformat": 4,
 "nbformat_minor": 5
}
