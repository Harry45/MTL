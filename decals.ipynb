{
 "cells": [
  {
   "cell_type": "code",
   "execution_count": 1,
   "id": "ed6c8f26",
   "metadata": {},
   "outputs": [],
   "source": [
    "import os\n",
    "import pandas as pd \n",
    "import numpy as np \n",
    "\n",
    "# visualisation\n",
    "import matplotlib.pylab as plt\n",
    "import matplotlib.font_manager as fm\n",
    "\n",
    "# our scripts \n",
    "import src.processing as sp \n",
    "import settings as st\n",
    "import utils.helpers as hp\n",
    "import utils.imaging as ui"
   ]
  },
  {
   "cell_type": "markdown",
   "id": "46a67c9d",
   "metadata": {},
   "source": [
    "### Correct for the locations of the images "
   ]
  },
  {
   "cell_type": "code",
   "execution_count": 2,
   "id": "ebe6be46",
   "metadata": {},
   "outputs": [],
   "source": [
    "%%capture\n",
    "!git pull"
   ]
  },
  {
   "cell_type": "code",
   "execution_count": 3,
   "id": "1f779b6e",
   "metadata": {},
   "outputs": [],
   "source": [
    "# dr5_desc = sp.correct_location('gz_decals_volunteers_5', save = True, filename='dr5_votes')"
   ]
  },
  {
   "cell_type": "markdown",
   "id": "259a8cb3",
   "metadata": {},
   "source": [
    "### The data with the votes"
   ]
  },
  {
   "cell_type": "code",
   "execution_count": 2,
   "id": "156381ec",
   "metadata": {},
   "outputs": [],
   "source": [
    "dataframe = hp.read_parquet(st.DATA_DIR, 'descriptions/dr5_votes')"
   ]
  },
  {
   "cell_type": "code",
   "execution_count": 3,
   "id": "142ac33b",
   "metadata": {},
   "outputs": [],
   "source": [
    "labels = sp.generate_labels(dataframe, save=False)"
   ]
  },
  {
   "cell_type": "code",
   "execution_count": 4,
   "id": "ba0bd166",
   "metadata": {},
   "outputs": [
    {
     "data": {
      "text/html": [
       "<div>\n",
       "<style scoped>\n",
       "    .dataframe tbody tr th:only-of-type {\n",
       "        vertical-align: middle;\n",
       "    }\n",
       "\n",
       "    .dataframe tbody tr th {\n",
       "        vertical-align: top;\n",
       "    }\n",
       "\n",
       "    .dataframe thead th {\n",
       "        text-align: right;\n",
       "    }\n",
       "</style>\n",
       "<table border=\"1\" class=\"dataframe\">\n",
       "  <thead>\n",
       "    <tr style=\"text-align: right;\">\n",
       "      <th></th>\n",
       "      <th>iauname</th>\n",
       "      <th>png_loc</th>\n",
       "      <th>Smooth</th>\n",
       "      <th>Featured or Disk</th>\n",
       "      <th>Artifact</th>\n",
       "      <th>Round</th>\n",
       "      <th>In Between</th>\n",
       "      <th>Cigar Shaped</th>\n",
       "      <th>Edge On Disk (Yes)</th>\n",
       "      <th>Edge On Disk (No)</th>\n",
       "      <th>...</th>\n",
       "      <th>Spiral Arms (2)</th>\n",
       "      <th>Spiral Arms (3)</th>\n",
       "      <th>Spiral Arms (4)</th>\n",
       "      <th>Spiral Arms (More Than 4)</th>\n",
       "      <th>Spiral Arms (cannot tell)</th>\n",
       "      <th>Central Bulge (None)</th>\n",
       "      <th>Central Bulge (Small)</th>\n",
       "      <th>Central Bulge (Moderate)</th>\n",
       "      <th>Central Bulge (Large)</th>\n",
       "      <th>Central Bulge (Dominant)</th>\n",
       "    </tr>\n",
       "  </thead>\n",
       "  <tbody>\n",
       "    <tr>\n",
       "      <th>0</th>\n",
       "      <td>J112953.88-000427.4</td>\n",
       "      <td>J112/J112953.88-000427.4.png</td>\n",
       "      <td>1</td>\n",
       "      <td>0</td>\n",
       "      <td>0</td>\n",
       "      <td>0</td>\n",
       "      <td>0</td>\n",
       "      <td>1</td>\n",
       "      <td>0</td>\n",
       "      <td>1</td>\n",
       "      <td>...</td>\n",
       "      <td>0</td>\n",
       "      <td>0</td>\n",
       "      <td>0</td>\n",
       "      <td>0</td>\n",
       "      <td>1</td>\n",
       "      <td>0</td>\n",
       "      <td>0</td>\n",
       "      <td>1</td>\n",
       "      <td>0</td>\n",
       "      <td>0</td>\n",
       "    </tr>\n",
       "    <tr>\n",
       "      <th>1</th>\n",
       "      <td>J104325.29+190335.0</td>\n",
       "      <td>J104/J104325.29+190335.0.png</td>\n",
       "      <td>1</td>\n",
       "      <td>0</td>\n",
       "      <td>0</td>\n",
       "      <td>0</td>\n",
       "      <td>1</td>\n",
       "      <td>0</td>\n",
       "      <td>0</td>\n",
       "      <td>1</td>\n",
       "      <td>...</td>\n",
       "      <td>0</td>\n",
       "      <td>0</td>\n",
       "      <td>0</td>\n",
       "      <td>0</td>\n",
       "      <td>0</td>\n",
       "      <td>0</td>\n",
       "      <td>0</td>\n",
       "      <td>1</td>\n",
       "      <td>0</td>\n",
       "      <td>1</td>\n",
       "    </tr>\n",
       "    <tr>\n",
       "      <th>2</th>\n",
       "      <td>J104629.54+115415.1</td>\n",
       "      <td>J104/J104629.54+115415.1.png</td>\n",
       "      <td>0</td>\n",
       "      <td>1</td>\n",
       "      <td>0</td>\n",
       "      <td>0</td>\n",
       "      <td>1</td>\n",
       "      <td>0</td>\n",
       "      <td>0</td>\n",
       "      <td>1</td>\n",
       "      <td>...</td>\n",
       "      <td>1</td>\n",
       "      <td>0</td>\n",
       "      <td>0</td>\n",
       "      <td>0</td>\n",
       "      <td>0</td>\n",
       "      <td>0</td>\n",
       "      <td>1</td>\n",
       "      <td>1</td>\n",
       "      <td>0</td>\n",
       "      <td>0</td>\n",
       "    </tr>\n",
       "    <tr>\n",
       "      <th>3</th>\n",
       "      <td>J082950.68+125621.8</td>\n",
       "      <td>J082/J082950.68+125621.8.png</td>\n",
       "      <td>0</td>\n",
       "      <td>1</td>\n",
       "      <td>0</td>\n",
       "      <td>0</td>\n",
       "      <td>0</td>\n",
       "      <td>1</td>\n",
       "      <td>1</td>\n",
       "      <td>0</td>\n",
       "      <td>...</td>\n",
       "      <td>0</td>\n",
       "      <td>0</td>\n",
       "      <td>0</td>\n",
       "      <td>0</td>\n",
       "      <td>0</td>\n",
       "      <td>0</td>\n",
       "      <td>0</td>\n",
       "      <td>0</td>\n",
       "      <td>0</td>\n",
       "      <td>0</td>\n",
       "    </tr>\n",
       "    <tr>\n",
       "      <th>4</th>\n",
       "      <td>J122056.00-015022.0</td>\n",
       "      <td>J122/J122056.00-015022.0.png</td>\n",
       "      <td>0</td>\n",
       "      <td>1</td>\n",
       "      <td>0</td>\n",
       "      <td>0</td>\n",
       "      <td>1</td>\n",
       "      <td>0</td>\n",
       "      <td>0</td>\n",
       "      <td>1</td>\n",
       "      <td>...</td>\n",
       "      <td>1</td>\n",
       "      <td>0</td>\n",
       "      <td>0</td>\n",
       "      <td>0</td>\n",
       "      <td>0</td>\n",
       "      <td>0</td>\n",
       "      <td>0</td>\n",
       "      <td>1</td>\n",
       "      <td>0</td>\n",
       "      <td>0</td>\n",
       "    </tr>\n",
       "  </tbody>\n",
       "</table>\n",
       "<p>5 rows × 36 columns</p>\n",
       "</div>"
      ],
      "text/plain": [
       "               iauname                       png_loc  Smooth  \\\n",
       "0  J112953.88-000427.4  J112/J112953.88-000427.4.png       1   \n",
       "1  J104325.29+190335.0  J104/J104325.29+190335.0.png       1   \n",
       "2  J104629.54+115415.1  J104/J104629.54+115415.1.png       0   \n",
       "3  J082950.68+125621.8  J082/J082950.68+125621.8.png       0   \n",
       "4  J122056.00-015022.0  J122/J122056.00-015022.0.png       0   \n",
       "\n",
       "   Featured or Disk  Artifact  Round  In Between  Cigar Shaped  \\\n",
       "0                 0         0      0           0             1   \n",
       "1                 0         0      0           1             0   \n",
       "2                 1         0      0           1             0   \n",
       "3                 1         0      0           0             1   \n",
       "4                 1         0      0           1             0   \n",
       "\n",
       "   Edge On Disk (Yes)  Edge On Disk (No)  ...  Spiral Arms (2)  \\\n",
       "0                   0                  1  ...                0   \n",
       "1                   0                  1  ...                0   \n",
       "2                   0                  1  ...                1   \n",
       "3                   1                  0  ...                0   \n",
       "4                   0                  1  ...                1   \n",
       "\n",
       "   Spiral Arms (3)  Spiral Arms (4)  Spiral Arms (More Than 4)  \\\n",
       "0                0                0                          0   \n",
       "1                0                0                          0   \n",
       "2                0                0                          0   \n",
       "3                0                0                          0   \n",
       "4                0                0                          0   \n",
       "\n",
       "   Spiral Arms (cannot tell)  Central Bulge (None)  Central Bulge (Small)  \\\n",
       "0                          1                     0                      0   \n",
       "1                          0                     0                      0   \n",
       "2                          0                     0                      1   \n",
       "3                          0                     0                      0   \n",
       "4                          0                     0                      0   \n",
       "\n",
       "   Central Bulge (Moderate)  Central Bulge (Large)  Central Bulge (Dominant)  \n",
       "0                         1                      0                         0  \n",
       "1                         1                      0                         1  \n",
       "2                         1                      0                         0  \n",
       "3                         0                      0                         0  \n",
       "4                         1                      0                         0  \n",
       "\n",
       "[5 rows x 36 columns]"
      ]
     },
     "execution_count": 4,
     "metadata": {},
     "output_type": "execute_result"
    }
   ],
   "source": [
    "labels.head()"
   ]
  },
  {
   "cell_type": "code",
   "execution_count": 5,
   "id": "3f38da54",
   "metadata": {},
   "outputs": [],
   "source": [
    "# labels.to_csv('ml/labels.csv')"
   ]
  },
  {
   "cell_type": "markdown",
   "id": "d9013369",
   "metadata": {},
   "source": [
    "# Calculate the weights per class"
   ]
  },
  {
   "cell_type": "code",
   "execution_count": 5,
   "id": "357809ed",
   "metadata": {},
   "outputs": [],
   "source": [
    "labels_num = labels.iloc[:,2:]\n",
    "weights = labels_num.sum(axis=0)\n",
    "inv_weights = 1/weights\n",
    "inv_weights_norm = inv_weights/inv_weights.sum()"
   ]
  },
  {
   "cell_type": "code",
   "execution_count": 6,
   "id": "9d1dac79",
   "metadata": {},
   "outputs": [
    {
     "data": {
      "text/plain": [
       "Smooth                         0.002821\n",
       "Featured or Disk               0.005690\n",
       "Artifact                       0.057493\n",
       "Round                          0.006431\n",
       "In Between                     0.003816\n",
       "Cigar Shaped                   0.011399\n",
       "Edge On Disk (Yes)             0.010705\n",
       "Edge On Disk (No)              0.003131\n",
       "Merging (Merger)               0.024418\n",
       "Merging (Major Disturbance)    0.041934\n",
       "Merging (Minor Disturbance)    0.017971\n",
       "Merging (None)                 0.002253\n",
       "Bulge (Rounded)                0.008159\n",
       "Bulge (Boxy)                   0.057669\n",
       "Bulge (None)                   0.023825\n",
       "No Bar                         0.003642\n",
       "Weak Bar                       0.014607\n",
       "Strong Bar                     0.029243\n",
       "Spiral Arms (Yes)              0.006750\n",
       "Spiral Arms (No)               0.004657\n",
       "Spiral Winding (Tight)         0.010099\n",
       "Spiral Winding (Medium)        0.013962\n",
       "Spiral Winding (Loose)         0.020519\n",
       "Spiral Arms (1)                0.055613\n",
       "Spiral Arms (2)                0.009501\n",
       "Spiral Arms (3)                0.061095\n",
       "Spiral Arms (4)                0.147557\n",
       "Spiral Arms (More Than 4)      0.187171\n",
       "Spiral Arms (cannot tell)      0.015082\n",
       "Central Bulge (None)           0.027930\n",
       "Central Bulge (Small)          0.008518\n",
       "Central Bulge (Moderate)       0.005348\n",
       "Central Bulge (Large)          0.018162\n",
       "Central Bulge (Dominant)       0.082830\n",
       "dtype: float64"
      ]
     },
     "execution_count": 6,
     "metadata": {},
     "output_type": "execute_result"
    }
   ],
   "source": [
    "inv_weights_norm"
   ]
  },
  {
   "cell_type": "markdown",
   "id": "522e11fb",
   "metadata": {},
   "source": [
    "# Split into train, test and validate"
   ]
  },
  {
   "cell_type": "code",
   "execution_count": 8,
   "id": "9cc4b82e",
   "metadata": {},
   "outputs": [],
   "source": [
    "train_val_test = sp.split_data(labels, 0.05, 0.15, save=False)"
   ]
  },
  {
   "cell_type": "code",
   "execution_count": 9,
   "id": "58820c0b",
   "metadata": {},
   "outputs": [
    {
     "data": {
      "text/plain": [
       "(202628, 36)"
      ]
     },
     "execution_count": 9,
     "metadata": {},
     "output_type": "execute_result"
    }
   ],
   "source": [
    "train_val_test['train'].shape"
   ]
  },
  {
   "cell_type": "code",
   "execution_count": 10,
   "id": "b064efac",
   "metadata": {},
   "outputs": [
    {
     "data": {
      "text/plain": [
       "(12665, 36)"
      ]
     },
     "execution_count": 10,
     "metadata": {},
     "output_type": "execute_result"
    }
   ],
   "source": [
    "train_val_test['validate'].shape"
   ]
  },
  {
   "cell_type": "code",
   "execution_count": 11,
   "id": "91b2d8cf",
   "metadata": {},
   "outputs": [
    {
     "data": {
      "text/plain": [
       "(37993, 36)"
      ]
     },
     "execution_count": 11,
     "metadata": {},
     "output_type": "execute_result"
    }
   ],
   "source": [
    "train_val_test['test'].shape"
   ]
  },
  {
   "cell_type": "code",
   "execution_count": 12,
   "id": "43ae13e9",
   "metadata": {},
   "outputs": [
    {
     "data": {
      "text/plain": [
       "(253286, 36)"
      ]
     },
     "execution_count": 12,
     "metadata": {},
     "output_type": "execute_result"
    }
   ],
   "source": [
    "labels.shape"
   ]
  },
  {
   "cell_type": "markdown",
   "id": "01e574b7",
   "metadata": {},
   "source": [
    "### DataLoader"
   ]
  },
  {
   "cell_type": "code",
   "execution_count": 3,
   "id": "833d1cc4",
   "metadata": {},
   "outputs": [],
   "source": [
    "from src.dataset import DECaLSDataset\n",
    "from torch.utils.data import Dataset, DataLoader"
   ]
  },
  {
   "cell_type": "code",
   "execution_count": 4,
   "id": "37f79bc3",
   "metadata": {},
   "outputs": [
    {
     "name": "stdout",
     "output_type": "stream",
     "text": [
      "The number of training points is 189963\n"
     ]
    }
   ],
   "source": [
    "traindataset = DECaLSDataset(mode = 'train', augment = False, multi_task = True)"
   ]
  },
  {
   "cell_type": "code",
   "execution_count": 10,
   "id": "2be0006b",
   "metadata": {},
   "outputs": [],
   "source": [
    "train_loader = DataLoader(dataset=traindataset, batch_size=4, shuffle=True)"
   ]
  },
  {
   "cell_type": "code",
   "execution_count": 11,
   "id": "1358450d",
   "metadata": {},
   "outputs": [],
   "source": [
    "dataiter = iter(train_loader)"
   ]
  },
  {
   "cell_type": "code",
   "execution_count": 12,
   "id": "e5f8ce81",
   "metadata": {},
   "outputs": [],
   "source": [
    "data = dataiter.next()"
   ]
  },
  {
   "cell_type": "code",
   "execution_count": 20,
   "id": "b2efbc69",
   "metadata": {},
   "outputs": [
    {
     "data": {
      "text/plain": [
       "array(['Featured or Disk', 'Edge On Disk (Yes)', 'Bulge (Rounded)',\n",
       "       'Merging (None)'], dtype='<U27')"
      ]
     },
     "execution_count": 20,
     "metadata": {},
     "output_type": "execute_result"
    }
   ],
   "source": [
    "sp.find_labels({'task_'+str(i+1): data[1][i][2].tolist() for i in range(10)})"
   ]
  },
  {
   "cell_type": "markdown",
   "id": "1d4fb2b9",
   "metadata": {},
   "source": [
    "# Test Network"
   ]
  },
  {
   "cell_type": "code",
   "execution_count": 1,
   "id": "42021eba",
   "metadata": {},
   "outputs": [],
   "source": [
    "import os\n",
    "import torch\n",
    "import torch.nn as nn\n",
    "from torch.utils.data import Dataset, DataLoader\n",
    "from torch.utils.tensorboard import SummaryWriter\n",
    "\n",
    "# our scripts and functions\n",
    "from src.network import MultiLabelNet, MultiTaskNet\n",
    "from src.dataset import DECaLSDataset\n",
    "import settings as st"
   ]
  },
  {
   "cell_type": "code",
   "execution_count": 2,
   "id": "676a725b",
   "metadata": {},
   "outputs": [
    {
     "name": "stdout",
     "output_type": "stream",
     "text": [
      "The number of training points is 189963\n",
      "The number of validation points is 12665\n"
     ]
    }
   ],
   "source": [
    "out_path = './output/'\n",
    "os.makedirs(out_path, exist_ok=True)\n",
    "\n",
    "# Set device to CUDA if a CUDA device is available, else CPU\n",
    "device = torch.device('cuda' if torch.cuda.is_available() else 'cpu')\n",
    "\n",
    "# create the dataloader\n",
    "train_dataset = DECaLSDataset(mode='train', augment=False, multi_task = True)\n",
    "val_dataset = DECaLSDataset(mode='validate', augment=False, multi_task = True)\n",
    "\n",
    "train_loader = DataLoader(dataset=train_dataset, batch_size=4, shuffle=True)\n",
    "val_loader = DataLoader(dataset=val_dataset, batch_size=4, shuffle=False)"
   ]
  },
  {
   "cell_type": "code",
   "execution_count": 3,
   "id": "fd9a138a",
   "metadata": {},
   "outputs": [],
   "source": [
    "# %%capture\n",
    "# model = MultiLabelNet(backbone=\"resnet18\")\n",
    "# model.to(device)"
   ]
  },
  {
   "cell_type": "code",
   "execution_count": 4,
   "id": "c6532b80",
   "metadata": {},
   "outputs": [],
   "source": [
    "LABELS_PER_TASK = {'task_1': 3,\n",
    "                   'task_2': 3,\n",
    "                   'task_3': 2,\n",
    "                   'task_4': 4,\n",
    "                   'task_5': 3,\n",
    "                   'task_6': 3,\n",
    "                   'task_7': 2,\n",
    "                   'task_8': 3,\n",
    "                   'task_9': 6,\n",
    "                   'task_10': 5\n",
    "                   }"
   ]
  },
  {
   "cell_type": "code",
   "execution_count": 5,
   "id": "c43d56ce",
   "metadata": {},
   "outputs": [],
   "source": [
    "%%capture\n",
    "model = MultiTaskNet(backbone=\"resnet18\", output_size=LABELS_PER_TASK, resnet_task = True)\n",
    "model.to(device)"
   ]
  },
  {
   "cell_type": "code",
   "execution_count": 6,
   "id": "639ad9eb",
   "metadata": {},
   "outputs": [],
   "source": [
    "data = next(iter(train_loader))"
   ]
  },
  {
   "cell_type": "code",
   "execution_count": 7,
   "id": "52937201",
   "metadata": {},
   "outputs": [],
   "source": [
    "def criterion(loss, outputs: nn.ModuleDict, labels: dict) -> torch.tensor:\n",
    "    losses = 0\n",
    "    for i, key in enumerate(outputs):\n",
    "        # print(outputs[key])\n",
    "        # print(labels[key])\n",
    "        losses += loss(outputs[key], labels[key].float().to(device))\n",
    "    return losses"
   ]
  },
  {
   "cell_type": "code",
   "execution_count": 7,
   "id": "cb22fac2",
   "metadata": {},
   "outputs": [],
   "source": [
    "outputs = model(data[0].to(device))"
   ]
  },
  {
   "cell_type": "code",
   "execution_count": 8,
   "id": "9269713c",
   "metadata": {},
   "outputs": [],
   "source": [
    "outputs = model(data[0].to(device))\n",
    "labels = data[1]\n",
    "loss = nn.BCEWithLogitsLoss()\n",
    "l = criterion(loss, outputs, labels)"
   ]
  },
  {
   "cell_type": "markdown",
   "id": "f5a0ade0",
   "metadata": {},
   "source": [
    "# If We Want to Use Shared Representation\n",
    "\n",
    "- Also implemented a ResNet in 1D. "
   ]
  },
  {
   "cell_type": "code",
   "execution_count": null,
   "id": "129f74b8",
   "metadata": {},
   "outputs": [],
   "source": [
    "import torch.nn.functional as F"
   ]
  },
  {
   "cell_type": "code",
   "execution_count": 26,
   "id": "8b6adc68",
   "metadata": {},
   "outputs": [],
   "source": [
    "tf_last_layer_chopped = nn.Sequential(*list(model.children())[:-1])"
   ]
  },
  {
   "cell_type": "code",
   "execution_count": 32,
   "id": "6fd6ce65",
   "metadata": {},
   "outputs": [],
   "source": [
    "feat = tf_last_layer_chopped(data[0].to(device))"
   ]
  },
  {
   "cell_type": "code",
   "execution_count": 34,
   "id": "ec82b1bc",
   "metadata": {},
   "outputs": [],
   "source": [
    "f = feat.to('cpu')"
   ]
  },
  {
   "cell_type": "code",
   "execution_count": 69,
   "id": "4d85d82f",
   "metadata": {},
   "outputs": [],
   "source": [
    "conv1 = nn.Conv1d(1, 1, kernel_size=3, stride=2, padding = (3 - 1)//2)\n",
    "bn1 = nn.BatchNorm1d(1)\n",
    "conv2 = nn.Conv1d(1, 1, kernel_size=3, stride=2, padding = (3 - 1)//2)\n",
    "bn2 = nn.BatchNorm1d(1)"
   ]
  },
  {
   "cell_type": "code",
   "execution_count": 99,
   "id": "86b65b7a",
   "metadata": {},
   "outputs": [],
   "source": [
    "features = f.unsqueeze(1)"
   ]
  },
  {
   "cell_type": "code",
   "execution_count": 100,
   "id": "fbd156f4",
   "metadata": {},
   "outputs": [],
   "source": [
    "out = conv1(features)\n",
    "out = bn1(out)\n",
    "out = F.relu(out)\n",
    "out = conv2(out)\n",
    "out = bn2(out)"
   ]
  },
  {
   "cell_type": "code",
   "execution_count": 101,
   "id": "40e11429",
   "metadata": {},
   "outputs": [],
   "source": [
    "nout = out.shape[-1]\n",
    "nfeat = features.shape[-1]\n",
    "left = (1000 - nout) // 2\n",
    "right = 1000 - left - nout"
   ]
  },
  {
   "cell_type": "code",
   "execution_count": 102,
   "id": "9c91c9d0",
   "metadata": {},
   "outputs": [],
   "source": [
    "out = F.pad(input=out, pad=(left, right), mode='constant', value=0)"
   ]
  },
  {
   "cell_type": "code",
   "execution_count": 103,
   "id": "4e726375",
   "metadata": {},
   "outputs": [],
   "source": [
    "out += features\n",
    "out = F.relu(out)"
   ]
  },
  {
   "cell_type": "code",
   "execution_count": 107,
   "id": "75f731ca",
   "metadata": {},
   "outputs": [],
   "source": [
    "out = conv1(out)\n",
    "out = bn1(out)\n",
    "out = F.relu(out)\n",
    "out = conv2(out)\n",
    "out = bn2(out)"
   ]
  },
  {
   "cell_type": "code",
   "execution_count": 108,
   "id": "eebe9697",
   "metadata": {},
   "outputs": [
    {
     "data": {
      "text/plain": [
       "torch.Size([4, 1, 250])"
      ]
     },
     "execution_count": 108,
     "metadata": {},
     "output_type": "execute_result"
    }
   ],
   "source": [
    "out.shape"
   ]
  },
  {
   "cell_type": "code",
   "execution_count": 138,
   "id": "9b52563b",
   "metadata": {},
   "outputs": [],
   "source": [
    "resnet_layer = nn.Sequential(*list(model.children())[:-1])"
   ]
  },
  {
   "cell_type": "code",
   "execution_count": 135,
   "id": "b06f049c",
   "metadata": {},
   "outputs": [],
   "source": [
    "model_1 = nn.Sequential(*list(model.children())[1]['task_1'].layers[:-1])"
   ]
  },
  {
   "cell_type": "code",
   "execution_count": 137,
   "id": "feb92d86",
   "metadata": {},
   "outputs": [],
   "source": [
    "# from torchsummary import summary\n",
    "# summary(model, (1, 224, 224))"
   ]
  },
  {
   "cell_type": "markdown",
   "id": "fc295796",
   "metadata": {},
   "source": [
    "# Embedding Vector"
   ]
  },
  {
   "cell_type": "code",
   "execution_count": 74,
   "id": "fdffeb35",
   "metadata": {},
   "outputs": [],
   "source": [
    "import torch\n",
    "import torch.nn as nn \n",
    "from src.network import MultiLabelNet\n",
    "from src.dataset import DECaLSDataset\n",
    "from torch.utils.data import DataLoader\n",
    "import settings as st\n",
    "\n",
    "import os\n",
    "from PIL import Image\n",
    "import matplotlib.pylab as plt"
   ]
  },
  {
   "cell_type": "code",
   "execution_count": 75,
   "id": "bc834a2e",
   "metadata": {},
   "outputs": [],
   "source": [
    "device = torch.device('cuda' if torch.cuda.is_available() else 'cpu')"
   ]
  },
  {
   "cell_type": "code",
   "execution_count": 76,
   "id": "f39576bb",
   "metadata": {},
   "outputs": [
    {
     "name": "stderr",
     "output_type": "stream",
     "text": [
      "UsageError: Line magic function `%%capture` not found.\n"
     ]
    }
   ],
   "source": [
    "# load the model\n",
    "%%capture\n",
    "loaded_model = torch.load('../ml-models/resnet_18_multilabel_24.pth')\n",
    "model = MultiLabelNet(backbone=\"resnet18\")\n",
    "model.to(device)\n",
    "model.load_state_dict(loaded_model)\n",
    "model.eval()"
   ]
  },
  {
   "cell_type": "code",
   "execution_count": 77,
   "id": "5c938862",
   "metadata": {},
   "outputs": [],
   "source": [
    "tf_last_layer_chopped = nn.Sequential(*list(model.children())[:-1])"
   ]
  },
  {
   "cell_type": "code",
   "execution_count": 78,
   "id": "54bebc24",
   "metadata": {},
   "outputs": [
    {
     "name": "stdout",
     "output_type": "stream",
     "text": [
      "The number of test points is 50658\n"
     ]
    }
   ],
   "source": [
    "test_dataset = DECaLSDataset(mode='test', augment=False)\n",
    "test_loader = DataLoader(dataset=test_dataset, batch_size=1, shuffle=False)"
   ]
  },
  {
   "cell_type": "code",
   "execution_count": 96,
   "id": "95e9305c",
   "metadata": {},
   "outputs": [],
   "source": [
    "d1 = test_loader.dataset[0]\n",
    "d2 = test_loader.dataset[1]\n",
    "d3 = test_loader.dataset[2]\n",
    "d4 = test_loader.dataset[3]"
   ]
  },
  {
   "cell_type": "code",
   "execution_count": 97,
   "id": "1b41d11d",
   "metadata": {},
   "outputs": [],
   "source": [
    "o1 = tf_last_layer_chopped(d1[0].view(1,1,224,224).to(device))\n",
    "o2 = tf_last_layer_chopped(d2[0].view(1,1,224,224).to(device))\n",
    "o3 = tf_last_layer_chopped(d3[0].view(1,1,224,224).to(device))\n",
    "o4 = tf_last_layer_chopped(d4[0].view(1,1,224,224).to(device))"
   ]
  },
  {
   "cell_type": "code",
   "execution_count": 81,
   "id": "5670e3f2",
   "metadata": {},
   "outputs": [
    {
     "data": {
      "text/plain": [
       "tensor([1, 0, 0, 0, 1, 1, 0, 1, 1, 0, 0, 1, 0, 0, 0, 0, 1, 0, 0, 0, 0, 0, 1, 1,\n",
       "        0, 1, 0, 0, 0, 0, 1, 0, 0, 0])"
      ]
     },
     "execution_count": 81,
     "metadata": {},
     "output_type": "execute_result"
    }
   ],
   "source": [
    "d1[1]"
   ]
  },
  {
   "cell_type": "code",
   "execution_count": 82,
   "id": "17eac9a7",
   "metadata": {},
   "outputs": [
    {
     "data": {
      "text/plain": [
       "tensor([1, 0, 0, 0, 0, 0, 0, 0, 0, 0, 0, 0, 0, 0, 0, 1, 0, 0, 0, 0, 0, 0, 0, 0,\n",
       "        0, 0, 0, 0, 0, 0, 1, 0, 0, 0])"
      ]
     },
     "execution_count": 82,
     "metadata": {},
     "output_type": "execute_result"
    }
   ],
   "source": [
    "d2[1]"
   ]
  },
  {
   "cell_type": "code",
   "execution_count": 83,
   "id": "2b20b66a",
   "metadata": {},
   "outputs": [
    {
     "data": {
      "text/plain": [
       "tensor([0, 1, 0, 0, 1, 1, 0, 0, 0, 1, 0, 0, 0, 1, 0, 0, 0, 0, 0, 0, 1, 0, 1, 0,\n",
       "        0, 0, 0, 0, 0, 0, 1, 0, 0, 0])"
      ]
     },
     "execution_count": 83,
     "metadata": {},
     "output_type": "execute_result"
    }
   ],
   "source": [
    "d3[1]"
   ]
  },
  {
   "cell_type": "code",
   "execution_count": 98,
   "id": "d30cd4e4",
   "metadata": {},
   "outputs": [
    {
     "data": {
      "text/plain": [
       "tensor([0, 1, 0, 0, 1, 1, 0, 0, 0, 1, 0, 0, 1, 0, 0, 0, 1, 0, 0, 0, 0, 1, 0, 0,\n",
       "        0, 0, 0, 0, 0, 1, 0, 0, 0, 0])"
      ]
     },
     "execution_count": 98,
     "metadata": {},
     "output_type": "execute_result"
    }
   ],
   "source": [
    "d4[1]"
   ]
  },
  {
   "cell_type": "markdown",
   "id": "b145c737",
   "metadata": {},
   "source": [
    "### Pairwise Distance"
   ]
  },
  {
   "cell_type": "code",
   "execution_count": 92,
   "id": "b3e3fc3f",
   "metadata": {},
   "outputs": [],
   "source": [
    "pdist = nn.PairwiseDistance(p=2)"
   ]
  },
  {
   "cell_type": "code",
   "execution_count": 93,
   "id": "b11e5dc0",
   "metadata": {},
   "outputs": [
    {
     "data": {
      "text/plain": [
       "tensor([7.0306], device='cuda:0', grad_fn=<NormBackward1>)"
      ]
     },
     "execution_count": 93,
     "metadata": {},
     "output_type": "execute_result"
    }
   ],
   "source": [
    "pdist(o1, o2)"
   ]
  },
  {
   "cell_type": "code",
   "execution_count": 94,
   "id": "d0e16671",
   "metadata": {},
   "outputs": [
    {
     "data": {
      "text/plain": [
       "tensor([6.3318], device='cuda:0', grad_fn=<NormBackward1>)"
      ]
     },
     "execution_count": 94,
     "metadata": {},
     "output_type": "execute_result"
    }
   ],
   "source": [
    "pdist(o1, o3)"
   ]
  },
  {
   "cell_type": "code",
   "execution_count": 95,
   "id": "e288832f",
   "metadata": {},
   "outputs": [
    {
     "data": {
      "text/plain": [
       "tensor([7.0053], device='cuda:0', grad_fn=<NormBackward1>)"
      ]
     },
     "execution_count": 95,
     "metadata": {},
     "output_type": "execute_result"
    }
   ],
   "source": [
    "pdist(o2, o3)"
   ]
  },
  {
   "cell_type": "code",
   "execution_count": 103,
   "id": "04d7236d",
   "metadata": {},
   "outputs": [
    {
     "data": {
      "text/plain": [
       "tensor([8.2538], device='cuda:0', grad_fn=<NormBackward1>)"
      ]
     },
     "execution_count": 103,
     "metadata": {},
     "output_type": "execute_result"
    }
   ],
   "source": [
    "pdist(o1, o4)"
   ]
  },
  {
   "cell_type": "code",
   "execution_count": 104,
   "id": "08f55e95",
   "metadata": {},
   "outputs": [
    {
     "data": {
      "text/plain": [
       "tensor([9.2016], device='cuda:0', grad_fn=<NormBackward1>)"
      ]
     },
     "execution_count": 104,
     "metadata": {},
     "output_type": "execute_result"
    }
   ],
   "source": [
    "pdist(o2, o4)"
   ]
  },
  {
   "cell_type": "code",
   "execution_count": 105,
   "id": "94c397b1",
   "metadata": {},
   "outputs": [
    {
     "data": {
      "text/plain": [
       "tensor([6.2826], device='cuda:0', grad_fn=<NormBackward1>)"
      ]
     },
     "execution_count": 105,
     "metadata": {},
     "output_type": "execute_result"
    }
   ],
   "source": [
    "pdist(o3, o4)"
   ]
  },
  {
   "cell_type": "markdown",
   "id": "efdb010f",
   "metadata": {},
   "source": [
    "### Cosine Similarity"
   ]
  },
  {
   "cell_type": "code",
   "execution_count": 84,
   "id": "b3eb7781",
   "metadata": {},
   "outputs": [],
   "source": [
    "cos = nn.CosineSimilarity(dim=1, eps=1e-6)"
   ]
  },
  {
   "cell_type": "code",
   "execution_count": 85,
   "id": "78a06f6f",
   "metadata": {},
   "outputs": [
    {
     "data": {
      "text/plain": [
       "tensor([0.5844], device='cuda:0', grad_fn=<DivBackward0>)"
      ]
     },
     "execution_count": 85,
     "metadata": {},
     "output_type": "execute_result"
    }
   ],
   "source": [
    "cos(o1, o2)"
   ]
  },
  {
   "cell_type": "code",
   "execution_count": 86,
   "id": "67e503e4",
   "metadata": {},
   "outputs": [
    {
     "data": {
      "text/plain": [
       "tensor([0.5753], device='cuda:0', grad_fn=<DivBackward0>)"
      ]
     },
     "execution_count": 86,
     "metadata": {},
     "output_type": "execute_result"
    }
   ],
   "source": [
    "cos(o1, o3)"
   ]
  },
  {
   "cell_type": "code",
   "execution_count": 87,
   "id": "99095f84",
   "metadata": {},
   "outputs": [
    {
     "data": {
      "text/plain": [
       "tensor([0.5888], device='cuda:0', grad_fn=<DivBackward0>)"
      ]
     },
     "execution_count": 87,
     "metadata": {},
     "output_type": "execute_result"
    }
   ],
   "source": [
    "cos(o2, o3)"
   ]
  },
  {
   "cell_type": "code",
   "execution_count": 106,
   "id": "236b6faf",
   "metadata": {},
   "outputs": [
    {
     "data": {
      "text/plain": [
       "tensor([0.7079], device='cuda:0', grad_fn=<DivBackward0>)"
      ]
     },
     "execution_count": 106,
     "metadata": {},
     "output_type": "execute_result"
    }
   ],
   "source": [
    "cos(o1, o4)"
   ]
  },
  {
   "cell_type": "code",
   "execution_count": 107,
   "id": "0736fee3",
   "metadata": {},
   "outputs": [
    {
     "data": {
      "text/plain": [
       "tensor([0.6127], device='cuda:0', grad_fn=<DivBackward0>)"
      ]
     },
     "execution_count": 107,
     "metadata": {},
     "output_type": "execute_result"
    }
   ],
   "source": [
    "cos(o2, o4)"
   ]
  },
  {
   "cell_type": "code",
   "execution_count": 108,
   "id": "12de824b",
   "metadata": {},
   "outputs": [
    {
     "data": {
      "text/plain": [
       "tensor([0.8876], device='cuda:0', grad_fn=<DivBackward0>)"
      ]
     },
     "execution_count": 108,
     "metadata": {},
     "output_type": "execute_result"
    }
   ],
   "source": [
    "cos(o3, o4)"
   ]
  },
  {
   "cell_type": "code",
   "execution_count": 101,
   "id": "49c353c0",
   "metadata": {},
   "outputs": [
    {
     "data": {
      "text/html": [
       "<div>\n",
       "<style scoped>\n",
       "    .dataframe tbody tr th:only-of-type {\n",
       "        vertical-align: middle;\n",
       "    }\n",
       "\n",
       "    .dataframe tbody tr th {\n",
       "        vertical-align: top;\n",
       "    }\n",
       "\n",
       "    .dataframe thead th {\n",
       "        text-align: right;\n",
       "    }\n",
       "</style>\n",
       "<table border=\"1\" class=\"dataframe\">\n",
       "  <thead>\n",
       "    <tr style=\"text-align: right;\">\n",
       "      <th></th>\n",
       "      <th>iauname</th>\n",
       "      <th>png_loc</th>\n",
       "      <th>smooth-or-featured_smooth_fraction</th>\n",
       "      <th>smooth-or-featured_featured-or-disk_fraction</th>\n",
       "      <th>smooth-or-featured_artifact_fraction</th>\n",
       "      <th>disk-edge-on_yes_fraction</th>\n",
       "      <th>disk-edge-on_no_fraction</th>\n",
       "      <th>has-spiral-arms_yes_fraction</th>\n",
       "      <th>has-spiral-arms_no_fraction</th>\n",
       "      <th>bar_strong_fraction</th>\n",
       "      <th>...</th>\n",
       "      <th>spiral-arm-count_1_fraction</th>\n",
       "      <th>spiral-arm-count_2_fraction</th>\n",
       "      <th>spiral-arm-count_3_fraction</th>\n",
       "      <th>spiral-arm-count_4_fraction</th>\n",
       "      <th>spiral-arm-count_more-than-4_fraction</th>\n",
       "      <th>spiral-arm-count_cant-tell_fraction</th>\n",
       "      <th>merging_none_fraction</th>\n",
       "      <th>merging_minor-disturbance_fraction</th>\n",
       "      <th>merging_major-disturbance_fraction</th>\n",
       "      <th>merging_merger_fraction</th>\n",
       "    </tr>\n",
       "  </thead>\n",
       "  <tbody>\n",
       "    <tr>\n",
       "      <th>0</th>\n",
       "      <td>J140957.60+062506.1</td>\n",
       "      <td>J140/J140957.60+062506.1.png</td>\n",
       "      <td>1</td>\n",
       "      <td>0</td>\n",
       "      <td>0</td>\n",
       "      <td>0</td>\n",
       "      <td>1</td>\n",
       "      <td>1</td>\n",
       "      <td>0</td>\n",
       "      <td>1</td>\n",
       "      <td>...</td>\n",
       "      <td>0</td>\n",
       "      <td>1</td>\n",
       "      <td>0</td>\n",
       "      <td>0</td>\n",
       "      <td>0</td>\n",
       "      <td>0</td>\n",
       "      <td>1</td>\n",
       "      <td>0</td>\n",
       "      <td>0</td>\n",
       "      <td>0</td>\n",
       "    </tr>\n",
       "    <tr>\n",
       "      <th>1</th>\n",
       "      <td>J164313.15+261827.0</td>\n",
       "      <td>J164/J164313.15+261827.0.png</td>\n",
       "      <td>1</td>\n",
       "      <td>0</td>\n",
       "      <td>0</td>\n",
       "      <td>0</td>\n",
       "      <td>0</td>\n",
       "      <td>0</td>\n",
       "      <td>0</td>\n",
       "      <td>0</td>\n",
       "      <td>...</td>\n",
       "      <td>0</td>\n",
       "      <td>0</td>\n",
       "      <td>0</td>\n",
       "      <td>0</td>\n",
       "      <td>0</td>\n",
       "      <td>0</td>\n",
       "      <td>1</td>\n",
       "      <td>0</td>\n",
       "      <td>0</td>\n",
       "      <td>0</td>\n",
       "    </tr>\n",
       "    <tr>\n",
       "      <th>2</th>\n",
       "      <td>J150934.55+045229.1</td>\n",
       "      <td>J150/J150934.55+045229.1.png</td>\n",
       "      <td>0</td>\n",
       "      <td>1</td>\n",
       "      <td>0</td>\n",
       "      <td>0</td>\n",
       "      <td>1</td>\n",
       "      <td>1</td>\n",
       "      <td>0</td>\n",
       "      <td>0</td>\n",
       "      <td>...</td>\n",
       "      <td>0</td>\n",
       "      <td>0</td>\n",
       "      <td>0</td>\n",
       "      <td>0</td>\n",
       "      <td>0</td>\n",
       "      <td>0</td>\n",
       "      <td>1</td>\n",
       "      <td>0</td>\n",
       "      <td>0</td>\n",
       "      <td>0</td>\n",
       "    </tr>\n",
       "    <tr>\n",
       "      <th>3</th>\n",
       "      <td>J113334.66-021647.5</td>\n",
       "      <td>J113/J113334.66-021647.5.png</td>\n",
       "      <td>0</td>\n",
       "      <td>1</td>\n",
       "      <td>0</td>\n",
       "      <td>0</td>\n",
       "      <td>1</td>\n",
       "      <td>1</td>\n",
       "      <td>0</td>\n",
       "      <td>0</td>\n",
       "      <td>...</td>\n",
       "      <td>0</td>\n",
       "      <td>0</td>\n",
       "      <td>0</td>\n",
       "      <td>0</td>\n",
       "      <td>0</td>\n",
       "      <td>1</td>\n",
       "      <td>0</td>\n",
       "      <td>0</td>\n",
       "      <td>0</td>\n",
       "      <td>0</td>\n",
       "    </tr>\n",
       "    <tr>\n",
       "      <th>4</th>\n",
       "      <td>J101906.78+231837.7</td>\n",
       "      <td>J101/J101906.78+231837.7.png</td>\n",
       "      <td>1</td>\n",
       "      <td>0</td>\n",
       "      <td>0</td>\n",
       "      <td>0</td>\n",
       "      <td>1</td>\n",
       "      <td>0</td>\n",
       "      <td>1</td>\n",
       "      <td>0</td>\n",
       "      <td>...</td>\n",
       "      <td>0</td>\n",
       "      <td>0</td>\n",
       "      <td>0</td>\n",
       "      <td>0</td>\n",
       "      <td>0</td>\n",
       "      <td>0</td>\n",
       "      <td>0</td>\n",
       "      <td>0</td>\n",
       "      <td>0</td>\n",
       "      <td>1</td>\n",
       "    </tr>\n",
       "  </tbody>\n",
       "</table>\n",
       "<p>5 rows × 36 columns</p>\n",
       "</div>"
      ],
      "text/plain": [
       "               iauname                       png_loc  \\\n",
       "0  J140957.60+062506.1  J140/J140957.60+062506.1.png   \n",
       "1  J164313.15+261827.0  J164/J164313.15+261827.0.png   \n",
       "2  J150934.55+045229.1  J150/J150934.55+045229.1.png   \n",
       "3  J113334.66-021647.5  J113/J113334.66-021647.5.png   \n",
       "4  J101906.78+231837.7  J101/J101906.78+231837.7.png   \n",
       "\n",
       "   smooth-or-featured_smooth_fraction  \\\n",
       "0                                   1   \n",
       "1                                   1   \n",
       "2                                   0   \n",
       "3                                   0   \n",
       "4                                   1   \n",
       "\n",
       "   smooth-or-featured_featured-or-disk_fraction  \\\n",
       "0                                             0   \n",
       "1                                             0   \n",
       "2                                             1   \n",
       "3                                             1   \n",
       "4                                             0   \n",
       "\n",
       "   smooth-or-featured_artifact_fraction  disk-edge-on_yes_fraction  \\\n",
       "0                                     0                          0   \n",
       "1                                     0                          0   \n",
       "2                                     0                          0   \n",
       "3                                     0                          0   \n",
       "4                                     0                          0   \n",
       "\n",
       "   disk-edge-on_no_fraction  has-spiral-arms_yes_fraction  \\\n",
       "0                         1                             1   \n",
       "1                         0                             0   \n",
       "2                         1                             1   \n",
       "3                         1                             1   \n",
       "4                         1                             0   \n",
       "\n",
       "   has-spiral-arms_no_fraction  bar_strong_fraction  ...  \\\n",
       "0                            0                    1  ...   \n",
       "1                            0                    0  ...   \n",
       "2                            0                    0  ...   \n",
       "3                            0                    0  ...   \n",
       "4                            1                    0  ...   \n",
       "\n",
       "   spiral-arm-count_1_fraction  spiral-arm-count_2_fraction  \\\n",
       "0                            0                            1   \n",
       "1                            0                            0   \n",
       "2                            0                            0   \n",
       "3                            0                            0   \n",
       "4                            0                            0   \n",
       "\n",
       "   spiral-arm-count_3_fraction  spiral-arm-count_4_fraction  \\\n",
       "0                            0                            0   \n",
       "1                            0                            0   \n",
       "2                            0                            0   \n",
       "3                            0                            0   \n",
       "4                            0                            0   \n",
       "\n",
       "   spiral-arm-count_more-than-4_fraction  spiral-arm-count_cant-tell_fraction  \\\n",
       "0                                      0                                    0   \n",
       "1                                      0                                    0   \n",
       "2                                      0                                    0   \n",
       "3                                      0                                    1   \n",
       "4                                      0                                    0   \n",
       "\n",
       "   merging_none_fraction  merging_minor-disturbance_fraction  \\\n",
       "0                      1                                   0   \n",
       "1                      1                                   0   \n",
       "2                      1                                   0   \n",
       "3                      0                                   0   \n",
       "4                      0                                   0   \n",
       "\n",
       "   merging_major-disturbance_fraction  merging_merger_fraction  \n",
       "0                                   0                        0  \n",
       "1                                   0                        0  \n",
       "2                                   0                        0  \n",
       "3                                   0                        0  \n",
       "4                                   0                        1  \n",
       "\n",
       "[5 rows x 36 columns]"
      ]
     },
     "execution_count": 101,
     "metadata": {},
     "output_type": "execute_result"
    }
   ],
   "source": [
    "test_dataset.desc.iloc[0:5]"
   ]
  },
  {
   "cell_type": "code",
   "execution_count": 119,
   "id": "4716475f",
   "metadata": {},
   "outputs": [
    {
     "data": {
      "image/png": "[encoded data removed]",
      "text/plain": [
       "<Figure size 864x576 with 4 Axes>"
      ]
     },
     "metadata": {
      "needs_background": "light"
     },
     "output_type": "display_data"
    }
   ],
   "source": [
    "name = 'copper'\n",
    "plt.figure(figsize = (12, 8))\n",
    "plt.subplot(141)\n",
    "plt.imshow(d1[0].permute(1, 2, 0), cmap=plt.get_cmap(name))\n",
    "plt.axis('off')\n",
    "\n",
    "plt.subplot(142)\n",
    "plt.imshow(d2[0].permute(1, 2, 0), cmap=plt.get_cmap(name))\n",
    "plt.axis('off')\n",
    "\n",
    "plt.subplot(143)\n",
    "plt.imshow(d3[0].permute(1, 2, 0), cmap=plt.get_cmap(name))\n",
    "plt.axis('off')\n",
    "\n",
    "plt.subplot(144)\n",
    "plt.imshow(d4[0].permute(1, 2, 0), cmap=plt.get_cmap(name))\n",
    "plt.axis('off')\n",
    "plt.show()"
   ]
  },
  {
   "cell_type": "markdown",
   "id": "df3857f5",
   "metadata": {},
   "source": [
    "# Pie Chart\n",
    "\n",
    "- To repeat this for the entire dataset. "
   ]
  },
  {
   "cell_type": "code",
   "execution_count": 22,
   "id": "1e5efb70",
   "metadata": {},
   "outputs": [],
   "source": [
    "import pandas as pd\n",
    "import numpy as np \n",
    "import matplotlib.pylab as plt \n",
    "import matplotlib as cm\n",
    "import settings as st\n",
    "import os \n",
    "\n",
    "plt.rc('text', usetex=True)\n",
    "plt.rc('font',**{'family':'sans-serif','serif':['Palatino']})\n",
    "figSize  = (12, 8)\n",
    "fontSize = 25"
   ]
  },
  {
   "cell_type": "code",
   "execution_count": 23,
   "id": "62293476",
   "metadata": {},
   "outputs": [],
   "source": [
    "dataframe = pd.read_csv('ml/labels.csv')"
   ]
  },
  {
   "cell_type": "code",
   "execution_count": 24,
   "id": "bee2ef69",
   "metadata": {},
   "outputs": [],
   "source": [
    "def calc_percent_task(table: pd.DataFrame, task_number: int = 1):\n",
    "    \n",
    "    # sum across columns\n",
    "    column_sum = table[st.LABELS['task_' + str(task_number)]].sum(0)\n",
    "    \n",
    "    # calculate percentage\n",
    "    percentage = column_sum / column_sum.sum() * 100\n",
    "    \n",
    "    return percentage"
   ]
  },
  {
   "cell_type": "code",
   "execution_count": 25,
   "id": "4a863c5f",
   "metadata": {},
   "outputs": [],
   "source": [
    "test = [calc_percent_task(dataframe, i + 1) for i in range(10)]"
   ]
  },
  {
   "cell_type": "code",
   "execution_count": 26,
   "id": "1d0f3171",
   "metadata": {},
   "outputs": [],
   "source": [
    "def plot_pie(index: int = 0, save: bool = False):\n",
    "    nobject = len(test[index].values)\n",
    "    colors = iter([plt.cm.Pastel1(k) for k in range(nobject)])\n",
    "    fig1, ax1 = plt.subplots(figsize=(12,12))\n",
    "#     fig1.set_figheight(8)\n",
    "#     fig1.set_figwidth(8)\n",
    "    patches, texts, autotexts = ax1.pie(test[index].values, labels=test[index].keys(), autopct='%1.1f%%', shadow=False, colors = colors)\n",
    "    plt.setp(texts, fontsize=fontSize)\n",
    "    plt.setp(autotexts, fontsize=fontSize)\n",
    "\n",
    "    centre_circle = plt.Circle((0,0),0.70,fc='white')\n",
    "    fig = plt.gcf()\n",
    "    fig.gca().add_artist(centre_circle)\n",
    "\n",
    "    ax1.axis('equal') \n",
    "    \n",
    "    if save:\n",
    "        path = 'plots/pie/'\n",
    "        os.makedirs(path, exist_ok=True)\n",
    "        plt.savefig(path + 'pie_' + str(index) + '.pdf', bbox_inches = 'tight')\n",
    "        plt.savefig(path + 'pie_' + str(index) + '.png', bbox_inches = 'tight')\n",
    "        plt.close()\n",
    "        \n",
    "    else:\n",
    "        plt.show()"
   ]
  },
  {
   "cell_type": "code",
   "execution_count": 27,
   "id": "6a28301f",
   "metadata": {},
   "outputs": [],
   "source": [
    "# for i in range(10):\n",
    "#     plot_pie(i, True)"
   ]
  },
  {
   "cell_type": "markdown",
   "id": "80a03592",
   "metadata": {},
   "source": [
    "# Predictions from MTL Network"
   ]
  },
  {
   "cell_type": "code",
   "execution_count": 301,
   "id": "6df14c80",
   "metadata": {},
   "outputs": [],
   "source": [
    "import settings as st \n",
    "import utils.helpers as hp\n",
    "import src.processing as sp\n",
    "import pandas as pd\n",
    "\n",
    "from src.dataset import DECaLSDataset\n",
    "from torch.utils.data import DataLoader\n",
    "\n",
    "import matplotlib.pylab as plt \n",
    "import matplotlib as cm\n",
    "\n",
    "plt.rc('text', usetex=True)\n",
    "plt.rc('font',**{'family':'sans-serif','serif':['Palatino']})\n",
    "figSize  = (12, 8)\n",
    "fontSize = 25"
   ]
  },
  {
   "cell_type": "code",
   "execution_count": 302,
   "id": "dcb2d5f8",
   "metadata": {},
   "outputs": [],
   "source": [
    "def labels_test(test: pd.DataFrame, index: int = 0):\n",
    "    \n",
    "    # the first two column names are the name and png locations\n",
    "    labels = test.iloc[index, 2:]\n",
    "    \n",
    "    label_dict = dict()\n",
    "    for i in range(st.NUM_TASKS):\n",
    "        task = labels[st.LABELS['task_' + str(i + 1)]].values.astype(int)\n",
    "        label_dict['task_' + str(i + 1)] = task\n",
    "        \n",
    "    return label_dict"
   ]
  },
  {
   "cell_type": "markdown",
   "id": "87a849e3",
   "metadata": {},
   "source": [
    "Load the predictions"
   ]
  },
  {
   "cell_type": "code",
   "execution_count": 303,
   "id": "dfc58334",
   "metadata": {},
   "outputs": [],
   "source": [
    "preds = hp.load_pickle('results', 'predictions_mtl')"
   ]
  },
  {
   "cell_type": "markdown",
   "id": "53aa3570",
   "metadata": {},
   "source": [
    "Load the test set"
   ]
  },
  {
   "cell_type": "code",
   "execution_count": 304,
   "id": "64326183",
   "metadata": {},
   "outputs": [],
   "source": [
    "test = hp.load_csv(st.DATA_DIR, 'ml/test')"
   ]
  },
  {
   "cell_type": "markdown",
   "id": "23aab2f0",
   "metadata": {},
   "source": [
    "### Iterate over all objects"
   ]
  },
  {
   "cell_type": "code",
   "execution_count": 5,
   "id": "d415cdff",
   "metadata": {},
   "outputs": [],
   "source": [
    "ntest = test.shape[0]\n",
    "tree_pred = list()\n",
    "tree_test = list()\n",
    "\n",
    "for idx in range(ntest):\n",
    "    \n",
    "    # re-write the test point in a dictionary (label per task)\n",
    "    test_point = labels_test(test, idx)\n",
    "          \n",
    "    # find the labels (ground truths and test point\n",
    "    pred_labels = sp.find_labels(preds[idx])\n",
    "    test_labels = sp.find_labels(test_point)\n",
    "    \n",
    "    # record the trees\n",
    "    tree_pred.append(pred_labels)\n",
    "    tree_test.append(test_labels)"
   ]
  },
  {
   "cell_type": "code",
   "execution_count": 14,
   "id": "62647de3",
   "metadata": {},
   "outputs": [],
   "source": [
    "tree_pred_df = pd.concat(tree_pred)\n",
    "tree_test_df = pd.concat(tree_test)"
   ]
  },
  {
   "cell_type": "code",
   "execution_count": 15,
   "id": "1d782e17",
   "metadata": {},
   "outputs": [],
   "source": [
    "tree_pred_df.reset_index(drop=True, inplace=True)\n",
    "tree_test_df.reset_index(drop=True, inplace=True)"
   ]
  },
  {
   "cell_type": "markdown",
   "id": "b54f79f6",
   "metadata": {},
   "source": [
    "Save the outputs"
   ]
  },
  {
   "cell_type": "code",
   "execution_count": 16,
   "id": "c3f758c2",
   "metadata": {},
   "outputs": [],
   "source": [
    "# tree_pred_df.to_csv('results/tree_pred.csv', index=False)\n",
    "# tree_test_df.to_csv('results/tree_test.csv', index=False)"
   ]
  },
  {
   "cell_type": "markdown",
   "id": "5c5eb3a4",
   "metadata": {},
   "source": [
    "# Visualise Image and Tree"
   ]
  },
  {
   "cell_type": "code",
   "execution_count": 284,
   "id": "3480b3d7",
   "metadata": {},
   "outputs": [],
   "source": [
    "import pandas as pd \n",
    "import sklearn.metrics as sm"
   ]
  },
  {
   "cell_type": "code",
   "execution_count": 305,
   "id": "c2a00ec3",
   "metadata": {},
   "outputs": [],
   "source": [
    "tree_pred_df = pd.read_csv('results/tree_pred.csv')\n",
    "tree_test_df = pd.read_csv('results/tree_test.csv')"
   ]
  },
  {
   "cell_type": "code",
   "execution_count": 324,
   "id": "790566b8",
   "metadata": {},
   "outputs": [],
   "source": [
    "idxs = [5510, 5511, 5512, 5513]"
   ]
  },
  {
   "cell_type": "code",
   "execution_count": 325,
   "id": "6a449de6",
   "metadata": {},
   "outputs": [
    {
     "data": {
      "text/html": [
       "<div>\n",
       "<style scoped>\n",
       "    .dataframe tbody tr th:only-of-type {\n",
       "        vertical-align: middle;\n",
       "    }\n",
       "\n",
       "    .dataframe tbody tr th {\n",
       "        vertical-align: top;\n",
       "    }\n",
       "\n",
       "    .dataframe thead th {\n",
       "        text-align: right;\n",
       "    }\n",
       "</style>\n",
       "<table border=\"1\" class=\"dataframe\">\n",
       "  <thead>\n",
       "    <tr style=\"text-align: right;\">\n",
       "      <th></th>\n",
       "      <th>task_1</th>\n",
       "      <th>task_2</th>\n",
       "      <th>task_3</th>\n",
       "      <th>task_4</th>\n",
       "      <th>task_5</th>\n",
       "      <th>task_6</th>\n",
       "      <th>task_7</th>\n",
       "      <th>task_8</th>\n",
       "      <th>task_9</th>\n",
       "      <th>task_10</th>\n",
       "    </tr>\n",
       "  </thead>\n",
       "  <tbody>\n",
       "    <tr>\n",
       "      <th>5510</th>\n",
       "      <td>['Featured or Disk']</td>\n",
       "      <td>NaN</td>\n",
       "      <td>['Edge On Disk (No)']</td>\n",
       "      <td>['Merging (None)']</td>\n",
       "      <td>NaN</td>\n",
       "      <td>['Weak Bar']</td>\n",
       "      <td>['Spiral Arms (Yes)']</td>\n",
       "      <td>['Spiral Winding (Tight)']</td>\n",
       "      <td>['Spiral Arms (cannot tell)']</td>\n",
       "      <td>['Central Bulge (Small)']</td>\n",
       "    </tr>\n",
       "    <tr>\n",
       "      <th>5511</th>\n",
       "      <td>['Smooth']</td>\n",
       "      <td>['In Between']</td>\n",
       "      <td>NaN</td>\n",
       "      <td>['Merging (None)']</td>\n",
       "      <td>NaN</td>\n",
       "      <td>NaN</td>\n",
       "      <td>NaN</td>\n",
       "      <td>NaN</td>\n",
       "      <td>NaN</td>\n",
       "      <td>NaN</td>\n",
       "    </tr>\n",
       "    <tr>\n",
       "      <th>5512</th>\n",
       "      <td>['Featured or Disk']</td>\n",
       "      <td>NaN</td>\n",
       "      <td>['Edge On Disk (No)']</td>\n",
       "      <td>['Merging (None)']</td>\n",
       "      <td>NaN</td>\n",
       "      <td>['Strong Bar']</td>\n",
       "      <td>['Spiral Arms (Yes)']</td>\n",
       "      <td>['Spiral Winding (Medium)']</td>\n",
       "      <td>['Spiral Arms (2)']</td>\n",
       "      <td>['Central Bulge (Moderate)']</td>\n",
       "    </tr>\n",
       "    <tr>\n",
       "      <th>5513</th>\n",
       "      <td>['Featured or Disk']</td>\n",
       "      <td>NaN</td>\n",
       "      <td>['Edge On Disk (No)']</td>\n",
       "      <td>['Merging (None)']</td>\n",
       "      <td>NaN</td>\n",
       "      <td>['Weak Bar']</td>\n",
       "      <td>['Spiral Arms (Yes)']</td>\n",
       "      <td>['Spiral Winding (Tight)']</td>\n",
       "      <td>['Spiral Arms (More Than 4)']</td>\n",
       "      <td>['Central Bulge (Small)']</td>\n",
       "    </tr>\n",
       "  </tbody>\n",
       "</table>\n",
       "</div>"
      ],
      "text/plain": [
       "                    task_1          task_2                 task_3  \\\n",
       "5510  ['Featured or Disk']             NaN  ['Edge On Disk (No)']   \n",
       "5511            ['Smooth']  ['In Between']                    NaN   \n",
       "5512  ['Featured or Disk']             NaN  ['Edge On Disk (No)']   \n",
       "5513  ['Featured or Disk']             NaN  ['Edge On Disk (No)']   \n",
       "\n",
       "                  task_4 task_5          task_6                 task_7  \\\n",
       "5510  ['Merging (None)']    NaN    ['Weak Bar']  ['Spiral Arms (Yes)']   \n",
       "5511  ['Merging (None)']    NaN             NaN                    NaN   \n",
       "5512  ['Merging (None)']    NaN  ['Strong Bar']  ['Spiral Arms (Yes)']   \n",
       "5513  ['Merging (None)']    NaN    ['Weak Bar']  ['Spiral Arms (Yes)']   \n",
       "\n",
       "                           task_8                         task_9  \\\n",
       "5510   ['Spiral Winding (Tight)']  ['Spiral Arms (cannot tell)']   \n",
       "5511                          NaN                            NaN   \n",
       "5512  ['Spiral Winding (Medium)']            ['Spiral Arms (2)']   \n",
       "5513   ['Spiral Winding (Tight)']  ['Spiral Arms (More Than 4)']   \n",
       "\n",
       "                           task_10  \n",
       "5510     ['Central Bulge (Small)']  \n",
       "5511                           NaN  \n",
       "5512  ['Central Bulge (Moderate)']  \n",
       "5513     ['Central Bulge (Small)']  "
      ]
     },
     "execution_count": 325,
     "metadata": {},
     "output_type": "execute_result"
    }
   ],
   "source": [
    "tree_pred_df.iloc[idxs]"
   ]
  },
  {
   "cell_type": "code",
   "execution_count": 326,
   "id": "7ec66733",
   "metadata": {},
   "outputs": [
    {
     "data": {
      "text/html": [
       "<div>\n",
       "<style scoped>\n",
       "    .dataframe tbody tr th:only-of-type {\n",
       "        vertical-align: middle;\n",
       "    }\n",
       "\n",
       "    .dataframe tbody tr th {\n",
       "        vertical-align: top;\n",
       "    }\n",
       "\n",
       "    .dataframe thead th {\n",
       "        text-align: right;\n",
       "    }\n",
       "</style>\n",
       "<table border=\"1\" class=\"dataframe\">\n",
       "  <thead>\n",
       "    <tr style=\"text-align: right;\">\n",
       "      <th></th>\n",
       "      <th>task_1</th>\n",
       "      <th>task_2</th>\n",
       "      <th>task_3</th>\n",
       "      <th>task_4</th>\n",
       "      <th>task_5</th>\n",
       "      <th>task_6</th>\n",
       "      <th>task_7</th>\n",
       "      <th>task_8</th>\n",
       "      <th>task_9</th>\n",
       "      <th>task_10</th>\n",
       "    </tr>\n",
       "  </thead>\n",
       "  <tbody>\n",
       "    <tr>\n",
       "      <th>5510</th>\n",
       "      <td>['Featured or Disk']</td>\n",
       "      <td>NaN</td>\n",
       "      <td>['Edge On Disk (No)']</td>\n",
       "      <td>['Merging (None)']</td>\n",
       "      <td>NaN</td>\n",
       "      <td>['No Bar']</td>\n",
       "      <td>['Spiral Arms (Yes)']</td>\n",
       "      <td>['Spiral Winding (Tight)']</td>\n",
       "      <td>['Spiral Arms (2)']</td>\n",
       "      <td>['Central Bulge (Small)']</td>\n",
       "    </tr>\n",
       "    <tr>\n",
       "      <th>5511</th>\n",
       "      <td>['Smooth']</td>\n",
       "      <td>['In Between']</td>\n",
       "      <td>NaN</td>\n",
       "      <td>['Merging (None)']</td>\n",
       "      <td>NaN</td>\n",
       "      <td>NaN</td>\n",
       "      <td>NaN</td>\n",
       "      <td>NaN</td>\n",
       "      <td>NaN</td>\n",
       "      <td>NaN</td>\n",
       "    </tr>\n",
       "    <tr>\n",
       "      <th>5512</th>\n",
       "      <td>['Featured or Disk']</td>\n",
       "      <td>NaN</td>\n",
       "      <td>['Edge On Disk (No)']</td>\n",
       "      <td>['Merging (None)']</td>\n",
       "      <td>NaN</td>\n",
       "      <td>['Strong Bar']</td>\n",
       "      <td>['Spiral Arms (Yes)']</td>\n",
       "      <td>['Spiral Winding (Medium)']</td>\n",
       "      <td>['Spiral Arms (2)']</td>\n",
       "      <td>['Central Bulge (Moderate)']</td>\n",
       "    </tr>\n",
       "    <tr>\n",
       "      <th>5513</th>\n",
       "      <td>['Featured or Disk']</td>\n",
       "      <td>NaN</td>\n",
       "      <td>['Edge On Disk (No)']</td>\n",
       "      <td>['Merging (Major Disturbance)']</td>\n",
       "      <td>NaN</td>\n",
       "      <td>['No Bar']</td>\n",
       "      <td>['Spiral Arms (No)']</td>\n",
       "      <td>NaN</td>\n",
       "      <td>NaN</td>\n",
       "      <td>['Central Bulge (Small)']</td>\n",
       "    </tr>\n",
       "  </tbody>\n",
       "</table>\n",
       "</div>"
      ],
      "text/plain": [
       "                    task_1          task_2                 task_3  \\\n",
       "5510  ['Featured or Disk']             NaN  ['Edge On Disk (No)']   \n",
       "5511            ['Smooth']  ['In Between']                    NaN   \n",
       "5512  ['Featured or Disk']             NaN  ['Edge On Disk (No)']   \n",
       "5513  ['Featured or Disk']             NaN  ['Edge On Disk (No)']   \n",
       "\n",
       "                               task_4 task_5          task_6  \\\n",
       "5510               ['Merging (None)']    NaN      ['No Bar']   \n",
       "5511               ['Merging (None)']    NaN             NaN   \n",
       "5512               ['Merging (None)']    NaN  ['Strong Bar']   \n",
       "5513  ['Merging (Major Disturbance)']    NaN      ['No Bar']   \n",
       "\n",
       "                     task_7                       task_8               task_9  \\\n",
       "5510  ['Spiral Arms (Yes)']   ['Spiral Winding (Tight)']  ['Spiral Arms (2)']   \n",
       "5511                    NaN                          NaN                  NaN   \n",
       "5512  ['Spiral Arms (Yes)']  ['Spiral Winding (Medium)']  ['Spiral Arms (2)']   \n",
       "5513   ['Spiral Arms (No)']                          NaN                  NaN   \n",
       "\n",
       "                           task_10  \n",
       "5510     ['Central Bulge (Small)']  \n",
       "5511                           NaN  \n",
       "5512  ['Central Bulge (Moderate)']  \n",
       "5513     ['Central Bulge (Small)']  "
      ]
     },
     "execution_count": 326,
     "metadata": {},
     "output_type": "execute_result"
    }
   ],
   "source": [
    "tree_test_df.iloc[idxs]"
   ]
  },
  {
   "cell_type": "code",
   "execution_count": 327,
   "id": "9ef48416",
   "metadata": {},
   "outputs": [
    {
     "name": "stdout",
     "output_type": "stream",
     "text": [
      "The number of test points is 37993\n"
     ]
    }
   ],
   "source": [
    "test_dataset = DECaLSDataset(mode='test', augment=False)\n",
    "test_loader = DataLoader(dataset=test_dataset, batch_size=1, shuffle=False)"
   ]
  },
  {
   "cell_type": "code",
   "execution_count": 328,
   "id": "bff81157",
   "metadata": {},
   "outputs": [],
   "source": [
    "d1 = test_loader.dataset[idxs[0]]\n",
    "d2 = test_loader.dataset[idxs[1]]\n",
    "d3 = test_loader.dataset[idxs[2]]\n",
    "d4 = test_loader.dataset[idxs[3]]"
   ]
  },
  {
   "cell_type": "code",
   "execution_count": 329,
   "id": "3e5fb37e",
   "metadata": {},
   "outputs": [
    {
     "data": {
      "image/png": "[encoded data removed]",
      "text/plain": [
       "<Figure size 864x576 with 4 Axes>"
      ]
     },
     "metadata": {
      "needs_background": "light"
     },
     "output_type": "display_data"
    }
   ],
   "source": [
    "name = 'copper'\n",
    "plt.figure(figsize = (12, 8))\n",
    "plt.subplot(141)\n",
    "plt.imshow(d1[0].permute(1, 2, 0), cmap=plt.get_cmap(name))\n",
    "plt.axis('off')\n",
    "\n",
    "plt.subplot(142)\n",
    "plt.imshow(d2[0].permute(1, 2, 0), cmap=plt.get_cmap(name))\n",
    "plt.axis('off')\n",
    "\n",
    "plt.subplot(143)\n",
    "plt.imshow(d3[0].permute(1, 2, 0), cmap=plt.get_cmap(name))\n",
    "plt.axis('off')\n",
    "\n",
    "plt.subplot(144)\n",
    "plt.imshow(d4[0].permute(1, 2, 0), cmap=plt.get_cmap(name))\n",
    "plt.axis('off')\n",
    "plt.show()"
   ]
  },
  {
   "cell_type": "markdown",
   "id": "0bee148d",
   "metadata": {},
   "source": [
    "### Count number of labels per task in the test set"
   ]
  },
  {
   "cell_type": "code",
   "execution_count": 73,
   "id": "f95d3245",
   "metadata": {},
   "outputs": [],
   "source": [
    "def count_element(dataframe, task):\n",
    "    \n",
    "    ntest = dataframe.shape[0]\n",
    "    \n",
    "    record = []\n",
    "    \n",
    "    for i in range(ntest):\n",
    "        \n",
    "        element = dataframe[task].values[i]\n",
    "        \n",
    "        if not pd.isna(element):\n",
    "            count = len(eval(element))\n",
    "            \n",
    "        else:\n",
    "            count = 0 \n",
    "            \n",
    "        record.append(count)\n",
    "        \n",
    "    return pd.DataFrame(record, columns = [task])"
   ]
  },
  {
   "cell_type": "code",
   "execution_count": 78,
   "id": "99319e1a",
   "metadata": {},
   "outputs": [],
   "source": [
    "tree_test_counts = []\n",
    "\n",
    "for i in range(10):\n",
    "    tree_test_counts.append(count_element(tree_test_df, 'task_'+str(i+1)))"
   ]
  },
  {
   "cell_type": "code",
   "execution_count": 79,
   "id": "de6639cb",
   "metadata": {},
   "outputs": [],
   "source": [
    "tree_test_counts = pd.concat(tree_test_counts, axis = 1)"
   ]
  },
  {
   "cell_type": "markdown",
   "id": "46efe71e",
   "metadata": {},
   "source": [
    "Select rows which has only one element"
   ]
  },
  {
   "cell_type": "code",
   "execution_count": 101,
   "id": "e7a72a59",
   "metadata": {},
   "outputs": [],
   "source": [
    "subset_test = tree_test_df[(tree_test_counts <= 1).all(1)]\n",
    "subset_pred = tree_pred_df[(tree_test_counts <= 1).all(1)]\n",
    "\n",
    "subset_test.reset_index(drop=True, inplace=True)\n",
    "subset_pred.reset_index(drop=True, inplace=True)"
   ]
  },
  {
   "cell_type": "code",
   "execution_count": 300,
   "id": "e8a0d50f",
   "metadata": {},
   "outputs": [
    {
     "name": "stdout",
     "output_type": "stream",
     "text": [
      "Number of examples where we have unique labels is 28838\n"
     ]
    }
   ],
   "source": [
    "print(f'Number of examples where we have unique labels is {subset_test.shape[0]}')"
   ]
  },
  {
   "cell_type": "code",
   "execution_count": 231,
   "id": "9f6bb1af",
   "metadata": {},
   "outputs": [
    {
     "data": {
      "text/html": [
       "<div>\n",
       "<style scoped>\n",
       "    .dataframe tbody tr th:only-of-type {\n",
       "        vertical-align: middle;\n",
       "    }\n",
       "\n",
       "    .dataframe tbody tr th {\n",
       "        vertical-align: top;\n",
       "    }\n",
       "\n",
       "    .dataframe thead th {\n",
       "        text-align: right;\n",
       "    }\n",
       "</style>\n",
       "<table border=\"1\" class=\"dataframe\">\n",
       "  <thead>\n",
       "    <tr style=\"text-align: right;\">\n",
       "      <th></th>\n",
       "      <th>task_1</th>\n",
       "      <th>task_2</th>\n",
       "      <th>task_3</th>\n",
       "      <th>task_4</th>\n",
       "      <th>task_5</th>\n",
       "      <th>task_6</th>\n",
       "      <th>task_7</th>\n",
       "      <th>task_8</th>\n",
       "      <th>task_9</th>\n",
       "      <th>task_10</th>\n",
       "    </tr>\n",
       "  </thead>\n",
       "  <tbody>\n",
       "    <tr>\n",
       "      <th>0</th>\n",
       "      <td>['Featured or Disk']</td>\n",
       "      <td>NaN</td>\n",
       "      <td>['Edge On Disk (No)']</td>\n",
       "      <td>['Merging (None)']</td>\n",
       "      <td>NaN</td>\n",
       "      <td>['No Bar']</td>\n",
       "      <td>['Spiral Arms (Yes)']</td>\n",
       "      <td>['Spiral Winding (Tight)']</td>\n",
       "      <td>['Spiral Arms (3)']</td>\n",
       "      <td>['Central Bulge (Small)']</td>\n",
       "    </tr>\n",
       "    <tr>\n",
       "      <th>1</th>\n",
       "      <td>['Smooth']</td>\n",
       "      <td>['Round']</td>\n",
       "      <td>NaN</td>\n",
       "      <td>['Merging (None)']</td>\n",
       "      <td>NaN</td>\n",
       "      <td>NaN</td>\n",
       "      <td>NaN</td>\n",
       "      <td>NaN</td>\n",
       "      <td>NaN</td>\n",
       "      <td>NaN</td>\n",
       "    </tr>\n",
       "    <tr>\n",
       "      <th>2</th>\n",
       "      <td>['Featured or Disk']</td>\n",
       "      <td>NaN</td>\n",
       "      <td>['Edge On Disk (No)']</td>\n",
       "      <td>['Merging (Merger)']</td>\n",
       "      <td>NaN</td>\n",
       "      <td>['No Bar']</td>\n",
       "      <td>['Spiral Arms (No)']</td>\n",
       "      <td>NaN</td>\n",
       "      <td>NaN</td>\n",
       "      <td>['Central Bulge (Dominant)']</td>\n",
       "    </tr>\n",
       "    <tr>\n",
       "      <th>3</th>\n",
       "      <td>['Featured or Disk']</td>\n",
       "      <td>NaN</td>\n",
       "      <td>['Edge On Disk (No)']</td>\n",
       "      <td>['Merging (None)']</td>\n",
       "      <td>NaN</td>\n",
       "      <td>['No Bar']</td>\n",
       "      <td>['Spiral Arms (No)']</td>\n",
       "      <td>NaN</td>\n",
       "      <td>NaN</td>\n",
       "      <td>['Central Bulge (Small)']</td>\n",
       "    </tr>\n",
       "    <tr>\n",
       "      <th>4</th>\n",
       "      <td>['Smooth']</td>\n",
       "      <td>['In Between']</td>\n",
       "      <td>NaN</td>\n",
       "      <td>['Merging (None)']</td>\n",
       "      <td>NaN</td>\n",
       "      <td>NaN</td>\n",
       "      <td>NaN</td>\n",
       "      <td>NaN</td>\n",
       "      <td>NaN</td>\n",
       "      <td>NaN</td>\n",
       "    </tr>\n",
       "  </tbody>\n",
       "</table>\n",
       "</div>"
      ],
      "text/plain": [
       "                 task_1          task_2                 task_3  \\\n",
       "0  ['Featured or Disk']             NaN  ['Edge On Disk (No)']   \n",
       "1            ['Smooth']       ['Round']                    NaN   \n",
       "2  ['Featured or Disk']             NaN  ['Edge On Disk (No)']   \n",
       "3  ['Featured or Disk']             NaN  ['Edge On Disk (No)']   \n",
       "4            ['Smooth']  ['In Between']                    NaN   \n",
       "\n",
       "                 task_4 task_5      task_6                 task_7  \\\n",
       "0    ['Merging (None)']    NaN  ['No Bar']  ['Spiral Arms (Yes)']   \n",
       "1    ['Merging (None)']    NaN         NaN                    NaN   \n",
       "2  ['Merging (Merger)']    NaN  ['No Bar']   ['Spiral Arms (No)']   \n",
       "3    ['Merging (None)']    NaN  ['No Bar']   ['Spiral Arms (No)']   \n",
       "4    ['Merging (None)']    NaN         NaN                    NaN   \n",
       "\n",
       "                       task_8               task_9  \\\n",
       "0  ['Spiral Winding (Tight)']  ['Spiral Arms (3)']   \n",
       "1                         NaN                  NaN   \n",
       "2                         NaN                  NaN   \n",
       "3                         NaN                  NaN   \n",
       "4                         NaN                  NaN   \n",
       "\n",
       "                        task_10  \n",
       "0     ['Central Bulge (Small)']  \n",
       "1                           NaN  \n",
       "2  ['Central Bulge (Dominant)']  \n",
       "3     ['Central Bulge (Small)']  \n",
       "4                           NaN  "
      ]
     },
     "execution_count": 231,
     "metadata": {},
     "output_type": "execute_result"
    }
   ],
   "source": [
    "subset_test.head()"
   ]
  },
  {
   "cell_type": "code",
   "execution_count": 232,
   "id": "86c0f7d5",
   "metadata": {
    "scrolled": true
   },
   "outputs": [
    {
     "data": {
      "text/html": [
       "<div>\n",
       "<style scoped>\n",
       "    .dataframe tbody tr th:only-of-type {\n",
       "        vertical-align: middle;\n",
       "    }\n",
       "\n",
       "    .dataframe tbody tr th {\n",
       "        vertical-align: top;\n",
       "    }\n",
       "\n",
       "    .dataframe thead th {\n",
       "        text-align: right;\n",
       "    }\n",
       "</style>\n",
       "<table border=\"1\" class=\"dataframe\">\n",
       "  <thead>\n",
       "    <tr style=\"text-align: right;\">\n",
       "      <th></th>\n",
       "      <th>task_1</th>\n",
       "      <th>task_2</th>\n",
       "      <th>task_3</th>\n",
       "      <th>task_4</th>\n",
       "      <th>task_5</th>\n",
       "      <th>task_6</th>\n",
       "      <th>task_7</th>\n",
       "      <th>task_8</th>\n",
       "      <th>task_9</th>\n",
       "      <th>task_10</th>\n",
       "    </tr>\n",
       "  </thead>\n",
       "  <tbody>\n",
       "    <tr>\n",
       "      <th>0</th>\n",
       "      <td>['Featured or Disk']</td>\n",
       "      <td>NaN</td>\n",
       "      <td>['Edge On Disk (No)']</td>\n",
       "      <td>['Merging (None)']</td>\n",
       "      <td>NaN</td>\n",
       "      <td>['Weak Bar']</td>\n",
       "      <td>['Spiral Arms (Yes)']</td>\n",
       "      <td>['Spiral Winding (Tight)']</td>\n",
       "      <td>['Spiral Arms (2)']</td>\n",
       "      <td>['Central Bulge (Small)']</td>\n",
       "    </tr>\n",
       "    <tr>\n",
       "      <th>1</th>\n",
       "      <td>['Smooth']</td>\n",
       "      <td>['Round']</td>\n",
       "      <td>NaN</td>\n",
       "      <td>['Merging (None)']</td>\n",
       "      <td>NaN</td>\n",
       "      <td>NaN</td>\n",
       "      <td>NaN</td>\n",
       "      <td>NaN</td>\n",
       "      <td>NaN</td>\n",
       "      <td>NaN</td>\n",
       "    </tr>\n",
       "    <tr>\n",
       "      <th>2</th>\n",
       "      <td>['Featured or Disk']</td>\n",
       "      <td>NaN</td>\n",
       "      <td>['Edge On Disk (No)']</td>\n",
       "      <td>['Merging (None)']</td>\n",
       "      <td>NaN</td>\n",
       "      <td>['No Bar']</td>\n",
       "      <td>['Spiral Arms (Yes)']</td>\n",
       "      <td>['Spiral Winding (Loose)']</td>\n",
       "      <td>['Spiral Arms (2)']</td>\n",
       "      <td>['Central Bulge (Moderate)']</td>\n",
       "    </tr>\n",
       "    <tr>\n",
       "      <th>3</th>\n",
       "      <td>['Featured or Disk']</td>\n",
       "      <td>NaN</td>\n",
       "      <td>['Edge On Disk (No)']</td>\n",
       "      <td>['Merging (None)']</td>\n",
       "      <td>NaN</td>\n",
       "      <td>['No Bar']</td>\n",
       "      <td>['Spiral Arms (Yes)']</td>\n",
       "      <td>['Spiral Winding (Tight)']</td>\n",
       "      <td>['Spiral Arms (cannot tell)']</td>\n",
       "      <td>['Central Bulge (Small)']</td>\n",
       "    </tr>\n",
       "    <tr>\n",
       "      <th>4</th>\n",
       "      <td>['Smooth']</td>\n",
       "      <td>['In Between']</td>\n",
       "      <td>NaN</td>\n",
       "      <td>['Merging (None)']</td>\n",
       "      <td>NaN</td>\n",
       "      <td>NaN</td>\n",
       "      <td>NaN</td>\n",
       "      <td>NaN</td>\n",
       "      <td>NaN</td>\n",
       "      <td>NaN</td>\n",
       "    </tr>\n",
       "  </tbody>\n",
       "</table>\n",
       "</div>"
      ],
      "text/plain": [
       "                 task_1          task_2                 task_3  \\\n",
       "0  ['Featured or Disk']             NaN  ['Edge On Disk (No)']   \n",
       "1            ['Smooth']       ['Round']                    NaN   \n",
       "2  ['Featured or Disk']             NaN  ['Edge On Disk (No)']   \n",
       "3  ['Featured or Disk']             NaN  ['Edge On Disk (No)']   \n",
       "4            ['Smooth']  ['In Between']                    NaN   \n",
       "\n",
       "               task_4 task_5        task_6                 task_7  \\\n",
       "0  ['Merging (None)']    NaN  ['Weak Bar']  ['Spiral Arms (Yes)']   \n",
       "1  ['Merging (None)']    NaN           NaN                    NaN   \n",
       "2  ['Merging (None)']    NaN    ['No Bar']  ['Spiral Arms (Yes)']   \n",
       "3  ['Merging (None)']    NaN    ['No Bar']  ['Spiral Arms (Yes)']   \n",
       "4  ['Merging (None)']    NaN           NaN                    NaN   \n",
       "\n",
       "                       task_8                         task_9  \\\n",
       "0  ['Spiral Winding (Tight)']            ['Spiral Arms (2)']   \n",
       "1                         NaN                            NaN   \n",
       "2  ['Spiral Winding (Loose)']            ['Spiral Arms (2)']   \n",
       "3  ['Spiral Winding (Tight)']  ['Spiral Arms (cannot tell)']   \n",
       "4                         NaN                            NaN   \n",
       "\n",
       "                        task_10  \n",
       "0     ['Central Bulge (Small)']  \n",
       "1                           NaN  \n",
       "2  ['Central Bulge (Moderate)']  \n",
       "3     ['Central Bulge (Small)']  \n",
       "4                           NaN  "
      ]
     },
     "execution_count": 232,
     "metadata": {},
     "output_type": "execute_result"
    }
   ],
   "source": [
    "subset_pred.head()"
   ]
  },
  {
   "cell_type": "markdown",
   "id": "1e2a2465",
   "metadata": {},
   "source": [
    "### Hamming Loss for Multi-Task\n",
    "\n",
    "Assign a specific label to the different labels"
   ]
  },
  {
   "cell_type": "code",
   "execution_count": 203,
   "id": "6140d744",
   "metadata": {},
   "outputs": [],
   "source": [
    "def process_element(dataframe):\n",
    "    \n",
    "    ntest = dataframe.shape[0]\n",
    "    \n",
    "    record = []\n",
    "    \n",
    "    for t in range(10):\n",
    "        task = 'task_'+str(t+1)\n",
    "        for i in range(ntest):\n",
    "\n",
    "            element = dataframe[task].values[i]\n",
    "\n",
    "            if not pd.isna(element):\n",
    "                dataframe[task].iloc[i] = eval(element)[0]\n",
    "        \n",
    "    return dataframe"
   ]
  },
  {
   "cell_type": "code",
   "execution_count": 222,
   "id": "150b3988",
   "metadata": {},
   "outputs": [],
   "source": [
    "df_pred = subset_pred.copy()\n",
    "df_test = subset_test.copy()"
   ]
  },
  {
   "cell_type": "code",
   "execution_count": 223,
   "id": "e51544a4",
   "metadata": {},
   "outputs": [],
   "source": [
    "# process the dataframe\n",
    "df_processed_pred = process_element(df_pred)\n",
    "df_processed_test = process_element(df_test)"
   ]
  },
  {
   "cell_type": "code",
   "execution_count": 286,
   "id": "0b0b3cdb",
   "metadata": {},
   "outputs": [],
   "source": [
    "def overall_mapping(df_test, df_pred):\n",
    "    \n",
    "    mapping = {}\n",
    "    \n",
    "    count = 1\n",
    "    \n",
    "    for t in range(10):\n",
    "        for l in st.LABELS['task_'+str(t+1)]:\n",
    "            mapping[l] = count\n",
    "            count += 1\n",
    "            \n",
    "    df_pred_mapped = df_pred.applymap(lambda s: mapping.get(s) if s in mapping else s) \n",
    "    df_test_mapped = df_test.applymap(lambda s: mapping.get(s) if s in mapping else s)\n",
    "    \n",
    "    df_pred_mapped = df_pred_mapped.fillna(0)\n",
    "    df_test_mapped = df_test_mapped.fillna(0)\n",
    "\n",
    "    df_pred_mapped = df_pred_mapped.astype(int)\n",
    "    df_test_mapped = df_test_mapped.astype(int)\n",
    "    \n",
    "    return df_test_mapped, df_pred_mapped"
   ]
  },
  {
   "cell_type": "code",
   "execution_count": 257,
   "id": "6c1b0f0f",
   "metadata": {},
   "outputs": [],
   "source": [
    "def hamming_per_task(df_test, df_pred, task):\n",
    "    \n",
    "    # build the mapping \n",
    "    mapping = {st.LABELS[task][i]: i+1 for i in range(len(st.LABELS[task]))}\n",
    "       \n",
    "    df_pred_mapped = df_pred[task].map(mapping)\n",
    "    df_test_mapped = df_test[task].map(mapping)\n",
    "    \n",
    "    df_pred_mapped = df_pred_mapped.fillna(0)\n",
    "    df_test_mapped = df_test_mapped.fillna(0)\n",
    "    \n",
    "    df_pred_mapped = df_pred_mapped.astype(int)\n",
    "    df_test_mapped = df_test_mapped.astype(int)\n",
    "    \n",
    "    ham_loss = hamming_loss(df_test_mapped, df_pred_mapped)\n",
    "    \n",
    "    return ham_loss"
   ]
  },
  {
   "cell_type": "code",
   "execution_count": 258,
   "id": "2f2cd715",
   "metadata": {},
   "outputs": [
    {
     "name": "stdout",
     "output_type": "stream",
     "text": [
      "Task 1: 0.139\n",
      "Task 2: 0.233\n",
      "Task 3: 0.128\n",
      "Task 4: 0.159\n",
      "Task 5: 0.051\n",
      "Task 6: 0.137\n",
      "Task 7: 0.113\n",
      "Task 8: 0.114\n",
      "Task 9: 0.113\n",
      "Task 10: 0.131\n"
     ]
    }
   ],
   "source": [
    "for i in range(10):\n",
    "    hl = hamming_per_task(df_processed_test, df_processed_pred, 'task_'+str(i+1))\n",
    "    print(f'Task {i+1}: {hl:.3f}')"
   ]
  },
  {
   "cell_type": "code",
   "execution_count": 287,
   "id": "bee97f0a",
   "metadata": {},
   "outputs": [],
   "source": [
    "df1, df2 = overall_mapping(df_processed_test, df_processed_pred)"
   ]
  },
  {
   "cell_type": "code",
   "execution_count": 295,
   "id": "d53d4756",
   "metadata": {},
   "outputs": [],
   "source": [
    "def metrics(df_test, df_pred):\n",
    "    \n",
    "    for i in range(10):\n",
    "        task = 'task_'+str(i+1)\n",
    "        \n",
    "        acc = sm.accuracy_score(df_test[task], df_pred[task])\n",
    "        ham = sm.hamming_loss(df_test[task], df_pred[task])\n",
    "        pre = sm.precision_score(df_test[task], df_pred[task], average = \"micro\")\n",
    "        rec = sm.recall_score(df_test[task], df_pred[task], average = \"micro\")\n",
    "        f_1 = sm.f1_score(df_test[task], df_pred[task], average = \"micro\")\n",
    "        \n",
    "        print(f'Accuracy Score for Task {i+1}  : {acc:.3f}')\n",
    "        print(f'Hamming Score for Task {i+1}   : {ham:.3f}')\n",
    "        print(f'Precision Score for Task {i+1} : {pre:.3f}')\n",
    "        print(f'Recall Score for Task {i+1}    : {rec:.3f}')\n",
    "        print(f'F1 Score for Task {i+1}        : {f_1:.3f}')\n",
    "        print('-'*50)"
   ]
  },
  {
   "cell_type": "code",
   "execution_count": 296,
   "id": "ef93221b",
   "metadata": {},
   "outputs": [
    {
     "name": "stdout",
     "output_type": "stream",
     "text": [
      "Accuracy Score for Task 1  : 0.861\n",
      "Hamming Score for Task 1   : 0.139\n",
      "Precision Score for Task 1 : 0.861\n",
      "Recall Score for Task 1    : 0.861\n",
      "F1 Score for Task 1        : 0.861\n",
      "--------------------------------------------------\n",
      "Accuracy Score for Task 2  : 0.767\n",
      "Hamming Score for Task 2   : 0.233\n",
      "Precision Score for Task 2 : 0.767\n",
      "Recall Score for Task 2    : 0.767\n",
      "F1 Score for Task 2        : 0.767\n",
      "--------------------------------------------------\n",
      "Accuracy Score for Task 3  : 0.872\n",
      "Hamming Score for Task 3   : 0.128\n",
      "Precision Score for Task 3 : 0.872\n",
      "Recall Score for Task 3    : 0.872\n",
      "F1 Score for Task 3        : 0.872\n",
      "--------------------------------------------------\n",
      "Accuracy Score for Task 4  : 0.841\n",
      "Hamming Score for Task 4   : 0.159\n",
      "Precision Score for Task 4 : 0.841\n",
      "Recall Score for Task 4    : 0.841\n",
      "F1 Score for Task 4        : 0.841\n",
      "--------------------------------------------------\n",
      "Accuracy Score for Task 5  : 0.949\n",
      "Hamming Score for Task 5   : 0.051\n",
      "Precision Score for Task 5 : 0.949\n",
      "Recall Score for Task 5    : 0.949\n",
      "F1 Score for Task 5        : 0.949\n",
      "--------------------------------------------------\n",
      "Accuracy Score for Task 6  : 0.863\n",
      "Hamming Score for Task 6   : 0.137\n",
      "Precision Score for Task 6 : 0.863\n",
      "Recall Score for Task 6    : 0.863\n",
      "F1 Score for Task 6        : 0.863\n",
      "--------------------------------------------------\n",
      "Accuracy Score for Task 7  : 0.887\n",
      "Hamming Score for Task 7   : 0.113\n",
      "Precision Score for Task 7 : 0.887\n",
      "Recall Score for Task 7    : 0.887\n",
      "F1 Score for Task 7        : 0.887\n",
      "--------------------------------------------------\n",
      "Accuracy Score for Task 8  : 0.886\n",
      "Hamming Score for Task 8   : 0.114\n",
      "Precision Score for Task 8 : 0.886\n",
      "Recall Score for Task 8    : 0.886\n",
      "F1 Score for Task 8        : 0.886\n",
      "--------------------------------------------------\n",
      "Accuracy Score for Task 9  : 0.887\n",
      "Hamming Score for Task 9   : 0.113\n",
      "Precision Score for Task 9 : 0.887\n",
      "Recall Score for Task 9    : 0.887\n",
      "F1 Score for Task 9        : 0.887\n",
      "--------------------------------------------------\n",
      "Accuracy Score for Task 10  : 0.869\n",
      "Hamming Score for Task 10   : 0.131\n",
      "Precision Score for Task 10 : 0.869\n",
      "Recall Score for Task 10    : 0.869\n",
      "F1 Score for Task 10        : 0.869\n",
      "--------------------------------------------------\n"
     ]
    }
   ],
   "source": [
    "metrics(df1, df2)"
   ]
  },
  {
   "cell_type": "markdown",
   "id": "741907dd",
   "metadata": {},
   "source": [
    "# Number of Similar Trees"
   ]
  },
  {
   "cell_type": "code",
   "execution_count": 297,
   "id": "7eb6cbc4",
   "metadata": {},
   "outputs": [],
   "source": [
    "x = df1 == df2"
   ]
  },
  {
   "cell_type": "code",
   "execution_count": 298,
   "id": "8c6f5837",
   "metadata": {},
   "outputs": [
    {
     "name": "stdout",
     "output_type": "stream",
     "text": [
      "Percentage of similar trees is 56.18\n"
     ]
    }
   ],
   "source": [
    "frac = sum(x.all(1) * 1) / x.shape[0] * 100\n",
    "\n",
    "print(f'Percentage of similar trees is {frac:.2f}')"
   ]
  },
  {
   "cell_type": "code",
   "execution_count": null,
   "id": "ba1cd10b",
   "metadata": {},
   "outputs": [],
   "source": []
  }
 ],
 "metadata": {
  "kernelspec": {
   "display_name": "Python 3",
   "language": "python",
   "name": "python3"
  },
  "language_info": {
   "codemirror_mode": {
    "name": "ipython",
    "version": 3
   },
   "file_extension": ".py",
   "mimetype": "text/x-python",
   "name": "python",
   "nbconvert_exporter": "python",
   "pygments_lexer": "ipython3",
   "version": "3.9.7"
  }
 },
 "nbformat": 4,
 "nbformat_minor": 5
}
