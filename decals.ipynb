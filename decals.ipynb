{
 "cells": [
  {
   "cell_type": "code",
   "execution_count": 22,
   "id": "346f4b8e",
   "metadata": {},
   "outputs": [],
   "source": [
    "import os\n",
    "import pandas as pd \n",
    "import numpy as np \n",
    "\n",
    "# visualisation\n",
    "import matplotlib.pylab as plt\n",
    "import matplotlib.font_manager as fm\n",
    "\n",
    "# our scripts \n",
    "import src.processing as sp \n",
    "import settings as st\n",
    "import utils.helpers as hp\n",
    "import utils.imaging as ui"
   ]
  },
  {
   "cell_type": "markdown",
   "id": "fe7eb817",
   "metadata": {},
   "source": [
    "### Correct for the locations of the images "
   ]
  },
  {
   "cell_type": "code",
   "execution_count": 2,
   "id": "17e57869",
   "metadata": {},
   "outputs": [],
   "source": [
    "%%capture\n",
    "!git pull"
   ]
  },
  {
   "cell_type": "code",
   "execution_count": 3,
   "id": "823ab23d",
   "metadata": {},
   "outputs": [],
   "source": [
    "# dr5_desc = sp.correct_location('gz_decals_volunteers_5', save = True, filename='dr5_votes')"
   ]
  },
  {
   "cell_type": "markdown",
   "id": "ca439caa",
   "metadata": {},
   "source": [
    "### The data with the votes"
   ]
  },
  {
   "cell_type": "code",
   "execution_count": 23,
   "id": "89b0b1de",
   "metadata": {},
   "outputs": [],
   "source": [
    "dataframe = hp.read_parquet(st.DATA_DIR, 'descriptions/dr5_votes')"
   ]
  },
  {
   "cell_type": "code",
   "execution_count": 24,
   "id": "f2e0ad23",
   "metadata": {},
   "outputs": [],
   "source": [
    "labels = sp.generate_labels(dataframe, save=False)"
   ]
  },
  {
   "cell_type": "code",
   "execution_count": 25,
   "id": "34ce6616",
   "metadata": {},
   "outputs": [
    {
     "data": {
      "text/html": [
       "<div>\n",
       "<style scoped>\n",
       "    .dataframe tbody tr th:only-of-type {\n",
       "        vertical-align: middle;\n",
       "    }\n",
       "\n",
       "    .dataframe tbody tr th {\n",
       "        vertical-align: top;\n",
       "    }\n",
       "\n",
       "    .dataframe thead th {\n",
       "        text-align: right;\n",
       "    }\n",
       "</style>\n",
       "<table border=\"1\" class=\"dataframe\">\n",
       "  <thead>\n",
       "    <tr style=\"text-align: right;\">\n",
       "      <th></th>\n",
       "      <th>iauname</th>\n",
       "      <th>png_loc</th>\n",
       "      <th>Smooth</th>\n",
       "      <th>Featured or Disk</th>\n",
       "      <th>Artifact</th>\n",
       "      <th>Round</th>\n",
       "      <th>In Between</th>\n",
       "      <th>Cigar Shaped</th>\n",
       "      <th>Edge On Disk (Yes)</th>\n",
       "      <th>Edge On Disk (No)</th>\n",
       "      <th>...</th>\n",
       "      <th>Spiral Arms (2)</th>\n",
       "      <th>Spiral Arms (3)</th>\n",
       "      <th>Spiral Arms (4)</th>\n",
       "      <th>Spiral Arms (More Than 4)</th>\n",
       "      <th>Spiral Arms (cannot tell)</th>\n",
       "      <th>Central Bulge (None)</th>\n",
       "      <th>Central Bulge (Small)</th>\n",
       "      <th>Central Bulge (Moderate)</th>\n",
       "      <th>Central Bulge (Large)</th>\n",
       "      <th>Central Bulge (Dominant)</th>\n",
       "    </tr>\n",
       "  </thead>\n",
       "  <tbody>\n",
       "    <tr>\n",
       "      <th>0</th>\n",
       "      <td>J112953.88-000427.4</td>\n",
       "      <td>J112/J112953.88-000427.4.png</td>\n",
       "      <td>1</td>\n",
       "      <td>0</td>\n",
       "      <td>0</td>\n",
       "      <td>0</td>\n",
       "      <td>0</td>\n",
       "      <td>1</td>\n",
       "      <td>0</td>\n",
       "      <td>1</td>\n",
       "      <td>...</td>\n",
       "      <td>0</td>\n",
       "      <td>0</td>\n",
       "      <td>0</td>\n",
       "      <td>0</td>\n",
       "      <td>1</td>\n",
       "      <td>0</td>\n",
       "      <td>0</td>\n",
       "      <td>1</td>\n",
       "      <td>0</td>\n",
       "      <td>0</td>\n",
       "    </tr>\n",
       "    <tr>\n",
       "      <th>1</th>\n",
       "      <td>J104325.29+190335.0</td>\n",
       "      <td>J104/J104325.29+190335.0.png</td>\n",
       "      <td>1</td>\n",
       "      <td>0</td>\n",
       "      <td>0</td>\n",
       "      <td>0</td>\n",
       "      <td>1</td>\n",
       "      <td>0</td>\n",
       "      <td>0</td>\n",
       "      <td>1</td>\n",
       "      <td>...</td>\n",
       "      <td>0</td>\n",
       "      <td>0</td>\n",
       "      <td>0</td>\n",
       "      <td>0</td>\n",
       "      <td>0</td>\n",
       "      <td>0</td>\n",
       "      <td>0</td>\n",
       "      <td>1</td>\n",
       "      <td>0</td>\n",
       "      <td>1</td>\n",
       "    </tr>\n",
       "    <tr>\n",
       "      <th>2</th>\n",
       "      <td>J104629.54+115415.1</td>\n",
       "      <td>J104/J104629.54+115415.1.png</td>\n",
       "      <td>0</td>\n",
       "      <td>1</td>\n",
       "      <td>0</td>\n",
       "      <td>0</td>\n",
       "      <td>1</td>\n",
       "      <td>0</td>\n",
       "      <td>0</td>\n",
       "      <td>1</td>\n",
       "      <td>...</td>\n",
       "      <td>1</td>\n",
       "      <td>0</td>\n",
       "      <td>0</td>\n",
       "      <td>0</td>\n",
       "      <td>0</td>\n",
       "      <td>0</td>\n",
       "      <td>1</td>\n",
       "      <td>1</td>\n",
       "      <td>0</td>\n",
       "      <td>0</td>\n",
       "    </tr>\n",
       "    <tr>\n",
       "      <th>3</th>\n",
       "      <td>J082950.68+125621.8</td>\n",
       "      <td>J082/J082950.68+125621.8.png</td>\n",
       "      <td>0</td>\n",
       "      <td>1</td>\n",
       "      <td>0</td>\n",
       "      <td>0</td>\n",
       "      <td>0</td>\n",
       "      <td>1</td>\n",
       "      <td>1</td>\n",
       "      <td>0</td>\n",
       "      <td>...</td>\n",
       "      <td>0</td>\n",
       "      <td>0</td>\n",
       "      <td>0</td>\n",
       "      <td>0</td>\n",
       "      <td>0</td>\n",
       "      <td>0</td>\n",
       "      <td>0</td>\n",
       "      <td>0</td>\n",
       "      <td>0</td>\n",
       "      <td>0</td>\n",
       "    </tr>\n",
       "    <tr>\n",
       "      <th>4</th>\n",
       "      <td>J122056.00-015022.0</td>\n",
       "      <td>J122/J122056.00-015022.0.png</td>\n",
       "      <td>0</td>\n",
       "      <td>1</td>\n",
       "      <td>0</td>\n",
       "      <td>0</td>\n",
       "      <td>1</td>\n",
       "      <td>0</td>\n",
       "      <td>0</td>\n",
       "      <td>1</td>\n",
       "      <td>...</td>\n",
       "      <td>1</td>\n",
       "      <td>0</td>\n",
       "      <td>0</td>\n",
       "      <td>0</td>\n",
       "      <td>0</td>\n",
       "      <td>0</td>\n",
       "      <td>0</td>\n",
       "      <td>1</td>\n",
       "      <td>0</td>\n",
       "      <td>0</td>\n",
       "    </tr>\n",
       "  </tbody>\n",
       "</table>\n",
       "<p>5 rows × 36 columns</p>\n",
       "</div>"
      ],
      "text/plain": [
       "               iauname                       png_loc  Smooth  \\\n",
       "0  J112953.88-000427.4  J112/J112953.88-000427.4.png       1   \n",
       "1  J104325.29+190335.0  J104/J104325.29+190335.0.png       1   \n",
       "2  J104629.54+115415.1  J104/J104629.54+115415.1.png       0   \n",
       "3  J082950.68+125621.8  J082/J082950.68+125621.8.png       0   \n",
       "4  J122056.00-015022.0  J122/J122056.00-015022.0.png       0   \n",
       "\n",
       "   Featured or Disk  Artifact  Round  In Between  Cigar Shaped  \\\n",
       "0                 0         0      0           0             1   \n",
       "1                 0         0      0           1             0   \n",
       "2                 1         0      0           1             0   \n",
       "3                 1         0      0           0             1   \n",
       "4                 1         0      0           1             0   \n",
       "\n",
       "   Edge On Disk (Yes)  Edge On Disk (No)  ...  Spiral Arms (2)  \\\n",
       "0                   0                  1  ...                0   \n",
       "1                   0                  1  ...                0   \n",
       "2                   0                  1  ...                1   \n",
       "3                   1                  0  ...                0   \n",
       "4                   0                  1  ...                1   \n",
       "\n",
       "   Spiral Arms (3)  Spiral Arms (4)  Spiral Arms (More Than 4)  \\\n",
       "0                0                0                          0   \n",
       "1                0                0                          0   \n",
       "2                0                0                          0   \n",
       "3                0                0                          0   \n",
       "4                0                0                          0   \n",
       "\n",
       "   Spiral Arms (cannot tell)  Central Bulge (None)  Central Bulge (Small)  \\\n",
       "0                          1                     0                      0   \n",
       "1                          0                     0                      0   \n",
       "2                          0                     0                      1   \n",
       "3                          0                     0                      0   \n",
       "4                          0                     0                      0   \n",
       "\n",
       "   Central Bulge (Moderate)  Central Bulge (Large)  Central Bulge (Dominant)  \n",
       "0                         1                      0                         0  \n",
       "1                         1                      0                         1  \n",
       "2                         1                      0                         0  \n",
       "3                         0                      0                         0  \n",
       "4                         1                      0                         0  \n",
       "\n",
       "[5 rows x 36 columns]"
      ]
     },
     "execution_count": 25,
     "metadata": {},
     "output_type": "execute_result"
    }
   ],
   "source": [
    "labels.head()"
   ]
  },
  {
   "cell_type": "code",
   "execution_count": 33,
   "id": "1c0dbc7d",
   "metadata": {},
   "outputs": [],
   "source": [
    "ncols = dataframe.shape[1]\n",
    "vote_fraction = dataframe[dataframe.columns[['fraction' in dataframe.columns[i] for i in range(ncols)]]]"
   ]
  },
  {
   "cell_type": "code",
   "execution_count": 35,
   "id": "c375daad",
   "metadata": {},
   "outputs": [],
   "source": [
    "vote_fraction = vote_fraction.rename(st.MAPPING, axis=1)"
   ]
  },
  {
   "cell_type": "code",
   "execution_count": 31,
   "id": "a7f468f9",
   "metadata": {},
   "outputs": [
    {
     "data": {
      "text/html": [
       "<div>\n",
       "<style scoped>\n",
       "    .dataframe tbody tr th:only-of-type {\n",
       "        vertical-align: middle;\n",
       "    }\n",
       "\n",
       "    .dataframe tbody tr th {\n",
       "        vertical-align: top;\n",
       "    }\n",
       "\n",
       "    .dataframe thead th {\n",
       "        text-align: right;\n",
       "    }\n",
       "</style>\n",
       "<table border=\"1\" class=\"dataframe\">\n",
       "  <thead>\n",
       "    <tr style=\"text-align: right;\">\n",
       "      <th></th>\n",
       "      <th>Spiral Winding (Tight)</th>\n",
       "      <th>Spiral Winding (Medium)</th>\n",
       "      <th>Spiral Winding (Loose)</th>\n",
       "    </tr>\n",
       "  </thead>\n",
       "  <tbody>\n",
       "    <tr>\n",
       "      <th>0</th>\n",
       "      <td>1</td>\n",
       "      <td>0</td>\n",
       "      <td>0</td>\n",
       "    </tr>\n",
       "    <tr>\n",
       "      <th>1</th>\n",
       "      <td>0</td>\n",
       "      <td>0</td>\n",
       "      <td>0</td>\n",
       "    </tr>\n",
       "    <tr>\n",
       "      <th>2</th>\n",
       "      <td>1</td>\n",
       "      <td>0</td>\n",
       "      <td>0</td>\n",
       "    </tr>\n",
       "    <tr>\n",
       "      <th>3</th>\n",
       "      <td>0</td>\n",
       "      <td>0</td>\n",
       "      <td>0</td>\n",
       "    </tr>\n",
       "    <tr>\n",
       "      <th>4</th>\n",
       "      <td>0</td>\n",
       "      <td>1</td>\n",
       "      <td>1</td>\n",
       "    </tr>\n",
       "  </tbody>\n",
       "</table>\n",
       "</div>"
      ],
      "text/plain": [
       "   Spiral Winding (Tight)  Spiral Winding (Medium)  Spiral Winding (Loose)\n",
       "0                       1                        0                       0\n",
       "1                       0                        0                       0\n",
       "2                       1                        0                       0\n",
       "3                       0                        0                       0\n",
       "4                       0                        1                       1"
      ]
     },
     "execution_count": 31,
     "metadata": {},
     "output_type": "execute_result"
    }
   ],
   "source": [
    "labels[st.LABELS['task_8']].head()"
   ]
  },
  {
   "cell_type": "code",
   "execution_count": 36,
   "id": "75ee0034",
   "metadata": {},
   "outputs": [
    {
     "data": {
      "text/html": [
       "<div>\n",
       "<style scoped>\n",
       "    .dataframe tbody tr th:only-of-type {\n",
       "        vertical-align: middle;\n",
       "    }\n",
       "\n",
       "    .dataframe tbody tr th {\n",
       "        vertical-align: top;\n",
       "    }\n",
       "\n",
       "    .dataframe thead th {\n",
       "        text-align: right;\n",
       "    }\n",
       "</style>\n",
       "<table border=\"1\" class=\"dataframe\">\n",
       "  <thead>\n",
       "    <tr style=\"text-align: right;\">\n",
       "      <th></th>\n",
       "      <th>Spiral Winding (Tight)</th>\n",
       "      <th>Spiral Winding (Medium)</th>\n",
       "      <th>Spiral Winding (Loose)</th>\n",
       "    </tr>\n",
       "  </thead>\n",
       "  <tbody>\n",
       "    <tr>\n",
       "      <th>0</th>\n",
       "      <td>1.0</td>\n",
       "      <td>0.00</td>\n",
       "      <td>0.00</td>\n",
       "    </tr>\n",
       "    <tr>\n",
       "      <th>1</th>\n",
       "      <td>NaN</td>\n",
       "      <td>NaN</td>\n",
       "      <td>NaN</td>\n",
       "    </tr>\n",
       "    <tr>\n",
       "      <th>2</th>\n",
       "      <td>0.5</td>\n",
       "      <td>0.25</td>\n",
       "      <td>0.25</td>\n",
       "    </tr>\n",
       "    <tr>\n",
       "      <th>3</th>\n",
       "      <td>NaN</td>\n",
       "      <td>NaN</td>\n",
       "      <td>NaN</td>\n",
       "    </tr>\n",
       "    <tr>\n",
       "      <th>4</th>\n",
       "      <td>0.0</td>\n",
       "      <td>0.50</td>\n",
       "      <td>0.50</td>\n",
       "    </tr>\n",
       "  </tbody>\n",
       "</table>\n",
       "</div>"
      ],
      "text/plain": [
       "   Spiral Winding (Tight)  Spiral Winding (Medium)  Spiral Winding (Loose)\n",
       "0                     1.0                     0.00                    0.00\n",
       "1                     NaN                      NaN                     NaN\n",
       "2                     0.5                     0.25                    0.25\n",
       "3                     NaN                      NaN                     NaN\n",
       "4                     0.0                     0.50                    0.50"
      ]
     },
     "execution_count": 36,
     "metadata": {},
     "output_type": "execute_result"
    }
   ],
   "source": [
    "vote_fraction[st.LABELS['task_8']].head()"
   ]
  },
  {
   "cell_type": "markdown",
   "id": "b4ab12f5",
   "metadata": {},
   "source": [
    "# Calculate the weights per class"
   ]
  },
  {
   "cell_type": "code",
   "execution_count": 5,
   "id": "047fbdae",
   "metadata": {},
   "outputs": [],
   "source": [
    "labels_num = labels.iloc[:,2:]\n",
    "weights = labels_num.sum(axis=0)\n",
    "inv_weights = 1/weights\n",
    "inv_weights_norm = inv_weights/inv_weights.sum()"
   ]
  },
  {
   "cell_type": "code",
   "execution_count": 6,
   "id": "5a884cb0",
   "metadata": {},
   "outputs": [
    {
     "data": {
      "text/plain": [
       "Smooth                         0.002821\n",
       "Featured or Disk               0.005690\n",
       "Artifact                       0.057493\n",
       "Round                          0.006431\n",
       "In Between                     0.003816\n",
       "Cigar Shaped                   0.011399\n",
       "Edge On Disk (Yes)             0.010705\n",
       "Edge On Disk (No)              0.003131\n",
       "Merging (Merger)               0.024418\n",
       "Merging (Major Disturbance)    0.041934\n",
       "Merging (Minor Disturbance)    0.017971\n",
       "Merging (None)                 0.002253\n",
       "Bulge (Rounded)                0.008159\n",
       "Bulge (Boxy)                   0.057669\n",
       "Bulge (None)                   0.023825\n",
       "No Bar                         0.003642\n",
       "Weak Bar                       0.014607\n",
       "Strong Bar                     0.029243\n",
       "Spiral Arms (Yes)              0.006750\n",
       "Spiral Arms (No)               0.004657\n",
       "Spiral Winding (Tight)         0.010099\n",
       "Spiral Winding (Medium)        0.013962\n",
       "Spiral Winding (Loose)         0.020519\n",
       "Spiral Arms (1)                0.055613\n",
       "Spiral Arms (2)                0.009501\n",
       "Spiral Arms (3)                0.061095\n",
       "Spiral Arms (4)                0.147557\n",
       "Spiral Arms (More Than 4)      0.187171\n",
       "Spiral Arms (cannot tell)      0.015082\n",
       "Central Bulge (None)           0.027930\n",
       "Central Bulge (Small)          0.008518\n",
       "Central Bulge (Moderate)       0.005348\n",
       "Central Bulge (Large)          0.018162\n",
       "Central Bulge (Dominant)       0.082830\n",
       "dtype: float64"
      ]
     },
     "execution_count": 6,
     "metadata": {},
     "output_type": "execute_result"
    }
   ],
   "source": [
    "inv_weights_norm"
   ]
  },
  {
   "cell_type": "markdown",
   "id": "19e5d65c",
   "metadata": {},
   "source": [
    "# Split into train, test and validate"
   ]
  },
  {
   "cell_type": "code",
   "execution_count": 8,
   "id": "42c2255e",
   "metadata": {},
   "outputs": [],
   "source": [
    "train_val_test = sp.split_data(labels, 0.05, 0.15, save=False)"
   ]
  },
  {
   "cell_type": "code",
   "execution_count": 9,
   "id": "ed76ec70",
   "metadata": {},
   "outputs": [
    {
     "data": {
      "text/plain": [
       "(202628, 36)"
      ]
     },
     "execution_count": 9,
     "metadata": {},
     "output_type": "execute_result"
    }
   ],
   "source": [
    "train_val_test['train'].shape"
   ]
  },
  {
   "cell_type": "code",
   "execution_count": 10,
   "id": "fc495aa7",
   "metadata": {},
   "outputs": [
    {
     "data": {
      "text/plain": [
       "(12665, 36)"
      ]
     },
     "execution_count": 10,
     "metadata": {},
     "output_type": "execute_result"
    }
   ],
   "source": [
    "train_val_test['validate'].shape"
   ]
  },
  {
   "cell_type": "code",
   "execution_count": 11,
   "id": "2581fc54",
   "metadata": {},
   "outputs": [
    {
     "data": {
      "text/plain": [
       "(37993, 36)"
      ]
     },
     "execution_count": 11,
     "metadata": {},
     "output_type": "execute_result"
    }
   ],
   "source": [
    "train_val_test['test'].shape"
   ]
  },
  {
   "cell_type": "code",
   "execution_count": 12,
   "id": "23412b84",
   "metadata": {},
   "outputs": [
    {
     "data": {
      "text/plain": [
       "(253286, 36)"
      ]
     },
     "execution_count": 12,
     "metadata": {},
     "output_type": "execute_result"
    }
   ],
   "source": [
    "labels.shape"
   ]
  },
  {
   "cell_type": "markdown",
   "id": "daa73212",
   "metadata": {},
   "source": [
    "### DataLoader"
   ]
  },
  {
   "cell_type": "code",
   "execution_count": 3,
   "id": "5f04ef30",
   "metadata": {},
   "outputs": [],
   "source": [
    "from src.dataset import DECaLSDataset\n",
    "from torch.utils.data import Dataset, DataLoader"
   ]
  },
  {
   "cell_type": "code",
   "execution_count": 4,
   "id": "175b1565",
   "metadata": {},
   "outputs": [
    {
     "name": "stdout",
     "output_type": "stream",
     "text": [
      "The number of training points is 189963\n"
     ]
    }
   ],
   "source": [
    "traindataset = DECaLSDataset(mode = 'train', augment = False, multi_task = True)"
   ]
  },
  {
   "cell_type": "code",
   "execution_count": 10,
   "id": "5ecf6410",
   "metadata": {},
   "outputs": [],
   "source": [
    "train_loader = DataLoader(dataset=traindataset, batch_size=4, shuffle=True)"
   ]
  },
  {
   "cell_type": "code",
   "execution_count": 11,
   "id": "be503dd6",
   "metadata": {},
   "outputs": [],
   "source": [
    "dataiter = iter(train_loader)"
   ]
  },
  {
   "cell_type": "code",
   "execution_count": 12,
   "id": "7405bc7e",
   "metadata": {},
   "outputs": [],
   "source": [
    "data = dataiter.next()"
   ]
  },
  {
   "cell_type": "code",
   "execution_count": 20,
   "id": "277bcdfb",
   "metadata": {},
   "outputs": [
    {
     "data": {
      "text/plain": [
       "array(['Featured or Disk', 'Edge On Disk (Yes)', 'Bulge (Rounded)',\n",
       "       'Merging (None)'], dtype='<U27')"
      ]
     },
     "execution_count": 20,
     "metadata": {},
     "output_type": "execute_result"
    }
   ],
   "source": [
    "sp.find_labels({'task_'+str(i+1): data[1][i][2].tolist() for i in range(10)})"
   ]
  },
  {
   "cell_type": "markdown",
   "id": "3a88d7b6",
   "metadata": {},
   "source": [
    "# Test Network"
   ]
  },
  {
   "cell_type": "code",
   "execution_count": 1,
   "id": "1443d47e",
   "metadata": {},
   "outputs": [],
   "source": [
    "import os\n",
    "import torch\n",
    "import torch.nn as nn\n",
    "from torch.utils.data import Dataset, DataLoader\n",
    "from torch.utils.tensorboard import SummaryWriter\n",
    "\n",
    "# our scripts and functions\n",
    "from src.network import MultiLabelNet, MultiTaskNet\n",
    "from src.dataset import DECaLSDataset\n",
    "import settings as st"
   ]
  },
  {
   "cell_type": "code",
   "execution_count": 2,
   "id": "1ced7ca5",
   "metadata": {},
   "outputs": [
    {
     "name": "stdout",
     "output_type": "stream",
     "text": [
      "The number of training points is 189963\n",
      "The number of validation points is 12665\n"
     ]
    }
   ],
   "source": [
    "out_path = './output/'\n",
    "os.makedirs(out_path, exist_ok=True)\n",
    "\n",
    "# Set device to CUDA if a CUDA device is available, else CPU\n",
    "device = torch.device('cuda' if torch.cuda.is_available() else 'cpu')\n",
    "\n",
    "# create the dataloader\n",
    "train_dataset = DECaLSDataset(mode='train', augment=False, multi_task = True)\n",
    "val_dataset = DECaLSDataset(mode='validate', augment=False, multi_task = True)\n",
    "\n",
    "train_loader = DataLoader(dataset=train_dataset, batch_size=4, shuffle=True)\n",
    "val_loader = DataLoader(dataset=val_dataset, batch_size=4, shuffle=False)"
   ]
  },
  {
   "cell_type": "code",
   "execution_count": 3,
   "id": "f51c6272",
   "metadata": {},
   "outputs": [],
   "source": [
    "# %%capture\n",
    "# model = MultiLabelNet(backbone=\"resnet18\")\n",
    "# model.to(device)"
   ]
  },
  {
   "cell_type": "code",
   "execution_count": 4,
   "id": "b24cbe45",
   "metadata": {},
   "outputs": [],
   "source": [
    "LABELS_PER_TASK = {'task_1': 3,\n",
    "                   'task_2': 3,\n",
    "                   'task_3': 2,\n",
    "                   'task_4': 4,\n",
    "                   'task_5': 3,\n",
    "                   'task_6': 3,\n",
    "                   'task_7': 2,\n",
    "                   'task_8': 3,\n",
    "                   'task_9': 6,\n",
    "                   'task_10': 5\n",
    "                   }"
   ]
  },
  {
   "cell_type": "code",
   "execution_count": 5,
   "id": "0345c83b",
   "metadata": {},
   "outputs": [],
   "source": [
    "%%capture\n",
    "model = MultiTaskNet(backbone=\"resnet18\", output_size=LABELS_PER_TASK, resnet_task = True)\n",
    "model.to(device)"
   ]
  },
  {
   "cell_type": "code",
   "execution_count": 6,
   "id": "42a368df",
   "metadata": {},
   "outputs": [],
   "source": [
    "data = next(iter(train_loader))"
   ]
  },
  {
   "cell_type": "code",
   "execution_count": 7,
   "id": "577e225b",
   "metadata": {},
   "outputs": [],
   "source": [
    "def criterion(loss, outputs: nn.ModuleDict, labels: dict) -> torch.tensor:\n",
    "    losses = 0\n",
    "    for i, key in enumerate(outputs):\n",
    "        # print(outputs[key])\n",
    "        # print(labels[key])\n",
    "        losses += loss(outputs[key], labels[key].float().to(device))\n",
    "    return losses"
   ]
  },
  {
   "cell_type": "code",
   "execution_count": 7,
   "id": "445bd069",
   "metadata": {},
   "outputs": [],
   "source": [
    "outputs = model(data[0].to(device))"
   ]
  },
  {
   "cell_type": "code",
   "execution_count": 8,
   "id": "6e06d114",
   "metadata": {},
   "outputs": [],
   "source": [
    "outputs = model(data[0].to(device))\n",
    "labels = data[1]\n",
    "loss = nn.BCEWithLogitsLoss()\n",
    "l = criterion(loss, outputs, labels)"
   ]
  },
  {
   "cell_type": "markdown",
   "id": "547299e9",
   "metadata": {},
   "source": [
    "# If We Want to Use Shared Representation\n",
    "\n",
    "- Also implemented a ResNet in 1D. "
   ]
  },
  {
   "cell_type": "code",
   "execution_count": null,
   "id": "ececd896",
   "metadata": {},
   "outputs": [],
   "source": [
    "import torch.nn.functional as F"
   ]
  },
  {
   "cell_type": "code",
   "execution_count": 26,
   "id": "4aa01159",
   "metadata": {},
   "outputs": [],
   "source": [
    "tf_last_layer_chopped = nn.Sequential(*list(model.children())[:-1])"
   ]
  },
  {
   "cell_type": "code",
   "execution_count": 32,
   "id": "2996b7b3",
   "metadata": {},
   "outputs": [],
   "source": [
    "feat = tf_last_layer_chopped(data[0].to(device))"
   ]
  },
  {
   "cell_type": "code",
   "execution_count": 34,
   "id": "0856c3c0",
   "metadata": {},
   "outputs": [],
   "source": [
    "f = feat.to('cpu')"
   ]
  },
  {
   "cell_type": "code",
   "execution_count": 69,
   "id": "32cdfccc",
   "metadata": {},
   "outputs": [],
   "source": [
    "conv1 = nn.Conv1d(1, 1, kernel_size=3, stride=2, padding = (3 - 1)//2)\n",
    "bn1 = nn.BatchNorm1d(1)\n",
    "conv2 = nn.Conv1d(1, 1, kernel_size=3, stride=2, padding = (3 - 1)//2)\n",
    "bn2 = nn.BatchNorm1d(1)"
   ]
  },
  {
   "cell_type": "code",
   "execution_count": 99,
   "id": "d1444b6f",
   "metadata": {},
   "outputs": [],
   "source": [
    "features = f.unsqueeze(1)"
   ]
  },
  {
   "cell_type": "code",
   "execution_count": 100,
   "id": "fe092e9b",
   "metadata": {},
   "outputs": [],
   "source": [
    "out = conv1(features)\n",
    "out = bn1(out)\n",
    "out = F.relu(out)\n",
    "out = conv2(out)\n",
    "out = bn2(out)"
   ]
  },
  {
   "cell_type": "code",
   "execution_count": 101,
   "id": "dbb7f414",
   "metadata": {},
   "outputs": [],
   "source": [
    "nout = out.shape[-1]\n",
    "nfeat = features.shape[-1]\n",
    "left = (1000 - nout) // 2\n",
    "right = 1000 - left - nout"
   ]
  },
  {
   "cell_type": "code",
   "execution_count": 102,
   "id": "cad2ab66",
   "metadata": {},
   "outputs": [],
   "source": [
    "out = F.pad(input=out, pad=(left, right), mode='constant', value=0)"
   ]
  },
  {
   "cell_type": "code",
   "execution_count": 103,
   "id": "2e029e64",
   "metadata": {},
   "outputs": [],
   "source": [
    "out += features\n",
    "out = F.relu(out)"
   ]
  },
  {
   "cell_type": "code",
   "execution_count": 107,
   "id": "6075ef45",
   "metadata": {},
   "outputs": [],
   "source": [
    "out = conv1(out)\n",
    "out = bn1(out)\n",
    "out = F.relu(out)\n",
    "out = conv2(out)\n",
    "out = bn2(out)"
   ]
  },
  {
   "cell_type": "code",
   "execution_count": 108,
   "id": "ca66512f",
   "metadata": {},
   "outputs": [
    {
     "data": {
      "text/plain": [
       "torch.Size([4, 1, 250])"
      ]
     },
     "execution_count": 108,
     "metadata": {},
     "output_type": "execute_result"
    }
   ],
   "source": [
    "out.shape"
   ]
  },
  {
   "cell_type": "code",
   "execution_count": 138,
   "id": "19fb9a1b",
   "metadata": {},
   "outputs": [],
   "source": [
    "resnet_layer = nn.Sequential(*list(model.children())[:-1])"
   ]
  },
  {
   "cell_type": "code",
   "execution_count": 135,
   "id": "36de334d",
   "metadata": {},
   "outputs": [],
   "source": [
    "model_1 = nn.Sequential(*list(model.children())[1]['task_1'].layers[:-1])"
   ]
  },
  {
   "cell_type": "code",
   "execution_count": 137,
   "id": "dd112f10",
   "metadata": {},
   "outputs": [],
   "source": [
    "# from torchsummary import summary\n",
    "# summary(model, (1, 224, 224))"
   ]
  },
  {
   "cell_type": "markdown",
   "id": "bddc94c8",
   "metadata": {},
   "source": [
    "# Embedding Vector"
   ]
  },
  {
   "cell_type": "code",
   "execution_count": 74,
   "id": "828e8e7e",
   "metadata": {},
   "outputs": [],
   "source": [
    "import torch\n",
    "import torch.nn as nn \n",
    "from src.network import MultiLabelNet\n",
    "from src.dataset import DECaLSDataset\n",
    "from torch.utils.data import DataLoader\n",
    "import settings as st\n",
    "\n",
    "import os\n",
    "from PIL import Image\n",
    "import matplotlib.pylab as plt"
   ]
  },
  {
   "cell_type": "code",
   "execution_count": 75,
   "id": "611c5416",
   "metadata": {},
   "outputs": [],
   "source": [
    "device = torch.device('cuda' if torch.cuda.is_available() else 'cpu')"
   ]
  },
  {
   "cell_type": "code",
   "execution_count": 76,
   "id": "4dd44a3d",
   "metadata": {},
   "outputs": [
    {
     "name": "stderr",
     "output_type": "stream",
     "text": [
      "UsageError: Line magic function `%%capture` not found.\n"
     ]
    }
   ],
   "source": [
    "# load the model\n",
    "%%capture\n",
    "loaded_model = torch.load('../ml-models/resnet_18_multilabel_24.pth')\n",
    "model = MultiLabelNet(backbone=\"resnet18\")\n",
    "model.to(device)\n",
    "model.load_state_dict(loaded_model)\n",
    "model.eval()"
   ]
  },
  {
   "cell_type": "code",
   "execution_count": 77,
   "id": "7f1415cb",
   "metadata": {},
   "outputs": [],
   "source": [
    "tf_last_layer_chopped = nn.Sequential(*list(model.children())[:-1])"
   ]
  },
  {
   "cell_type": "code",
   "execution_count": 78,
   "id": "c603b66b",
   "metadata": {},
   "outputs": [
    {
     "name": "stdout",
     "output_type": "stream",
     "text": [
      "The number of test points is 50658\n"
     ]
    }
   ],
   "source": [
    "test_dataset = DECaLSDataset(mode='test', augment=False)\n",
    "test_loader = DataLoader(dataset=test_dataset, batch_size=1, shuffle=False)"
   ]
  },
  {
   "cell_type": "code",
   "execution_count": 96,
   "id": "7d86ed04",
   "metadata": {},
   "outputs": [],
   "source": [
    "d1 = test_loader.dataset[0]\n",
    "d2 = test_loader.dataset[1]\n",
    "d3 = test_loader.dataset[2]\n",
    "d4 = test_loader.dataset[3]"
   ]
  },
  {
   "cell_type": "code",
   "execution_count": 97,
   "id": "05c9b8b1",
   "metadata": {},
   "outputs": [],
   "source": [
    "o1 = tf_last_layer_chopped(d1[0].view(1,1,224,224).to(device))\n",
    "o2 = tf_last_layer_chopped(d2[0].view(1,1,224,224).to(device))\n",
    "o3 = tf_last_layer_chopped(d3[0].view(1,1,224,224).to(device))\n",
    "o4 = tf_last_layer_chopped(d4[0].view(1,1,224,224).to(device))"
   ]
  },
  {
   "cell_type": "code",
   "execution_count": 81,
   "id": "6b43b475",
   "metadata": {},
   "outputs": [
    {
     "data": {
      "text/plain": [
       "tensor([1, 0, 0, 0, 1, 1, 0, 1, 1, 0, 0, 1, 0, 0, 0, 0, 1, 0, 0, 0, 0, 0, 1, 1,\n",
       "        0, 1, 0, 0, 0, 0, 1, 0, 0, 0])"
      ]
     },
     "execution_count": 81,
     "metadata": {},
     "output_type": "execute_result"
    }
   ],
   "source": [
    "d1[1]"
   ]
  },
  {
   "cell_type": "code",
   "execution_count": 82,
   "id": "cc80097c",
   "metadata": {},
   "outputs": [
    {
     "data": {
      "text/plain": [
       "tensor([1, 0, 0, 0, 0, 0, 0, 0, 0, 0, 0, 0, 0, 0, 0, 1, 0, 0, 0, 0, 0, 0, 0, 0,\n",
       "        0, 0, 0, 0, 0, 0, 1, 0, 0, 0])"
      ]
     },
     "execution_count": 82,
     "metadata": {},
     "output_type": "execute_result"
    }
   ],
   "source": [
    "d2[1]"
   ]
  },
  {
   "cell_type": "code",
   "execution_count": 83,
   "id": "41bbd690",
   "metadata": {},
   "outputs": [
    {
     "data": {
      "text/plain": [
       "tensor([0, 1, 0, 0, 1, 1, 0, 0, 0, 1, 0, 0, 0, 1, 0, 0, 0, 0, 0, 0, 1, 0, 1, 0,\n",
       "        0, 0, 0, 0, 0, 0, 1, 0, 0, 0])"
      ]
     },
     "execution_count": 83,
     "metadata": {},
     "output_type": "execute_result"
    }
   ],
   "source": [
    "d3[1]"
   ]
  },
  {
   "cell_type": "code",
   "execution_count": 98,
   "id": "c4a48268",
   "metadata": {},
   "outputs": [
    {
     "data": {
      "text/plain": [
       "tensor([0, 1, 0, 0, 1, 1, 0, 0, 0, 1, 0, 0, 1, 0, 0, 0, 1, 0, 0, 0, 0, 1, 0, 0,\n",
       "        0, 0, 0, 0, 0, 1, 0, 0, 0, 0])"
      ]
     },
     "execution_count": 98,
     "metadata": {},
     "output_type": "execute_result"
    }
   ],
   "source": [
    "d4[1]"
   ]
  },
  {
   "cell_type": "markdown",
   "id": "12fedc9a",
   "metadata": {},
   "source": [
    "### Pairwise Distance"
   ]
  },
  {
   "cell_type": "code",
   "execution_count": 92,
   "id": "363c9d22",
   "metadata": {},
   "outputs": [],
   "source": [
    "pdist = nn.PairwiseDistance(p=2)"
   ]
  },
  {
   "cell_type": "code",
   "execution_count": 93,
   "id": "0c1e6edd",
   "metadata": {},
   "outputs": [
    {
     "data": {
      "text/plain": [
       "tensor([7.0306], device='cuda:0', grad_fn=<NormBackward1>)"
      ]
     },
     "execution_count": 93,
     "metadata": {},
     "output_type": "execute_result"
    }
   ],
   "source": [
    "pdist(o1, o2)"
   ]
  },
  {
   "cell_type": "code",
   "execution_count": 94,
   "id": "8598b439",
   "metadata": {},
   "outputs": [
    {
     "data": {
      "text/plain": [
       "tensor([6.3318], device='cuda:0', grad_fn=<NormBackward1>)"
      ]
     },
     "execution_count": 94,
     "metadata": {},
     "output_type": "execute_result"
    }
   ],
   "source": [
    "pdist(o1, o3)"
   ]
  },
  {
   "cell_type": "code",
   "execution_count": 95,
   "id": "761b0efc",
   "metadata": {},
   "outputs": [
    {
     "data": {
      "text/plain": [
       "tensor([7.0053], device='cuda:0', grad_fn=<NormBackward1>)"
      ]
     },
     "execution_count": 95,
     "metadata": {},
     "output_type": "execute_result"
    }
   ],
   "source": [
    "pdist(o2, o3)"
   ]
  },
  {
   "cell_type": "code",
   "execution_count": 103,
   "id": "22258caa",
   "metadata": {},
   "outputs": [
    {
     "data": {
      "text/plain": [
       "tensor([8.2538], device='cuda:0', grad_fn=<NormBackward1>)"
      ]
     },
     "execution_count": 103,
     "metadata": {},
     "output_type": "execute_result"
    }
   ],
   "source": [
    "pdist(o1, o4)"
   ]
  },
  {
   "cell_type": "code",
   "execution_count": 104,
   "id": "cb2d1cf1",
   "metadata": {},
   "outputs": [
    {
     "data": {
      "text/plain": [
       "tensor([9.2016], device='cuda:0', grad_fn=<NormBackward1>)"
      ]
     },
     "execution_count": 104,
     "metadata": {},
     "output_type": "execute_result"
    }
   ],
   "source": [
    "pdist(o2, o4)"
   ]
  },
  {
   "cell_type": "code",
   "execution_count": 105,
   "id": "9125ee93",
   "metadata": {},
   "outputs": [
    {
     "data": {
      "text/plain": [
       "tensor([6.2826], device='cuda:0', grad_fn=<NormBackward1>)"
      ]
     },
     "execution_count": 105,
     "metadata": {},
     "output_type": "execute_result"
    }
   ],
   "source": [
    "pdist(o3, o4)"
   ]
  },
  {
   "cell_type": "markdown",
   "id": "e825cbff",
   "metadata": {},
   "source": [
    "### Cosine Similarity"
   ]
  },
  {
   "cell_type": "code",
   "execution_count": 84,
   "id": "a482d898",
   "metadata": {},
   "outputs": [],
   "source": [
    "cos = nn.CosineSimilarity(dim=1, eps=1e-6)"
   ]
  },
  {
   "cell_type": "code",
   "execution_count": 85,
   "id": "42aea521",
   "metadata": {},
   "outputs": [
    {
     "data": {
      "text/plain": [
       "tensor([0.5844], device='cuda:0', grad_fn=<DivBackward0>)"
      ]
     },
     "execution_count": 85,
     "metadata": {},
     "output_type": "execute_result"
    }
   ],
   "source": [
    "cos(o1, o2)"
   ]
  },
  {
   "cell_type": "code",
   "execution_count": 86,
   "id": "213cd478",
   "metadata": {},
   "outputs": [
    {
     "data": {
      "text/plain": [
       "tensor([0.5753], device='cuda:0', grad_fn=<DivBackward0>)"
      ]
     },
     "execution_count": 86,
     "metadata": {},
     "output_type": "execute_result"
    }
   ],
   "source": [
    "cos(o1, o3)"
   ]
  },
  {
   "cell_type": "code",
   "execution_count": 87,
   "id": "c169d258",
   "metadata": {},
   "outputs": [
    {
     "data": {
      "text/plain": [
       "tensor([0.5888], device='cuda:0', grad_fn=<DivBackward0>)"
      ]
     },
     "execution_count": 87,
     "metadata": {},
     "output_type": "execute_result"
    }
   ],
   "source": [
    "cos(o2, o3)"
   ]
  },
  {
   "cell_type": "code",
   "execution_count": 106,
   "id": "0224d921",
   "metadata": {},
   "outputs": [
    {
     "data": {
      "text/plain": [
       "tensor([0.7079], device='cuda:0', grad_fn=<DivBackward0>)"
      ]
     },
     "execution_count": 106,
     "metadata": {},
     "output_type": "execute_result"
    }
   ],
   "source": [
    "cos(o1, o4)"
   ]
  },
  {
   "cell_type": "code",
   "execution_count": 107,
   "id": "b561ce53",
   "metadata": {},
   "outputs": [
    {
     "data": {
      "text/plain": [
       "tensor([0.6127], device='cuda:0', grad_fn=<DivBackward0>)"
      ]
     },
     "execution_count": 107,
     "metadata": {},
     "output_type": "execute_result"
    }
   ],
   "source": [
    "cos(o2, o4)"
   ]
  },
  {
   "cell_type": "code",
   "execution_count": 108,
   "id": "aa75de51",
   "metadata": {},
   "outputs": [
    {
     "data": {
      "text/plain": [
       "tensor([0.8876], device='cuda:0', grad_fn=<DivBackward0>)"
      ]
     },
     "execution_count": 108,
     "metadata": {},
     "output_type": "execute_result"
    }
   ],
   "source": [
    "cos(o3, o4)"
   ]
  },
  {
   "cell_type": "code",
   "execution_count": 101,
   "id": "545bc54a",
   "metadata": {},
   "outputs": [
    {
     "data": {
      "text/html": [
       "<div>\n",
       "<style scoped>\n",
       "    .dataframe tbody tr th:only-of-type {\n",
       "        vertical-align: middle;\n",
       "    }\n",
       "\n",
       "    .dataframe tbody tr th {\n",
       "        vertical-align: top;\n",
       "    }\n",
       "\n",
       "    .dataframe thead th {\n",
       "        text-align: right;\n",
       "    }\n",
       "</style>\n",
       "<table border=\"1\" class=\"dataframe\">\n",
       "  <thead>\n",
       "    <tr style=\"text-align: right;\">\n",
       "      <th></th>\n",
       "      <th>iauname</th>\n",
       "      <th>png_loc</th>\n",
       "      <th>smooth-or-featured_smooth_fraction</th>\n",
       "      <th>smooth-or-featured_featured-or-disk_fraction</th>\n",
       "      <th>smooth-or-featured_artifact_fraction</th>\n",
       "      <th>disk-edge-on_yes_fraction</th>\n",
       "      <th>disk-edge-on_no_fraction</th>\n",
       "      <th>has-spiral-arms_yes_fraction</th>\n",
       "      <th>has-spiral-arms_no_fraction</th>\n",
       "      <th>bar_strong_fraction</th>\n",
       "      <th>...</th>\n",
       "      <th>spiral-arm-count_1_fraction</th>\n",
       "      <th>spiral-arm-count_2_fraction</th>\n",
       "      <th>spiral-arm-count_3_fraction</th>\n",
       "      <th>spiral-arm-count_4_fraction</th>\n",
       "      <th>spiral-arm-count_more-than-4_fraction</th>\n",
       "      <th>spiral-arm-count_cant-tell_fraction</th>\n",
       "      <th>merging_none_fraction</th>\n",
       "      <th>merging_minor-disturbance_fraction</th>\n",
       "      <th>merging_major-disturbance_fraction</th>\n",
       "      <th>merging_merger_fraction</th>\n",
       "    </tr>\n",
       "  </thead>\n",
       "  <tbody>\n",
       "    <tr>\n",
       "      <th>0</th>\n",
       "      <td>J140957.60+062506.1</td>\n",
       "      <td>J140/J140957.60+062506.1.png</td>\n",
       "      <td>1</td>\n",
       "      <td>0</td>\n",
       "      <td>0</td>\n",
       "      <td>0</td>\n",
       "      <td>1</td>\n",
       "      <td>1</td>\n",
       "      <td>0</td>\n",
       "      <td>1</td>\n",
       "      <td>...</td>\n",
       "      <td>0</td>\n",
       "      <td>1</td>\n",
       "      <td>0</td>\n",
       "      <td>0</td>\n",
       "      <td>0</td>\n",
       "      <td>0</td>\n",
       "      <td>1</td>\n",
       "      <td>0</td>\n",
       "      <td>0</td>\n",
       "      <td>0</td>\n",
       "    </tr>\n",
       "    <tr>\n",
       "      <th>1</th>\n",
       "      <td>J164313.15+261827.0</td>\n",
       "      <td>J164/J164313.15+261827.0.png</td>\n",
       "      <td>1</td>\n",
       "      <td>0</td>\n",
       "      <td>0</td>\n",
       "      <td>0</td>\n",
       "      <td>0</td>\n",
       "      <td>0</td>\n",
       "      <td>0</td>\n",
       "      <td>0</td>\n",
       "      <td>...</td>\n",
       "      <td>0</td>\n",
       "      <td>0</td>\n",
       "      <td>0</td>\n",
       "      <td>0</td>\n",
       "      <td>0</td>\n",
       "      <td>0</td>\n",
       "      <td>1</td>\n",
       "      <td>0</td>\n",
       "      <td>0</td>\n",
       "      <td>0</td>\n",
       "    </tr>\n",
       "    <tr>\n",
       "      <th>2</th>\n",
       "      <td>J150934.55+045229.1</td>\n",
       "      <td>J150/J150934.55+045229.1.png</td>\n",
       "      <td>0</td>\n",
       "      <td>1</td>\n",
       "      <td>0</td>\n",
       "      <td>0</td>\n",
       "      <td>1</td>\n",
       "      <td>1</td>\n",
       "      <td>0</td>\n",
       "      <td>0</td>\n",
       "      <td>...</td>\n",
       "      <td>0</td>\n",
       "      <td>0</td>\n",
       "      <td>0</td>\n",
       "      <td>0</td>\n",
       "      <td>0</td>\n",
       "      <td>0</td>\n",
       "      <td>1</td>\n",
       "      <td>0</td>\n",
       "      <td>0</td>\n",
       "      <td>0</td>\n",
       "    </tr>\n",
       "    <tr>\n",
       "      <th>3</th>\n",
       "      <td>J113334.66-021647.5</td>\n",
       "      <td>J113/J113334.66-021647.5.png</td>\n",
       "      <td>0</td>\n",
       "      <td>1</td>\n",
       "      <td>0</td>\n",
       "      <td>0</td>\n",
       "      <td>1</td>\n",
       "      <td>1</td>\n",
       "      <td>0</td>\n",
       "      <td>0</td>\n",
       "      <td>...</td>\n",
       "      <td>0</td>\n",
       "      <td>0</td>\n",
       "      <td>0</td>\n",
       "      <td>0</td>\n",
       "      <td>0</td>\n",
       "      <td>1</td>\n",
       "      <td>0</td>\n",
       "      <td>0</td>\n",
       "      <td>0</td>\n",
       "      <td>0</td>\n",
       "    </tr>\n",
       "    <tr>\n",
       "      <th>4</th>\n",
       "      <td>J101906.78+231837.7</td>\n",
       "      <td>J101/J101906.78+231837.7.png</td>\n",
       "      <td>1</td>\n",
       "      <td>0</td>\n",
       "      <td>0</td>\n",
       "      <td>0</td>\n",
       "      <td>1</td>\n",
       "      <td>0</td>\n",
       "      <td>1</td>\n",
       "      <td>0</td>\n",
       "      <td>...</td>\n",
       "      <td>0</td>\n",
       "      <td>0</td>\n",
       "      <td>0</td>\n",
       "      <td>0</td>\n",
       "      <td>0</td>\n",
       "      <td>0</td>\n",
       "      <td>0</td>\n",
       "      <td>0</td>\n",
       "      <td>0</td>\n",
       "      <td>1</td>\n",
       "    </tr>\n",
       "  </tbody>\n",
       "</table>\n",
       "<p>5 rows × 36 columns</p>\n",
       "</div>"
      ],
      "text/plain": [
       "               iauname                       png_loc  \\\n",
       "0  J140957.60+062506.1  J140/J140957.60+062506.1.png   \n",
       "1  J164313.15+261827.0  J164/J164313.15+261827.0.png   \n",
       "2  J150934.55+045229.1  J150/J150934.55+045229.1.png   \n",
       "3  J113334.66-021647.5  J113/J113334.66-021647.5.png   \n",
       "4  J101906.78+231837.7  J101/J101906.78+231837.7.png   \n",
       "\n",
       "   smooth-or-featured_smooth_fraction  \\\n",
       "0                                   1   \n",
       "1                                   1   \n",
       "2                                   0   \n",
       "3                                   0   \n",
       "4                                   1   \n",
       "\n",
       "   smooth-or-featured_featured-or-disk_fraction  \\\n",
       "0                                             0   \n",
       "1                                             0   \n",
       "2                                             1   \n",
       "3                                             1   \n",
       "4                                             0   \n",
       "\n",
       "   smooth-or-featured_artifact_fraction  disk-edge-on_yes_fraction  \\\n",
       "0                                     0                          0   \n",
       "1                                     0                          0   \n",
       "2                                     0                          0   \n",
       "3                                     0                          0   \n",
       "4                                     0                          0   \n",
       "\n",
       "   disk-edge-on_no_fraction  has-spiral-arms_yes_fraction  \\\n",
       "0                         1                             1   \n",
       "1                         0                             0   \n",
       "2                         1                             1   \n",
       "3                         1                             1   \n",
       "4                         1                             0   \n",
       "\n",
       "   has-spiral-arms_no_fraction  bar_strong_fraction  ...  \\\n",
       "0                            0                    1  ...   \n",
       "1                            0                    0  ...   \n",
       "2                            0                    0  ...   \n",
       "3                            0                    0  ...   \n",
       "4                            1                    0  ...   \n",
       "\n",
       "   spiral-arm-count_1_fraction  spiral-arm-count_2_fraction  \\\n",
       "0                            0                            1   \n",
       "1                            0                            0   \n",
       "2                            0                            0   \n",
       "3                            0                            0   \n",
       "4                            0                            0   \n",
       "\n",
       "   spiral-arm-count_3_fraction  spiral-arm-count_4_fraction  \\\n",
       "0                            0                            0   \n",
       "1                            0                            0   \n",
       "2                            0                            0   \n",
       "3                            0                            0   \n",
       "4                            0                            0   \n",
       "\n",
       "   spiral-arm-count_more-than-4_fraction  spiral-arm-count_cant-tell_fraction  \\\n",
       "0                                      0                                    0   \n",
       "1                                      0                                    0   \n",
       "2                                      0                                    0   \n",
       "3                                      0                                    1   \n",
       "4                                      0                                    0   \n",
       "\n",
       "   merging_none_fraction  merging_minor-disturbance_fraction  \\\n",
       "0                      1                                   0   \n",
       "1                      1                                   0   \n",
       "2                      1                                   0   \n",
       "3                      0                                   0   \n",
       "4                      0                                   0   \n",
       "\n",
       "   merging_major-disturbance_fraction  merging_merger_fraction  \n",
       "0                                   0                        0  \n",
       "1                                   0                        0  \n",
       "2                                   0                        0  \n",
       "3                                   0                        0  \n",
       "4                                   0                        1  \n",
       "\n",
       "[5 rows x 36 columns]"
      ]
     },
     "execution_count": 101,
     "metadata": {},
     "output_type": "execute_result"
    }
   ],
   "source": [
    "test_dataset.desc.iloc[0:5]"
   ]
  },
  {
   "cell_type": "code",
   "execution_count": 119,
   "id": "9caa1a0b",
   "metadata": {},
   "outputs": [
    {
     "data": {
      "image/png": "[encoded data removed]",
      "text/plain": [
       "<Figure size 864x576 with 4 Axes>"
      ]
     },
     "metadata": {
      "needs_background": "light"
     },
     "output_type": "display_data"
    }
   ],
   "source": [
    "name = 'copper'\n",
    "plt.figure(figsize = (12, 8))\n",
    "plt.subplot(141)\n",
    "plt.imshow(d1[0].permute(1, 2, 0), cmap=plt.get_cmap(name))\n",
    "plt.axis('off')\n",
    "\n",
    "plt.subplot(142)\n",
    "plt.imshow(d2[0].permute(1, 2, 0), cmap=plt.get_cmap(name))\n",
    "plt.axis('off')\n",
    "\n",
    "plt.subplot(143)\n",
    "plt.imshow(d3[0].permute(1, 2, 0), cmap=plt.get_cmap(name))\n",
    "plt.axis('off')\n",
    "\n",
    "plt.subplot(144)\n",
    "plt.imshow(d4[0].permute(1, 2, 0), cmap=plt.get_cmap(name))\n",
    "plt.axis('off')\n",
    "plt.show()"
   ]
  },
  {
   "cell_type": "markdown",
   "id": "66751434",
   "metadata": {},
   "source": [
    "# Pie Chart\n",
    "\n",
    "- To repeat this for the entire dataset. "
   ]
  },
  {
   "cell_type": "code",
   "execution_count": 55,
   "id": "81e43d53",
   "metadata": {},
   "outputs": [],
   "source": [
    "import pandas as pd\n",
    "import numpy as np \n",
    "import matplotlib.pylab as plt \n",
    "import matplotlib as cm\n",
    "import settings as st\n",
    "import os \n",
    "\n",
    "plt.rc('text', usetex=True)\n",
    "plt.rc('font',**{'family':'sans-serif','serif':['Palatino']})\n",
    "figSize  = (12, 8)\n",
    "fontSize = 20"
   ]
  },
  {
   "cell_type": "code",
   "execution_count": 56,
   "id": "75e6ecc6",
   "metadata": {},
   "outputs": [],
   "source": [
    "dataframe = pd.read_csv('ml/test.csv')"
   ]
  },
  {
   "cell_type": "code",
   "execution_count": 58,
   "id": "4805c189",
   "metadata": {},
   "outputs": [],
   "source": [
    "def calc_percent_task(table: pd.DataFrame, task_number: int = 1):\n",
    "    \n",
    "    # sum across columns\n",
    "    column_sum = table[st.LABELS['task_' + str(task_number)]].sum(0)\n",
    "    \n",
    "    # calculate percentage\n",
    "    percentage = column_sum / column_sum.sum() * 100\n",
    "    \n",
    "    return percentage"
   ]
  },
  {
   "cell_type": "code",
   "execution_count": 59,
   "id": "a03877d6",
   "metadata": {},
   "outputs": [],
   "source": [
    "test = [calc_percent_task(dataframe, i + 1) for i in range(10)]"
   ]
  },
  {
   "cell_type": "code",
   "execution_count": 60,
   "id": "9ee0afe8",
   "metadata": {},
   "outputs": [],
   "source": [
    "def plot_pie(index: int = 0, save: bool = False):\n",
    "    nobject = len(test[index].values)\n",
    "    colors = iter([plt.cm.Pastel1(k) for k in range(nobject)])\n",
    "    fig1, ax1 = plt.subplots()\n",
    "    fig1.set_figheight(8)\n",
    "    fig1.set_figwidth(8)\n",
    "    patches, texts, autotexts = ax1.pie(test[index].values, labels=test[index].keys(), autopct='%1.1f%%', shadow=False, colors = colors)\n",
    "    plt.setp(texts, fontsize=15)\n",
    "    plt.setp(autotexts, fontsize=15)\n",
    "\n",
    "    centre_circle = plt.Circle((0,0),0.70,fc='white')\n",
    "    fig = plt.gcf()\n",
    "    fig.gca().add_artist(centre_circle)\n",
    "\n",
    "    ax1.axis('equal') \n",
    "    \n",
    "    if save:\n",
    "        path = 'plots/pie/'\n",
    "        os.makedirs(path, exist_ok=True)\n",
    "        plt.savefig(path + 'pie_' + str(index) + '.pdf', bbox_inches = 'tight')\n",
    "        plt.savefig(path + 'pie_' + str(index) + '.png', bbox_inches = 'tight')\n",
    "        plt.close()\n",
    "        \n",
    "    else:\n",
    "        plt.show()"
   ]
  },
  {
   "cell_type": "code",
   "execution_count": null,
   "id": "11e56ee7",
   "metadata": {},
   "outputs": [],
   "source": [
    "# for i in range(10):\n",
    "#     plot_pie(i, True)"
   ]
  },
  {
   "cell_type": "markdown",
   "id": "a06f7873",
   "metadata": {},
   "source": [
    "# Predictions from MTL Network"
   ]
  },
  {
   "cell_type": "code",
   "execution_count": 1,
   "id": "6ddbb026",
   "metadata": {},
   "outputs": [],
   "source": [
    "import settings as st \n",
    "import utils.helpers as hp\n",
    "import src.processing as sp\n",
    "import pandas as pd"
   ]
  },
  {
   "cell_type": "code",
   "execution_count": 2,
   "id": "ec4503c7",
   "metadata": {},
   "outputs": [],
   "source": [
    "def labels_test(test: pd.DataFrame, index: int = 0):\n",
    "    \n",
    "    # the first two column names are the name and png locations\n",
    "    labels = test.iloc[index, 2:]\n",
    "    \n",
    "    label_dict = dict()\n",
    "    for i in range(st.NUM_TASKS):\n",
    "        task = labels[st.LABELS['task_' + str(i + 1)]].values.astype(int)\n",
    "        label_dict['task_' + str(i + 1)] = task\n",
    "        \n",
    "    return label_dict"
   ]
  },
  {
   "cell_type": "markdown",
   "id": "c4d59295",
   "metadata": {},
   "source": [
    "Load the predictions"
   ]
  },
  {
   "cell_type": "code",
   "execution_count": 3,
   "id": "75862a87",
   "metadata": {},
   "outputs": [],
   "source": [
    "preds = hp.load_pickle('results', 'predictions_mtl')"
   ]
  },
  {
   "cell_type": "markdown",
   "id": "6a42568a",
   "metadata": {},
   "source": [
    "Load the test set"
   ]
  },
  {
   "cell_type": "code",
   "execution_count": 4,
   "id": "d2d4d28e",
   "metadata": {},
   "outputs": [],
   "source": [
    "test = hp.load_csv(st.DATA_DIR, 'ml/test')"
   ]
  },
  {
   "cell_type": "markdown",
   "id": "896972d7",
   "metadata": {},
   "source": [
    "Make predictions on the first test point"
   ]
  },
  {
   "cell_type": "code",
   "execution_count": 50,
   "id": "694c1dfb",
   "metadata": {},
   "outputs": [],
   "source": [
    "idx = 180"
   ]
  },
  {
   "cell_type": "code",
   "execution_count": 51,
   "id": "af694f17",
   "metadata": {},
   "outputs": [],
   "source": [
    "test_point = labels_test(test, idx)"
   ]
  },
  {
   "cell_type": "code",
   "execution_count": 52,
   "id": "e8fb9007",
   "metadata": {},
   "outputs": [
    {
     "data": {
      "text/plain": [
       "{'task_1': array([0, 1, 0]),\n",
       " 'task_2': array([0, 1, 0]),\n",
       " 'task_3': array([0, 1]),\n",
       " 'task_4': array([0, 0, 0, 1]),\n",
       " 'task_5': array([1, 0, 0]),\n",
       " 'task_6': array([1, 0, 0]),\n",
       " 'task_7': array([1, 0]),\n",
       " 'task_8': array([0, 1, 1]),\n",
       " 'task_9': array([0, 1, 0, 0, 0, 0]),\n",
       " 'task_10': array([0, 0, 1, 0, 0])}"
      ]
     },
     "execution_count": 52,
     "metadata": {},
     "output_type": "execute_result"
    }
   ],
   "source": [
    "test_point"
   ]
  },
  {
   "cell_type": "code",
   "execution_count": 53,
   "id": "8d5a3ec4",
   "metadata": {},
   "outputs": [
    {
     "data": {
      "text/plain": [
       "array(['Featured or Disk', 'Edge On Disk (No)', 'No Bar',\n",
       "       'Spiral Arms (Yes)', 'Spiral Winding (Medium)', 'Spiral Arms (2)',\n",
       "       'Central Bulge (Moderate)', 'Merging (None)'], dtype='<U24')"
      ]
     },
     "execution_count": 53,
     "metadata": {},
     "output_type": "execute_result"
    }
   ],
   "source": [
    "sp.find_labels(test_point)"
   ]
  },
  {
   "cell_type": "code",
   "execution_count": 54,
   "id": "d23916c7",
   "metadata": {},
   "outputs": [
    {
     "data": {
      "text/plain": [
       "array(['Smooth', 'In Between', 'Merging (None)'], dtype='<U14')"
      ]
     },
     "execution_count": 54,
     "metadata": {},
     "output_type": "execute_result"
    }
   ],
   "source": [
    "sp.find_labels(preds[idx])"
   ]
  },
  {
   "cell_type": "code",
   "execution_count": null,
   "id": "27aefc4c",
   "metadata": {},
   "outputs": [],
   "source": []
  }
 ],
 "metadata": {
  "kernelspec": {
   "display_name": "Python 3",
   "language": "python",
   "name": "python3"
  },
  "language_info": {
   "codemirror_mode": {
    "name": "ipython",
    "version": 3
   },
   "file_extension": ".py",
   "mimetype": "text/x-python",
   "name": "python",
   "nbconvert_exporter": "python",
   "pygments_lexer": "ipython3",
   "version": "3.9.7"
  }
 },
 "nbformat": 4,
 "nbformat_minor": 5
}
