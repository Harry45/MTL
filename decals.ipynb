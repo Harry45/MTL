{
 "cells": [
  {
   "cell_type": "code",
   "execution_count": 1,
   "id": "224bdb22",
   "metadata": {},
   "outputs": [],
   "source": [
    "import os\n",
    "import pandas as pd \n",
    "import numpy as np \n",
    "\n",
    "# visualisation\n",
    "import matplotlib.pylab as plt\n",
    "import matplotlib.font_manager as fm\n",
    "\n",
    "# our scripts \n",
    "import src.processing as sp \n",
    "import settings as st\n",
    "import utils.helpers as hp\n",
    "import utils.imaging as ui"
   ]
  },
  {
   "cell_type": "markdown",
   "id": "dc407538",
   "metadata": {},
   "source": [
    "### Correct for the locations of the images "
   ]
  },
  {
   "cell_type": "code",
   "execution_count": 2,
   "id": "947f9d50",
   "metadata": {},
   "outputs": [],
   "source": [
    "%%capture\n",
    "!git pull"
   ]
  },
  {
   "cell_type": "code",
   "execution_count": 3,
   "id": "c8c87a22",
   "metadata": {},
   "outputs": [],
   "source": [
    "# dr5_desc = sp.correct_location('gz_decals_volunteers_5', save = True, filename='dr5_votes')"
   ]
  },
  {
   "cell_type": "markdown",
   "id": "8049dbe1",
   "metadata": {},
   "source": [
    "### The data with the votes"
   ]
  },
  {
   "cell_type": "code",
   "execution_count": 4,
   "id": "48fc4969",
   "metadata": {},
   "outputs": [],
   "source": [
    "dr5 = hp.read_parquet(st.DATA_DIR, 'descriptions/dr5_votes')"
   ]
  },
  {
   "cell_type": "markdown",
   "id": "fa7d3a89",
   "metadata": {},
   "source": [
    "### Generate the labels "
   ]
  },
  {
   "cell_type": "code",
   "execution_count": 5,
   "id": "71557c46",
   "metadata": {},
   "outputs": [],
   "source": [
    "labels = sp.generate_labels(dr5, nan_value = 0, save=False)"
   ]
  },
  {
   "cell_type": "code",
   "execution_count": 6,
   "id": "f686c703",
   "metadata": {},
   "outputs": [
    {
     "data": {
      "text/html": [
       "<div>\n",
       "<style scoped>\n",
       "    .dataframe tbody tr th:only-of-type {\n",
       "        vertical-align: middle;\n",
       "    }\n",
       "\n",
       "    .dataframe tbody tr th {\n",
       "        vertical-align: top;\n",
       "    }\n",
       "\n",
       "    .dataframe thead th {\n",
       "        text-align: right;\n",
       "    }\n",
       "</style>\n",
       "<table border=\"1\" class=\"dataframe\">\n",
       "  <thead>\n",
       "    <tr style=\"text-align: right;\">\n",
       "      <th></th>\n",
       "      <th>iauname</th>\n",
       "      <th>png_loc</th>\n",
       "      <th>smooth-or-featured_smooth_fraction</th>\n",
       "      <th>smooth-or-featured_featured-or-disk_fraction</th>\n",
       "      <th>smooth-or-featured_artifact_fraction</th>\n",
       "      <th>disk-edge-on_yes_fraction</th>\n",
       "      <th>disk-edge-on_no_fraction</th>\n",
       "      <th>has-spiral-arms_yes_fraction</th>\n",
       "      <th>has-spiral-arms_no_fraction</th>\n",
       "      <th>bar_strong_fraction</th>\n",
       "      <th>...</th>\n",
       "      <th>spiral-arm-count_1_fraction</th>\n",
       "      <th>spiral-arm-count_2_fraction</th>\n",
       "      <th>spiral-arm-count_3_fraction</th>\n",
       "      <th>spiral-arm-count_4_fraction</th>\n",
       "      <th>spiral-arm-count_more-than-4_fraction</th>\n",
       "      <th>spiral-arm-count_cant-tell_fraction</th>\n",
       "      <th>merging_none_fraction</th>\n",
       "      <th>merging_minor-disturbance_fraction</th>\n",
       "      <th>merging_major-disturbance_fraction</th>\n",
       "      <th>merging_merger_fraction</th>\n",
       "    </tr>\n",
       "  </thead>\n",
       "  <tbody>\n",
       "    <tr>\n",
       "      <th>0</th>\n",
       "      <td>J112953.88-000427.4</td>\n",
       "      <td>J112/J112953.88-000427.4.png</td>\n",
       "      <td>1</td>\n",
       "      <td>0</td>\n",
       "      <td>0</td>\n",
       "      <td>0</td>\n",
       "      <td>1</td>\n",
       "      <td>0</td>\n",
       "      <td>1</td>\n",
       "      <td>0</td>\n",
       "      <td>...</td>\n",
       "      <td>0</td>\n",
       "      <td>0</td>\n",
       "      <td>0</td>\n",
       "      <td>0</td>\n",
       "      <td>0</td>\n",
       "      <td>1</td>\n",
       "      <td>1</td>\n",
       "      <td>0</td>\n",
       "      <td>0</td>\n",
       "      <td>0</td>\n",
       "    </tr>\n",
       "    <tr>\n",
       "      <th>1</th>\n",
       "      <td>J104325.29+190335.0</td>\n",
       "      <td>J104/J104325.29+190335.0.png</td>\n",
       "      <td>1</td>\n",
       "      <td>0</td>\n",
       "      <td>0</td>\n",
       "      <td>0</td>\n",
       "      <td>1</td>\n",
       "      <td>0</td>\n",
       "      <td>1</td>\n",
       "      <td>0</td>\n",
       "      <td>...</td>\n",
       "      <td>0</td>\n",
       "      <td>0</td>\n",
       "      <td>0</td>\n",
       "      <td>0</td>\n",
       "      <td>0</td>\n",
       "      <td>0</td>\n",
       "      <td>0</td>\n",
       "      <td>0</td>\n",
       "      <td>0</td>\n",
       "      <td>0</td>\n",
       "    </tr>\n",
       "    <tr>\n",
       "      <th>2</th>\n",
       "      <td>J104629.54+115415.1</td>\n",
       "      <td>J104/J104629.54+115415.1.png</td>\n",
       "      <td>0</td>\n",
       "      <td>1</td>\n",
       "      <td>0</td>\n",
       "      <td>0</td>\n",
       "      <td>1</td>\n",
       "      <td>1</td>\n",
       "      <td>0</td>\n",
       "      <td>0</td>\n",
       "      <td>...</td>\n",
       "      <td>0</td>\n",
       "      <td>1</td>\n",
       "      <td>0</td>\n",
       "      <td>0</td>\n",
       "      <td>0</td>\n",
       "      <td>0</td>\n",
       "      <td>1</td>\n",
       "      <td>0</td>\n",
       "      <td>0</td>\n",
       "      <td>0</td>\n",
       "    </tr>\n",
       "    <tr>\n",
       "      <th>3</th>\n",
       "      <td>J082950.68+125621.8</td>\n",
       "      <td>J082/J082950.68+125621.8.png</td>\n",
       "      <td>0</td>\n",
       "      <td>1</td>\n",
       "      <td>0</td>\n",
       "      <td>1</td>\n",
       "      <td>0</td>\n",
       "      <td>0</td>\n",
       "      <td>0</td>\n",
       "      <td>0</td>\n",
       "      <td>...</td>\n",
       "      <td>0</td>\n",
       "      <td>0</td>\n",
       "      <td>0</td>\n",
       "      <td>0</td>\n",
       "      <td>0</td>\n",
       "      <td>0</td>\n",
       "      <td>1</td>\n",
       "      <td>0</td>\n",
       "      <td>0</td>\n",
       "      <td>0</td>\n",
       "    </tr>\n",
       "    <tr>\n",
       "      <th>4</th>\n",
       "      <td>J122056.00-015022.0</td>\n",
       "      <td>J122/J122056.00-015022.0.png</td>\n",
       "      <td>0</td>\n",
       "      <td>1</td>\n",
       "      <td>0</td>\n",
       "      <td>0</td>\n",
       "      <td>1</td>\n",
       "      <td>1</td>\n",
       "      <td>0</td>\n",
       "      <td>0</td>\n",
       "      <td>...</td>\n",
       "      <td>0</td>\n",
       "      <td>1</td>\n",
       "      <td>0</td>\n",
       "      <td>0</td>\n",
       "      <td>0</td>\n",
       "      <td>0</td>\n",
       "      <td>1</td>\n",
       "      <td>0</td>\n",
       "      <td>0</td>\n",
       "      <td>0</td>\n",
       "    </tr>\n",
       "  </tbody>\n",
       "</table>\n",
       "<p>5 rows × 36 columns</p>\n",
       "</div>"
      ],
      "text/plain": [
       "               iauname                       png_loc  \\\n",
       "0  J112953.88-000427.4  J112/J112953.88-000427.4.png   \n",
       "1  J104325.29+190335.0  J104/J104325.29+190335.0.png   \n",
       "2  J104629.54+115415.1  J104/J104629.54+115415.1.png   \n",
       "3  J082950.68+125621.8  J082/J082950.68+125621.8.png   \n",
       "4  J122056.00-015022.0  J122/J122056.00-015022.0.png   \n",
       "\n",
       "   smooth-or-featured_smooth_fraction  \\\n",
       "0                                   1   \n",
       "1                                   1   \n",
       "2                                   0   \n",
       "3                                   0   \n",
       "4                                   0   \n",
       "\n",
       "   smooth-or-featured_featured-or-disk_fraction  \\\n",
       "0                                             0   \n",
       "1                                             0   \n",
       "2                                             1   \n",
       "3                                             1   \n",
       "4                                             1   \n",
       "\n",
       "   smooth-or-featured_artifact_fraction  disk-edge-on_yes_fraction  \\\n",
       "0                                     0                          0   \n",
       "1                                     0                          0   \n",
       "2                                     0                          0   \n",
       "3                                     0                          1   \n",
       "4                                     0                          0   \n",
       "\n",
       "   disk-edge-on_no_fraction  has-spiral-arms_yes_fraction  \\\n",
       "0                         1                             0   \n",
       "1                         1                             0   \n",
       "2                         1                             1   \n",
       "3                         0                             0   \n",
       "4                         1                             1   \n",
       "\n",
       "   has-spiral-arms_no_fraction  bar_strong_fraction  ...  \\\n",
       "0                            1                    0  ...   \n",
       "1                            1                    0  ...   \n",
       "2                            0                    0  ...   \n",
       "3                            0                    0  ...   \n",
       "4                            0                    0  ...   \n",
       "\n",
       "   spiral-arm-count_1_fraction  spiral-arm-count_2_fraction  \\\n",
       "0                            0                            0   \n",
       "1                            0                            0   \n",
       "2                            0                            1   \n",
       "3                            0                            0   \n",
       "4                            0                            1   \n",
       "\n",
       "   spiral-arm-count_3_fraction  spiral-arm-count_4_fraction  \\\n",
       "0                            0                            0   \n",
       "1                            0                            0   \n",
       "2                            0                            0   \n",
       "3                            0                            0   \n",
       "4                            0                            0   \n",
       "\n",
       "   spiral-arm-count_more-than-4_fraction  spiral-arm-count_cant-tell_fraction  \\\n",
       "0                                      0                                    1   \n",
       "1                                      0                                    0   \n",
       "2                                      0                                    0   \n",
       "3                                      0                                    0   \n",
       "4                                      0                                    0   \n",
       "\n",
       "   merging_none_fraction  merging_minor-disturbance_fraction  \\\n",
       "0                      1                                   0   \n",
       "1                      0                                   0   \n",
       "2                      1                                   0   \n",
       "3                      1                                   0   \n",
       "4                      1                                   0   \n",
       "\n",
       "   merging_major-disturbance_fraction  merging_merger_fraction  \n",
       "0                                   0                        0  \n",
       "1                                   0                        0  \n",
       "2                                   0                        0  \n",
       "3                                   0                        0  \n",
       "4                                   0                        0  \n",
       "\n",
       "[5 rows x 36 columns]"
      ]
     },
     "execution_count": 6,
     "metadata": {},
     "output_type": "execute_result"
    }
   ],
   "source": [
    "labels.head()"
   ]
  },
  {
   "cell_type": "markdown",
   "id": "a26728e0",
   "metadata": {},
   "source": [
    "# Calculate the weights per class"
   ]
  },
  {
   "cell_type": "code",
   "execution_count": 7,
   "id": "3f8b3608",
   "metadata": {},
   "outputs": [],
   "source": [
    "labels_num = labels.iloc[:,2:]\n",
    "weights = labels_num.sum(axis=0)\n",
    "inv_weights = 1/weights\n",
    "inv_weights_norm = inv_weights/inv_weights.sum()"
   ]
  },
  {
   "cell_type": "markdown",
   "id": "5565db3f",
   "metadata": {},
   "source": [
    "# Split into train, test and validate"
   ]
  },
  {
   "cell_type": "code",
   "execution_count": 8,
   "id": "e1a271ec",
   "metadata": {},
   "outputs": [],
   "source": [
    "train_val_test = sp.split_data(labels, 0.2, 0.2, save=False)"
   ]
  },
  {
   "cell_type": "code",
   "execution_count": 9,
   "id": "5c25d8e7",
   "metadata": {},
   "outputs": [
    {
     "data": {
      "text/plain": [
       "(151970, 36)"
      ]
     },
     "execution_count": 9,
     "metadata": {},
     "output_type": "execute_result"
    }
   ],
   "source": [
    "train_val_test['train'].shape"
   ]
  },
  {
   "cell_type": "code",
   "execution_count": 10,
   "id": "82d9c52c",
   "metadata": {},
   "outputs": [
    {
     "data": {
      "text/plain": [
       "(50658, 36)"
      ]
     },
     "execution_count": 10,
     "metadata": {},
     "output_type": "execute_result"
    }
   ],
   "source": [
    "train_val_test['validate'].shape"
   ]
  },
  {
   "cell_type": "code",
   "execution_count": 11,
   "id": "1c4170c8",
   "metadata": {},
   "outputs": [
    {
     "data": {
      "text/plain": [
       "(50658, 36)"
      ]
     },
     "execution_count": 11,
     "metadata": {},
     "output_type": "execute_result"
    }
   ],
   "source": [
    "train_val_test['test'].shape"
   ]
  },
  {
   "cell_type": "code",
   "execution_count": 12,
   "id": "53d5fc34",
   "metadata": {},
   "outputs": [
    {
     "data": {
      "text/plain": [
       "(253286, 36)"
      ]
     },
     "execution_count": 12,
     "metadata": {},
     "output_type": "execute_result"
    }
   ],
   "source": [
    "labels.shape"
   ]
  },
  {
   "cell_type": "markdown",
   "id": "c3064da6",
   "metadata": {},
   "source": [
    "### DataLoader"
   ]
  },
  {
   "cell_type": "code",
   "execution_count": 13,
   "id": "cb383c45",
   "metadata": {},
   "outputs": [],
   "source": [
    "from src.dataset import DECaLSDataset\n",
    "from torch.utils.data import Dataset, DataLoader"
   ]
  },
  {
   "cell_type": "code",
   "execution_count": 14,
   "id": "cf151151",
   "metadata": {},
   "outputs": [],
   "source": [
    "traindataset = DECaLSDataset(mode = 'train', augment = False)"
   ]
  },
  {
   "cell_type": "code",
   "execution_count": 15,
   "id": "091348bb",
   "metadata": {},
   "outputs": [],
   "source": [
    "train_loader = DataLoader(dataset=traindataset, batch_size=4, shuffle=True)"
   ]
  },
  {
   "cell_type": "code",
   "execution_count": 16,
   "id": "09acd4d4",
   "metadata": {},
   "outputs": [],
   "source": [
    "dataiter = iter(train_loader)"
   ]
  },
  {
   "cell_type": "code",
   "execution_count": 17,
   "id": "c291e059",
   "metadata": {},
   "outputs": [],
   "source": [
    "data = dataiter.next()"
   ]
  },
  {
   "cell_type": "markdown",
   "id": "be195a55",
   "metadata": {},
   "source": [
    "# Test Network"
   ]
  },
  {
   "cell_type": "code",
   "execution_count": 18,
   "id": "771af423",
   "metadata": {},
   "outputs": [],
   "source": [
    "import os\n",
    "import torch\n",
    "import torch.nn as nn\n",
    "from torch.utils.data import Dataset, DataLoader\n",
    "from torch.utils.tensorboard import SummaryWriter\n",
    "\n",
    "# our scripts and functions\n",
    "from src.network import MultiLabelNet\n",
    "from src.dataset import DECaLSDataset\n",
    "import settings as st"
   ]
  },
  {
   "cell_type": "code",
   "execution_count": 19,
   "id": "c62d9f70",
   "metadata": {},
   "outputs": [],
   "source": [
    "out_path = './output/'\n",
    "os.makedirs(out_path, exist_ok=True)\n",
    "\n",
    "# Set device to CUDA if a CUDA device is available, else CPU\n",
    "device = torch.device('cuda' if torch.cuda.is_available() else 'cpu')\n",
    "\n",
    "# create the dataloader\n",
    "train_dataset = DECaLSDataset(mode='train', augment=False)\n",
    "val_dataset = DECaLSDataset(mode='validate', augment=False)\n",
    "\n",
    "train_loader = DataLoader(dataset=train_dataset, batch_size=4, shuffle=True)\n",
    "val_loader = DataLoader(dataset=val_dataset, batch_size=4, shuffle=False)"
   ]
  },
  {
   "cell_type": "code",
   "execution_count": 20,
   "id": "9ec5ecfb",
   "metadata": {},
   "outputs": [
    {
     "data": {
      "text/plain": [
       "MultiLabelNet(\n",
       "  (backbone): ResNet(\n",
       "    (conv1): Conv2d(1, 64, kernel_size=(7, 7), stride=(2, 2), padding=(3, 3), bias=False)\n",
       "    (bn1): BatchNorm2d(64, eps=1e-05, momentum=0.1, affine=True, track_running_stats=True)\n",
       "    (relu): ReLU(inplace=True)\n",
       "    (maxpool): MaxPool2d(kernel_size=3, stride=2, padding=1, dilation=1, ceil_mode=False)\n",
       "    (layer1): Sequential(\n",
       "      (0): BasicBlock(\n",
       "        (conv1): Conv2d(64, 64, kernel_size=(3, 3), stride=(1, 1), padding=(1, 1), bias=False)\n",
       "        (bn1): BatchNorm2d(64, eps=1e-05, momentum=0.1, affine=True, track_running_stats=True)\n",
       "        (relu): ReLU(inplace=True)\n",
       "        (conv2): Conv2d(64, 64, kernel_size=(3, 3), stride=(1, 1), padding=(1, 1), bias=False)\n",
       "        (bn2): BatchNorm2d(64, eps=1e-05, momentum=0.1, affine=True, track_running_stats=True)\n",
       "      )\n",
       "      (1): BasicBlock(\n",
       "        (conv1): Conv2d(64, 64, kernel_size=(3, 3), stride=(1, 1), padding=(1, 1), bias=False)\n",
       "        (bn1): BatchNorm2d(64, eps=1e-05, momentum=0.1, affine=True, track_running_stats=True)\n",
       "        (relu): ReLU(inplace=True)\n",
       "        (conv2): Conv2d(64, 64, kernel_size=(3, 3), stride=(1, 1), padding=(1, 1), bias=False)\n",
       "        (bn2): BatchNorm2d(64, eps=1e-05, momentum=0.1, affine=True, track_running_stats=True)\n",
       "      )\n",
       "    )\n",
       "    (layer2): Sequential(\n",
       "      (0): BasicBlock(\n",
       "        (conv1): Conv2d(64, 128, kernel_size=(3, 3), stride=(2, 2), padding=(1, 1), bias=False)\n",
       "        (bn1): BatchNorm2d(128, eps=1e-05, momentum=0.1, affine=True, track_running_stats=True)\n",
       "        (relu): ReLU(inplace=True)\n",
       "        (conv2): Conv2d(128, 128, kernel_size=(3, 3), stride=(1, 1), padding=(1, 1), bias=False)\n",
       "        (bn2): BatchNorm2d(128, eps=1e-05, momentum=0.1, affine=True, track_running_stats=True)\n",
       "        (downsample): Sequential(\n",
       "          (0): Conv2d(64, 128, kernel_size=(1, 1), stride=(2, 2), bias=False)\n",
       "          (1): BatchNorm2d(128, eps=1e-05, momentum=0.1, affine=True, track_running_stats=True)\n",
       "        )\n",
       "      )\n",
       "      (1): BasicBlock(\n",
       "        (conv1): Conv2d(128, 128, kernel_size=(3, 3), stride=(1, 1), padding=(1, 1), bias=False)\n",
       "        (bn1): BatchNorm2d(128, eps=1e-05, momentum=0.1, affine=True, track_running_stats=True)\n",
       "        (relu): ReLU(inplace=True)\n",
       "        (conv2): Conv2d(128, 128, kernel_size=(3, 3), stride=(1, 1), padding=(1, 1), bias=False)\n",
       "        (bn2): BatchNorm2d(128, eps=1e-05, momentum=0.1, affine=True, track_running_stats=True)\n",
       "      )\n",
       "    )\n",
       "    (layer3): Sequential(\n",
       "      (0): BasicBlock(\n",
       "        (conv1): Conv2d(128, 256, kernel_size=(3, 3), stride=(2, 2), padding=(1, 1), bias=False)\n",
       "        (bn1): BatchNorm2d(256, eps=1e-05, momentum=0.1, affine=True, track_running_stats=True)\n",
       "        (relu): ReLU(inplace=True)\n",
       "        (conv2): Conv2d(256, 256, kernel_size=(3, 3), stride=(1, 1), padding=(1, 1), bias=False)\n",
       "        (bn2): BatchNorm2d(256, eps=1e-05, momentum=0.1, affine=True, track_running_stats=True)\n",
       "        (downsample): Sequential(\n",
       "          (0): Conv2d(128, 256, kernel_size=(1, 1), stride=(2, 2), bias=False)\n",
       "          (1): BatchNorm2d(256, eps=1e-05, momentum=0.1, affine=True, track_running_stats=True)\n",
       "        )\n",
       "      )\n",
       "      (1): BasicBlock(\n",
       "        (conv1): Conv2d(256, 256, kernel_size=(3, 3), stride=(1, 1), padding=(1, 1), bias=False)\n",
       "        (bn1): BatchNorm2d(256, eps=1e-05, momentum=0.1, affine=True, track_running_stats=True)\n",
       "        (relu): ReLU(inplace=True)\n",
       "        (conv2): Conv2d(256, 256, kernel_size=(3, 3), stride=(1, 1), padding=(1, 1), bias=False)\n",
       "        (bn2): BatchNorm2d(256, eps=1e-05, momentum=0.1, affine=True, track_running_stats=True)\n",
       "      )\n",
       "    )\n",
       "    (layer4): Sequential(\n",
       "      (0): BasicBlock(\n",
       "        (conv1): Conv2d(256, 512, kernel_size=(3, 3), stride=(2, 2), padding=(1, 1), bias=False)\n",
       "        (bn1): BatchNorm2d(512, eps=1e-05, momentum=0.1, affine=True, track_running_stats=True)\n",
       "        (relu): ReLU(inplace=True)\n",
       "        (conv2): Conv2d(512, 512, kernel_size=(3, 3), stride=(1, 1), padding=(1, 1), bias=False)\n",
       "        (bn2): BatchNorm2d(512, eps=1e-05, momentum=0.1, affine=True, track_running_stats=True)\n",
       "        (downsample): Sequential(\n",
       "          (0): Conv2d(256, 512, kernel_size=(1, 1), stride=(2, 2), bias=False)\n",
       "          (1): BatchNorm2d(512, eps=1e-05, momentum=0.1, affine=True, track_running_stats=True)\n",
       "        )\n",
       "      )\n",
       "      (1): BasicBlock(\n",
       "        (conv1): Conv2d(512, 512, kernel_size=(3, 3), stride=(1, 1), padding=(1, 1), bias=False)\n",
       "        (bn1): BatchNorm2d(512, eps=1e-05, momentum=0.1, affine=True, track_running_stats=True)\n",
       "        (relu): ReLU(inplace=True)\n",
       "        (conv2): Conv2d(512, 512, kernel_size=(3, 3), stride=(1, 1), padding=(1, 1), bias=False)\n",
       "        (bn2): BatchNorm2d(512, eps=1e-05, momentum=0.1, affine=True, track_running_stats=True)\n",
       "      )\n",
       "    )\n",
       "    (avgpool): AdaptiveAvgPool2d(output_size=(1, 1))\n",
       "    (fc): Linear(in_features=512, out_features=1000, bias=True)\n",
       "  )\n",
       "  (head): Sequential(\n",
       "    (0): Dropout(p=0.2, inplace=False)\n",
       "    (1): Linear(in_features=1000, out_features=34, bias=True)\n",
       "  )\n",
       ")"
      ]
     },
     "execution_count": 20,
     "metadata": {},
     "output_type": "execute_result"
    }
   ],
   "source": [
    "# define the model\n",
    "model = MultiLabelNet(backbone=\"resnet18\")\n",
    "model.to(device)"
   ]
  },
  {
   "cell_type": "code",
   "execution_count": 22,
   "id": "b3e03c0a",
   "metadata": {},
   "outputs": [],
   "source": [
    "# to assign weights to this loss function\n",
    "weights = torch.tensor(st.CLASS_WEIGHTS)\n",
    "\n",
    "# set the optimizer\n",
    "optimizer = torch.optim.Adam(model.parameters(), lr=1E-4, weight_decay=1E-5)"
   ]
  },
  {
   "cell_type": "code",
   "execution_count": null,
   "id": "a6da422d",
   "metadata": {},
   "outputs": [],
   "source": [
    "model.parameters()"
   ]
  },
  {
   "cell_type": "code",
   "execution_count": 28,
   "id": "ea788383",
   "metadata": {},
   "outputs": [],
   "source": [
    "test = torch.tensor([[  1.0567,  -1.5172, -10.6859,  -3.7097,   1.5681,  -2.7092,   0.3964,\n",
    "            -5.4593,  -2.6822,   0.3939, -15.2788,  -2.7801,   0.2324,  -2.7833,\n",
    "            -9.1558,  -1.5297,   1.5854,  -6.4870,  -8.0428,  -6.4800,  -1.1258,\n",
    "            -3.6832,  -3.5413,  -3.9208, -10.3810,  -1.6498, -13.5035, -14.2177,\n",
    "           -15.4877,  -3.3631,   1.5496,  -4.7406,  -7.3878,  -8.1576]])"
   ]
  },
  {
   "cell_type": "code",
   "execution_count": 44,
   "id": "c2b3a995",
   "metadata": {},
   "outputs": [],
   "source": []
  },
  {
   "cell_type": "code",
   "execution_count": 45,
   "id": "9452ea89",
   "metadata": {},
   "outputs": [
    {
     "data": {
      "text/plain": [
       "tensor([[1, 0, 0, 0, 1, 0, 0, 0, 0, 0, 0, 0, 0, 0, 0, 0, 1, 0, 0, 0, 0, 0, 0, 0,\n",
       "         0, 0, 0, 0, 0, 0, 1, 0, 0, 0]], dtype=torch.int32)"
      ]
     },
     "execution_count": 45,
     "metadata": {},
     "output_type": "execute_result"
    }
   ],
   "source": []
  },
  {
   "cell_type": "code",
   "execution_count": 43,
   "id": "38d91069",
   "metadata": {},
   "outputs": [
    {
     "data": {
      "text/plain": [
       "tensor([[1, 0, 0, 0, 1, 0, 0, 0, 0, 0, 0, 0, 0, 0, 0, 0, 1, 0, 0, 0, 0, 0, 0, 0,\n",
       "         0, 0, 0, 0, 0, 0, 1, 0, 0, 0]], dtype=torch.int32)"
      ]
     },
     "execution_count": 43,
     "metadata": {},
     "output_type": "execute_result"
    }
   ],
   "source": []
  },
  {
   "cell_type": "code",
   "execution_count": null,
   "id": "4d606542",
   "metadata": {},
   "outputs": [],
   "source": []
  }
 ],
 "metadata": {
  "kernelspec": {
   "display_name": "Python 3",
   "language": "python",
   "name": "python3"
  },
  "language_info": {
   "codemirror_mode": {
    "name": "ipython",
    "version": 3
   },
   "file_extension": ".py",
   "mimetype": "text/x-python",
   "name": "python",
   "nbconvert_exporter": "python",
   "pygments_lexer": "ipython3",
   "version": "3.9.7"
  }
 },
 "nbformat": 4,
 "nbformat_minor": 5
}
