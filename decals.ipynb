{
 "cells": [
  {
   "cell_type": "code",
   "execution_count": 1,
   "id": "224bdb22",
   "metadata": {},
   "outputs": [],
   "source": [
    "import os\n",
    "import pandas as pd \n",
    "import numpy as np \n",
    "\n",
    "# visualisation\n",
    "import matplotlib.pylab as plt\n",
    "import matplotlib.font_manager as fm\n",
    "\n",
    "# our scripts \n",
    "import src.processing as sp \n",
    "import settings as st\n",
    "import utils.helpers as hp\n",
    "import utils.imaging as ui"
   ]
  },
  {
   "cell_type": "markdown",
   "id": "dc407538",
   "metadata": {},
   "source": [
    "### Correct for the locations of the images "
   ]
  },
  {
   "cell_type": "code",
   "execution_count": 2,
   "id": "c8c87a22",
   "metadata": {},
   "outputs": [],
   "source": [
    "# dr5_desc = sp.correct_location('gz_decals_volunteers_5', save = True, filename='dr5_votes')"
   ]
  },
  {
   "cell_type": "markdown",
   "id": "b7107707",
   "metadata": {},
   "source": [
    "### The data with the votes"
   ]
  },
  {
   "cell_type": "code",
   "execution_count": 3,
   "id": "843a3852",
   "metadata": {},
   "outputs": [],
   "source": [
    "dr5 = hp.read_parquet(st.data_dir, 'descriptions/dr5_votes')"
   ]
  },
  {
   "cell_type": "markdown",
   "id": "fa7d3a89",
   "metadata": {},
   "source": [
    "### Generate the labels "
   ]
  },
  {
   "cell_type": "code",
   "execution_count": 4,
   "id": "71557c46",
   "metadata": {},
   "outputs": [],
   "source": [
    "labels = sp.generate_labels(dr5, save=False)"
   ]
  },
  {
   "cell_type": "code",
   "execution_count": 5,
   "id": "2ca0e375",
   "metadata": {},
   "outputs": [],
   "source": [
    "train_val_test = sp.split_data(labels, 0.2, 0.2, save=False)"
   ]
  },
  {
   "cell_type": "code",
   "execution_count": 6,
   "id": "957d36ce",
   "metadata": {},
   "outputs": [
    {
     "data": {
      "text/plain": [
       "(151970, 36)"
      ]
     },
     "execution_count": 6,
     "metadata": {},
     "output_type": "execute_result"
    }
   ],
   "source": [
    "train_val_test['train'].shape"
   ]
  },
  {
   "cell_type": "code",
   "execution_count": 7,
   "id": "47a33ae5",
   "metadata": {},
   "outputs": [
    {
     "data": {
      "text/plain": [
       "(50658, 36)"
      ]
     },
     "execution_count": 7,
     "metadata": {},
     "output_type": "execute_result"
    }
   ],
   "source": [
    "train_val_test['validate'].shape"
   ]
  },
  {
   "cell_type": "code",
   "execution_count": 8,
   "id": "771cd690",
   "metadata": {},
   "outputs": [
    {
     "data": {
      "text/plain": [
       "(50658, 36)"
      ]
     },
     "execution_count": 8,
     "metadata": {},
     "output_type": "execute_result"
    }
   ],
   "source": [
    "train_val_test['test'].shape"
   ]
  },
  {
   "cell_type": "code",
   "execution_count": 10,
   "id": "8f6eb49e",
   "metadata": {},
   "outputs": [
    {
     "data": {
      "text/plain": [
       "(253286, 36)"
      ]
     },
     "execution_count": 10,
     "metadata": {},
     "output_type": "execute_result"
    }
   ],
   "source": [
    "labels.shape"
   ]
  },
  {
   "cell_type": "code",
   "execution_count": null,
   "id": "b5a87d8c",
   "metadata": {},
   "outputs": [],
   "source": []
  }
 ],
 "metadata": {
  "kernelspec": {
   "display_name": "Python 3",
   "language": "python",
   "name": "python3"
  },
  "language_info": {
   "codemirror_mode": {
    "name": "ipython",
    "version": 3
   },
   "file_extension": ".py",
   "mimetype": "text/x-python",
   "name": "python",
   "nbconvert_exporter": "python",
   "pygments_lexer": "ipython3",
   "version": "3.9.7"
  }
 },
 "nbformat": 4,
 "nbformat_minor": 5
}
